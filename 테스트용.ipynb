{
 "cells": [
  {
   "cell_type": "code",
   "execution_count": 27,
   "metadata": {
    "ExecuteTime": {
     "end_time": "2021-09-15T03:54:29.391267Z",
     "start_time": "2021-09-15T03:54:29.345309Z"
    },
    "id": "W-3J9eZjFi7n"
   },
   "outputs": [],
   "source": [
    "import numpy as np\n",
    "import pandas as pd\n",
    "import os\n",
    "import openpyxl\n",
    "import tensorflow as tf\n",
    "from openpyxl import load_workbook\n",
    "import matplotlib.pyplot as plt\n",
    "import matplotlib.ticker as ticker\n",
    "from pandas import DataFrame\n",
    "from sklearn.preprocessing import MinMaxScaler\n",
    "from pandas import concat\n",
    "from tensorflow.keras.layers import LSTM,Dense,GRU,Dropout,SimpleRNN\n",
    "from sklearn.metrics import mean_squared_error\n",
    "# from keras.callbacks import EarlyStopping, ModelCheckpoint\n",
    "from tensorflow.keras.models import Sequential\n",
    "from tensorflow.keras.layers import Dense\n"
   ]
  },
  {
   "cell_type": "code",
   "execution_count": 28,
   "metadata": {
    "ExecuteTime": {
     "end_time": "2021-09-15T03:54:29.606507Z",
     "start_time": "2021-09-15T03:54:29.594805Z"
    },
    "id": "sE9q8A6vJOhS"
   },
   "outputs": [
    {
     "data": {
      "text/plain": [
       "\"\\nfrom google.colab import drive\\ndrive.mount('/content/drive')\\n\""
      ]
     },
     "execution_count": 28,
     "metadata": {},
     "output_type": "execute_result"
    }
   ],
   "source": [
    "'''\n",
    "from google.colab import drive\n",
    "drive.mount('/content/drive')\n",
    "'''"
   ]
  },
  {
   "cell_type": "code",
   "execution_count": 29,
   "metadata": {
    "ExecuteTime": {
     "end_time": "2021-09-15T03:54:29.928145Z",
     "start_time": "2021-09-15T03:54:29.866730Z"
    },
    "id": "HguzcX5sFvNw"
   },
   "outputs": [],
   "source": [
    "def series_to_supervised(data, n_in=1, n_out=1, dropnan=True):\n",
    "    n_vars = 1 if type(data) is list else data.shape[1]\n",
    "    df = DataFrame(data)\n",
    "    cols, names = list(), list()\n",
    "    # input sequence (t-n, ... t-1)\n",
    "    for i in range(n_in, 0, -1):\n",
    "        cols.append(df.shift(i))\n",
    "        names += [('var%d(t-%d)' % (j + 1, i)) for j in range(n_vars)]\n",
    "    # forecast sequence (t, t+1, ... t+n)\n",
    "    for i in range(0, n_out):\n",
    "        cols.append(df.shift(-i))\n",
    "        if i == 0:\n",
    "            names += [('var%d(t)' % (j + 1)) for j in range(n_vars)]\n",
    "        else:\n",
    "            names += [('var%d(t+%d)' % (j + 1, i)) for j in range(n_vars)]\n",
    "    # put it all together\n",
    "    agg = concat(cols, axis=1)\n",
    "    agg.columns = names\n",
    "    # drop rows with NaN values\n",
    "    if dropnan:\n",
    "        agg.dropna(inplace=True)\n",
    "    return agg"
   ]
  },
  {
   "cell_type": "code",
   "execution_count": 30,
   "metadata": {
    "ExecuteTime": {
     "end_time": "2021-09-15T03:54:33.714022Z",
     "start_time": "2021-09-15T03:54:30.344596Z"
    },
    "id": "cdo9u99FB3FN"
   },
   "outputs": [],
   "source": [
    "import random as rn\n",
    "seed_num =42\n",
    "np.random.seed(seed_num)\n",
    "rn.seed(seed_num)\n",
    "tf.random.set_seed(seed_num)"
   ]
  },
  {
   "cell_type": "code",
   "execution_count": 31,
   "metadata": {
    "ExecuteTime": {
     "end_time": "2021-09-15T03:54:33.835408Z",
     "start_time": "2021-09-15T03:54:33.831400Z"
    },
    "id": "ZdR4KfojFzaH"
   },
   "outputs": [],
   "source": [
    "n_hours = 3\n",
    "n_features = 43\n",
    "'''\n",
    "train_nun_23 = 2694\n",
    "train_num_24 = 2789\n",
    "train_num_25 = 2892\n",
    "train_num_19 = 1934\n",
    "'''\n",
    "train_num_23 = 2694\n",
    "train_num_24 = 2788\n",
    "train_num_25 = 2891\n",
    "train_num_19 = 1933\n",
    "train_num_26= 3052"
   ]
  },
  {
   "cell_type": "code",
   "execution_count": 32,
   "metadata": {
    "ExecuteTime": {
     "end_time": "2021-09-15T03:54:36.881897Z",
     "start_time": "2021-09-15T03:54:33.967810Z"
    },
    "id": "P5zTTaMrF5eG"
   },
   "outputs": [],
   "source": [
    "# from google.colab import drive\n",
    "filename = 'j_rain_data.xlsx'\n",
    "\n",
    "df = pd.read_excel(filename)"
   ]
  },
  {
   "cell_type": "code",
   "execution_count": 33,
   "metadata": {
    "ExecuteTime": {
     "end_time": "2021-09-15T03:54:37.023537Z",
     "start_time": "2021-09-15T03:54:37.005023Z"
    },
    "id": "PeC_Na7pGFWS"
   },
   "outputs": [
    {
     "name": "stdout",
     "output_type": "stream",
     "text": [
      "[[  6.4       7.        7.      ...   2.54    122.61    189.1    ]\n",
      " [  6.3       7.        8.      ...   2.53    122.6     216.95197]\n",
      " [  6.4       7.        9.      ...   2.53    122.59    251.42442]\n",
      " ...\n",
      " [  2.3689    1.        0.      ...   3.13    129.98          nan]\n",
      " [  2.3689    1.        0.      ...   3.11    129.99          nan]\n",
      " [  2.3689    1.        0.      ...   3.1     130.            nan]]\n",
      "(2785, 1)\n",
      "[[ 302.8122 ]\n",
      " [ 384.78342]\n",
      " [ 512.5012 ]\n",
      " ...\n",
      " [1348.523  ]\n",
      " [1300.583  ]\n",
      " [1253.6309 ]]\n",
      "6.4\n"
     ]
    }
   ],
   "source": [
    "# df_metrix 만드는 과정\n",
    "df_matrix = df.to_numpy()\n",
    "\n",
    "\n",
    "df_matrix = df_matrix.astype('float32')\n",
    "df_matrix = df_matrix[:,5:]\n",
    "\n",
    "# scaler = MinMaxScaler(feature_range=(0, 1))\n",
    "# df_matrix = scaler.fit_transform(df_matrix)\n",
    "print(df_matrix)\n",
    "\n",
    "\n",
    "# print(df_matrix.shape)\n",
    "df_matrix1 = df_matrix[0:train_num_24, :] # 주 numpy\n",
    "# df_matrix2 = df_matrix[train_num_24-4:train_num_25,5:] \n",
    "y = df_matrix[n_hours:train_num_24,42:43]\n",
    "ans = df_matrix[train_num_23:train_num_24,5:6]\n",
    "\n",
    "print(y.shape)\n",
    "print(y)\n",
    "print(df_matrix[0,0])"
   ]
  },
  {
   "cell_type": "code",
   "execution_count": 34,
   "metadata": {
    "ExecuteTime": {
     "end_time": "2021-09-15T03:54:37.195862Z",
     "start_time": "2021-09-15T03:54:37.134080Z"
    },
    "id": "sIXZ9__XGOrQ"
   },
   "outputs": [
    {
     "name": "stdout",
     "output_type": "stream",
     "text": [
      "172\n",
      "(2785, 171)\n"
     ]
    },
    {
     "data": {
      "text/plain": [
       "array([[  6.4   ,   7.    ,   7.    , ...,  14.    ,   2.53  , 122.585 ],\n",
       "       [  6.3   ,   7.    ,   8.    , ...,  16.    ,   2.53  , 122.575 ],\n",
       "       [  6.4   ,   7.    ,   9.    , ...,  17.    ,   2.53  , 122.565 ],\n",
       "       ...,\n",
       "       [171.2724, 232.    , 141.    , ...,  73.    ,   4.76  , 122.94  ],\n",
       "       [166.8818, 232.    , 141.    , ...,  72.    ,   4.68  , 123.135 ],\n",
       "       [159.0198, 230.    , 136.    , ...,  72.    ,   4.62  , 123.32  ]],\n",
       "      dtype=float32)"
      ]
     },
     "execution_count": 34,
     "metadata": {},
     "output_type": "execute_result"
    }
   ],
   "source": [
    "# print(df_matrix)\n",
    "lag = series_to_supervised(df_matrix1, n_hours,1)\n",
    "\n",
    "# print(lag)\n",
    "print(lag.shape[1])\n",
    "# for i in range(215,258):\n",
    "#     lag.drop(lag.columns[[i]], axis = 1, inplace = True)\n",
    "\n",
    "\n",
    "lag = lag.values\n",
    "\n",
    "tmp = lag.shape[1]\n",
    "\n",
    "lag = lag[:,0:tmp-1]\n",
    "print(lag.shape)\n",
    "lag\n"
   ]
  },
  {
   "cell_type": "code",
   "execution_count": 35,
   "metadata": {
    "ExecuteTime": {
     "end_time": "2021-09-15T03:54:37.316361Z",
     "start_time": "2021-09-15T03:54:37.310008Z"
    },
    "id": "1NFZMZgeGUQO"
   },
   "outputs": [],
   "source": [
    "# n_train_hours = train_num_19\n",
    "train_X = lag\n",
    "# test_X = lag[n_train_hours:, :]\n",
    "# train_y = y[:n_train_hours, :]\n",
    "# test_y = y[n_train_hours:, :]"
   ]
  },
  {
   "cell_type": "code",
   "execution_count": 36,
   "metadata": {
    "ExecuteTime": {
     "end_time": "2021-09-15T03:54:37.442258Z",
     "start_time": "2021-09-15T03:54:37.432450Z"
    },
    "id": "ilggz1NPGU8W"
   },
   "outputs": [
    {
     "name": "stdout",
     "output_type": "stream",
     "text": [
      "train_X:  [[  6.4      7.       7.     ...  14.       2.53   122.585 ]\n",
      " [  6.3      7.       8.     ...  16.       2.53   122.575 ]\n",
      " [  6.4      7.       9.     ...  17.       2.53   122.565 ]\n",
      " ...\n",
      " [171.2724 232.     141.     ...  73.       4.76   122.94  ]\n",
      " [166.8818 232.     141.     ...  72.       4.68   123.135 ]\n",
      " [159.0198 230.     136.     ...  72.       4.62   123.32  ]]\n",
      "171\n",
      "(2785, 171) (2785, 1)\n"
     ]
    }
   ],
   "source": [
    "n_obs = n_hours * (n_features)\n",
    "# train_X, train_y = train[:, :n_obs], train[:, -130]\n",
    "print('train_X: ',train_X)\n",
    "# print('train_y: ',train_y)\n",
    "# test_X, test_y = test[:, :n_obs], test[:, -130]\n",
    "#print('test_y: ',test_y)\n",
    "# print(train_X.shape, len(train_X), test_X.shape)\n",
    "garo = train_X.shape[1]\n",
    "print(garo)\n",
    "# reshape input to be 3D [samples, timesteps, features]\n",
    "print(train_X.shape,y.shape)\n",
    "train_X = train_X.reshape((train_X.shape[0],1, train_X.shape[1]))\n",
    "# test_X = test_X.reshape((test_X.shape[0],1, test_X.shape[1]))\n",
    "\n",
    "# print(train_X.shape, train_y.shape, test_X.shape, test_y.shape)"
   ]
  },
  {
   "cell_type": "code",
   "execution_count": 37,
   "metadata": {
    "ExecuteTime": {
     "end_time": "2021-09-15T03:54:37.588652Z",
     "start_time": "2021-09-15T03:54:37.583226Z"
    },
    "id": "QD2R74DQMOSu"
   },
   "outputs": [],
   "source": [
    "#print('test_y: ',test_y)"
   ]
  },
  {
   "cell_type": "code",
   "execution_count": 38,
   "metadata": {
    "ExecuteTime": {
     "end_time": "2021-09-15T03:54:37.982761Z",
     "start_time": "2021-09-15T03:54:37.705383Z"
    },
    "id": "5W99LSWFGlov"
   },
   "outputs": [
    {
     "data": {
      "text/plain": [
       "Text(0, 0.5, 'AMOUNT')"
      ]
     },
     "execution_count": 38,
     "metadata": {},
     "output_type": "execute_result"
    },
    {
     "data": {
      "image/png": "[encoded data removed]",
      "text/plain": [
       "<Figure size 1440x720 with 1 Axes>"
      ]
     },
     "metadata": {
      "needs_background": "light"
     },
     "output_type": "display_data"
    }
   ],
   "source": [
    "# print(df_matrix[train_num_25-1][42])\n",
    "plt.figure(figsize=(20, 10))\n",
    "# sns.lineplot(y=df_scaled['유입량'], x=df['일자'])\n",
    "# plt.xlabel('TIME')\n",
    "# plt.ylabel('AMOUNT')\n",
    "plt.plot(df['유입량'])\n",
    "plt.xlabel('TIME')\n",
    "plt.ylabel('AMOUNT')"
   ]
  },
  {
   "cell_type": "code",
   "execution_count": 43,
   "metadata": {
    "ExecuteTime": {
     "end_time": "2021-09-15T03:55:04.743868Z",
     "start_time": "2021-09-15T03:55:04.737220Z"
    }
   },
   "outputs": [
    {
     "data": {
      "text/plain": [
       "array([0.00000e+00, 0.00000e+00, 1.77000e-02, 1.06310e+00, 2.92410e+00,\n",
       "       3.37890e+00, 3.80940e+00, 3.85360e+00, 3.85360e+00, 3.85360e+00,\n",
       "       3.85360e+00, 3.85360e+00, 3.85360e+00, 3.85360e+00, 3.89490e+00,\n",
       "       4.46730e+00, 5.54690e+00, 6.03330e+00, 6.32980e+00, 6.37690e+00,\n",
       "       6.40620e+00, 6.40620e+00, 6.40620e+00, 6.57350e+00, 6.80830e+00,\n",
       "       7.71000e+00, 8.66450e+00, 1.10720e+01, 1.45112e+01, 1.61824e+01,\n",
       "       1.62263e+01, 1.65255e+01, 1.66739e+01, 1.66739e+01, 1.67977e+01,\n",
       "       1.72907e+01, 1.79087e+01, 2.10407e+01, 2.68530e+01, 3.25293e+01,\n",
       "       4.62586e+01, 6.07836e+01, 6.49333e+01, 6.56568e+01, 6.57581e+01,\n",
       "       6.62908e+01, 6.69280e+01, 6.71688e+01, 6.72514e+01, 6.72514e+01,\n",
       "       6.73056e+01, 6.73056e+01, 6.73056e+01, 6.73056e+01, 6.73056e+01,\n",
       "       6.73056e+01, 6.73374e+01, 6.73374e+01, 6.73374e+01, 6.73374e+01,\n",
       "       6.73197e+01, 6.62743e+01, 6.44133e+01, 6.39585e+01, 6.35280e+01,\n",
       "       6.36653e+01, 6.36653e+01, 6.36653e+01, 6.36653e+01, 6.36653e+01,\n",
       "       6.36653e+01, 6.36653e+01, 6.36240e+01, 6.30516e+01, 6.19720e+01,\n",
       "       6.14856e+01, 6.18001e+01, 6.20611e+01, 6.24703e+01, 6.25019e+01,\n",
       "       6.25019e+01, 6.23346e+01, 6.20998e+01, 6.11981e+01, 6.02436e+01,\n",
       "       5.78361e+01, 5.43969e+01, 5.27257e+01, 5.27675e+01, 5.24683e+01,\n",
       "       5.23199e+01, 5.23394e+01, 5.22156e+01, 5.17226e+01, 5.11335e+01,\n",
       "       4.80015e+01, 4.21892e+01, 3.65129e+01, 2.27836e+01, 8.25860e+00,\n",
       "       4.10890e+00, 3.38540e+00, 3.28410e+00], dtype=float32)"
      ]
     },
     "execution_count": 43,
     "metadata": {},
     "output_type": "execute_result"
    }
   ],
   "source": [
    "one = df_matrix[train_num_24:train_num_25,0]\n",
    "one"
   ]
  },
  {
   "cell_type": "code",
   "execution_count": 25,
   "metadata": {
    "ExecuteTime": {
     "end_time": "2021-09-15T01:58:39.881170Z",
     "start_time": "2021-09-15T01:58:39.401783Z"
    }
   },
   "outputs": [
    {
     "data": {
      "image/png": "[encoded data removed]",
      "text/plain": [
       "<Figure size 432x288 with 1 Axes>"
      ]
     },
     "metadata": {
      "needs_background": "light"
     },
     "output_type": "display_data"
    }
   ],
   "source": [
    "one = df_matrix[train_num_24:train_num_25,0]\n",
    "two = df_matrix[train_num_24:train_num_25,1]\n",
    "three = df_matrix[train_num_24:train_num_25,2]\n",
    "four = df_matrix[train_num_24:train_num_25,3]\n",
    "five = df_matrix[train_num_24:train_num_25,4]\n",
    "\n",
    "plt.plot(one)\n",
    "plt.plot(two)\n",
    "plt.plot(three)\n",
    "plt.plot(four)\n",
    "plt.plot(five)\n",
    "# plt.plot(real)\n",
    "plt.show()"
   ]
  },
  {
   "cell_type": "code",
   "execution_count": 26,
   "metadata": {
    "ExecuteTime": {
     "end_time": "2021-09-15T02:26:45.207269Z",
     "start_time": "2021-09-15T02:26:45.163279Z"
    }
   },
   "outputs": [
    {
     "data": {
      "text/plain": [
       "2788"
      ]
     },
     "execution_count": 26,
     "metadata": {},
     "output_type": "execute_result"
    }
   ],
   "source": [
    "train_num_24"
   ]
  },
  {
   "cell_type": "code",
   "execution_count": 20,
   "metadata": {
    "ExecuteTime": {
     "end_time": "2021-09-15T01:03:21.259424Z",
     "start_time": "2021-09-15T00:58:56.563861Z"
    },
    "id": "d4SMUPltHBjn"
   },
   "outputs": [
    {
     "name": "stdout",
     "output_type": "stream",
     "text": [
      "2788 2891\n",
      "2788\n",
      "91/91 [==============================] - 0s 3ms/step - loss: 0.0038\n",
      "2789\n",
      "91/91 [==============================] - 0s 2ms/step - loss: 0.0058\n",
      "2790\n",
      "91/91 [==============================] - 0s 2ms/step - loss: 0.0024\n",
      "2791\n",
      "91/91 [==============================] - 0s 2ms/step - loss: 0.0068\n",
      "2792\n",
      "91/91 [==============================] - 0s 3ms/step - loss: 0.0029\n",
      "2793\n",
      "91/91 [==============================] - 0s 2ms/step - loss: 0.0042\n",
      "2794\n",
      "91/91 [==============================] - 0s 3ms/step - loss: 0.0041\n",
      "2795\n",
      "91/91 [==============================] - 0s 2ms/step - loss: 0.0040\n",
      "2796\n",
      "91/91 [==============================] - 0s 3ms/step - loss: 0.0067\n",
      "2797\n",
      "91/91 [==============================] - 0s 3ms/step - loss: 0.0053\n",
      "2798\n",
      "91/91 [==============================] - 0s 2ms/step - loss: 0.0026\n",
      "2799\n",
      "91/91 [==============================] - 0s 2ms/step - loss: 0.0052\n",
      "2800\n",
      "91/91 [==============================] - 0s 2ms/step - loss: 0.0038\n",
      "2801\n",
      "91/91 [==============================] - 0s 3ms/step - loss: 0.0048\n",
      "2802\n",
      "91/91 [==============================] - 0s 3ms/step - loss: 0.0034\n",
      "2803\n",
      "91/91 [==============================] - 0s 3ms/step - loss: 0.0053\n",
      "2804\n",
      "91/91 [==============================] - 0s 3ms/step - loss: 0.0035\n",
      "2805\n",
      "91/91 [==============================] - 0s 3ms/step - loss: 0.0033\n",
      "2806\n",
      "91/91 [==============================] - 0s 3ms/step - loss: 0.0047\n",
      "2807\n",
      "91/91 [==============================] - 0s 3ms/step - loss: 0.0035\n",
      "2808\n",
      "91/91 [==============================] - 0s 3ms/step - loss: 0.0042\n",
      "2809\n",
      "91/91 [==============================] - 0s 3ms/step - loss: 0.0037\n",
      "2810\n",
      "91/91 [==============================] - 0s 3ms/step - loss: 0.0034\n",
      "2811\n",
      "91/91 [==============================] - 0s 3ms/step - loss: 0.0049\n",
      "2812\n",
      "91/91 [==============================] - 0s 3ms/step - loss: 0.0052\n",
      "2813\n",
      "91/91 [==============================] - 0s 2ms/step - loss: 0.0043\n",
      "2814\n",
      "92/92 [==============================] - 0s 3ms/step - loss: 0.0038\n",
      "2815\n",
      "92/92 [==============================] - 0s 2ms/step - loss: 0.0044\n",
      "2816\n",
      "92/92 [==============================] - 0s 2ms/step - loss: 0.0039\n",
      "2817\n",
      "92/92 [==============================] - 0s 2ms/step - loss: 0.0043\n",
      "2818\n",
      "92/92 [==============================] - 0s 2ms/step - loss: 0.0037\n",
      "2819\n",
      "92/92 [==============================] - 0s 3ms/step - loss: 0.0039\n",
      "2820\n",
      "92/92 [==============================] - 0s 3ms/step - loss: 0.0044\n",
      "2821\n",
      "92/92 [==============================] - 0s 3ms/step - loss: 0.0040\n",
      "2822\n",
      "92/92 [==============================] - 0s 3ms/step - loss: 0.0045\n",
      "2823\n",
      "92/92 [==============================] - 0s 3ms/step - loss: 0.0044\n",
      "2824\n",
      "92/92 [==============================] - 0s 2ms/step - loss: 0.0030\n",
      "2825\n",
      "92/92 [==============================] - 0s 3ms/step - loss: 0.0027\n",
      "2826\n",
      "92/92 [==============================] - 0s 3ms/step - loss: 0.0097\n",
      "2827\n",
      "92/92 [==============================] - 0s 2ms/step - loss: 0.0054\n",
      "2828\n",
      "92/92 [==============================] - 0s 3ms/step - loss: 0.0079\n",
      "2829\n",
      "92/92 [==============================] - 0s 3ms/step - loss: 0.0064\n",
      "2830\n",
      "92/92 [==============================] - 0s 3ms/step - loss: 0.0039\n",
      "2831\n",
      "92/92 [==============================] - 0s 3ms/step - loss: 0.0051\n",
      "2832\n",
      "92/92 [==============================] - 0s 3ms/step - loss: 0.0039\n",
      "2833\n",
      "92/92 [==============================] - 0s 3ms/step - loss: 0.0038\n",
      "2834\n",
      "92/92 [==============================] - 0s 3ms/step - loss: 0.0056\n",
      "2835\n",
      "92/92 [==============================] - 0s 2ms/step - loss: 0.0055\n",
      "2836\n",
      "92/92 [==============================] - 0s 3ms/step - loss: 0.0066\n",
      "2837\n",
      "92/92 [==============================] - 0s 3ms/step - loss: 0.0060\n",
      "2838\n",
      "92/92 [==============================] - 0s 3ms/step - loss: 0.0051\n",
      "2839\n",
      "92/92 [==============================] - 0s 3ms/step - loss: 0.0053\n",
      "2840\n",
      "92/92 [==============================] - 0s 3ms/step - loss: 0.0082\n",
      "2841\n",
      "92/92 [==============================] - 0s 3ms/step - loss: 0.0043\n",
      "2842\n",
      "92/92 [==============================] - 0s 3ms/step - loss: 0.0083\n",
      "2843\n",
      "92/92 [==============================] - 0s 3ms/step - loss: 0.0049\n",
      "2844\n",
      "92/92 [==============================] - 0s 3ms/step - loss: 0.0038\n",
      "2845\n",
      "92/92 [==============================] - 0s 2ms/step - loss: 0.0050\n",
      "2846\n",
      "93/93 [==============================] - 0s 3ms/step - loss: 0.0054\n",
      "2847\n",
      "93/93 [==============================] - 0s 3ms/step - loss: 0.0036\n",
      "2848\n",
      "93/93 [==============================] - 0s 3ms/step - loss: 0.0080\n",
      "2849\n",
      "93/93 [==============================] - 0s 3ms/step - loss: 0.0043\n",
      "2850\n",
      "93/93 [==============================] - 0s 2ms/step - loss: 0.0079\n",
      "2851\n",
      "93/93 [==============================] - 0s 3ms/step - loss: 0.0052\n",
      "2852\n",
      "93/93 [==============================] - 0s 2ms/step - loss: 0.0052\n",
      "2853\n",
      "93/93 [==============================] - 0s 2ms/step - loss: 0.0050\n",
      "2854\n",
      "93/93 [==============================] - 0s 3ms/step - loss: 0.0068\n",
      "2855\n",
      "93/93 [==============================] - 0s 2ms/step - loss: 0.0042\n",
      "2856\n",
      "93/93 [==============================] - 0s 2ms/step - loss: 0.0058\n",
      "2857\n",
      "93/93 [==============================] - 0s 2ms/step - loss: 0.0050\n",
      "2858\n",
      "93/93 [==============================] - 0s 3ms/step - loss: 0.0040\n",
      "2859\n",
      "93/93 [==============================] - 0s 2ms/step - loss: 0.0090\n",
      "2860\n",
      "93/93 [==============================] - 0s 2ms/step - loss: 0.0039\n",
      "2861\n",
      "93/93 [==============================] - 0s 2ms/step - loss: 0.0085\n",
      "2862\n",
      "93/93 [==============================] - 0s 2ms/step - loss: 0.0040\n",
      "2863\n",
      "93/93 [==============================] - 0s 3ms/step - loss: 0.0070\n",
      "2864\n",
      "93/93 [==============================] - 0s 3ms/step - loss: 0.0056\n",
      "2865\n",
      "93/93 [==============================] - 0s 3ms/step - loss: 0.0099\n",
      "2866\n",
      "93/93 [==============================] - 0s 3ms/step - loss: 0.0035\n",
      "2867\n",
      "93/93 [==============================] - 0s 3ms/step - loss: 0.0063\n",
      "2868\n",
      "93/93 [==============================] - 0s 3ms/step - loss: 0.0066\n",
      "2869\n",
      "93/93 [==============================] - 0s 2ms/step - loss: 0.0060\n",
      "2870\n",
      "93/93 [==============================] - 0s 3ms/step - loss: 0.0079\n",
      "2871\n",
      "93/93 [==============================] - 0s 3ms/step - loss: 0.0120\n",
      "2872\n",
      "93/93 [==============================] - 0s 3ms/step - loss: 0.0116\n",
      "2873\n",
      "93/93 [==============================] - 0s 3ms/step - loss: 0.0061\n",
      "2874\n",
      "93/93 [==============================] - 0s 3ms/step - loss: 0.0054\n",
      "2875\n",
      "93/93 [==============================] - 0s 3ms/step - loss: 0.0051\n",
      "2876\n",
      "93/93 [==============================] - 0s 3ms/step - loss: 0.0046\n",
      "2877\n",
      "93/93 [==============================] - 0s 2ms/step - loss: 0.0059\n",
      "2878\n",
      "94/94 [==============================] - 0s 3ms/step - loss: 0.0100\n",
      "2879\n",
      "94/94 [==============================] - 0s 3ms/step - loss: 0.0080\n",
      "2880\n",
      "94/94 [==============================] - 0s 3ms/step - loss: 0.0068\n",
      "2881\n",
      "94/94 [==============================] - 0s 3ms/step - loss: 0.0107\n",
      "2882\n",
      "94/94 [==============================] - 0s 3ms/step - loss: 0.0085\n",
      "2883\n",
      "94/94 [==============================] - 0s 3ms/step - loss: 0.0068\n",
      "2884\n",
      "94/94 [==============================] - 0s 3ms/step - loss: 0.0047\n",
      "2885\n",
      "94/94 [==============================] - 0s 2ms/step - loss: 0.0067\n",
      "2886\n",
      "94/94 [==============================] - 0s 2ms/step - loss: 0.0067\n",
      "2887\n",
      "94/94 [==============================] - 0s 2ms/step - loss: 0.0050\n",
      "2888\n",
      "94/94 [==============================] - 0s 2ms/step - loss: 0.0092\n",
      "2889\n",
      "94/94 [==============================] - 0s 2ms/step - loss: 0.0057\n",
      "2890\n",
      "94/94 [==============================] - 0s 3ms/step - loss: 0.0060\n"
     ]
    }
   ],
   "source": [
    "# import os\n",
    "# from keras import optimizers\n",
    "\n",
    "print(train_num_24,train_num_25)\n",
    "for i in range(train_num_24,train_num_25):\n",
    "  print(i)\n",
    "  model = Sequential()\n",
    "  model.add(LSTM(20, input_shape=(train_X.shape[1],train_X.shape[2]), activation='tanh', return_sequences=False))\n",
    "  model.add(Dense(1))\n",
    "\n",
    "  optimizer = tf.keras.optimizers.Adam(lr=0.0001)\n",
    "\n",
    "  model.compile(loss='mean_squared_error', optimizer='adam')\n",
    "#early_stop = EarlyStopping(monitor='val_loss', patience=3)\n",
    "#model_path = 'model'\n",
    "#filename = os.path.join(model_path, 'tmp_checkpoint.h5')\n",
    "#checkpoint = ModelCheckpoint(filename, monitor='val_loss', verbose=1, save_best_only=True, mode='auto')\n",
    "\n",
    "  history = model.fit(train_X, y, \n",
    "                                    epochs=1, \n",
    "                                    batch_size=32,\n",
    "                                    # validation_data=(test_X, test_y), \n",
    "                                    )\n",
    "\n",
    "  \n",
    "  tmp = df_matrix[i-3:i+1,:]\n",
    "  tmp=tmp.reshape(1,172)\n",
    "  \n",
    "  # print(tmp.shape)\n",
    "  tmp = tmp[:,:-1]\n",
    "  # print(tmp)\n",
    "  tmp = tmp.reshape((tmp.shape[0],1,tmp.shape[1]))\n",
    "  # print(tmp)\n",
    "  ans = model.predict(tmp)\n",
    "  df_matrix[i][42]=ans\n",
    "  # print(ans)\n",
    "  y = np.concatenate((y,ans),axis =0) #정답 붙이기\n",
    "\n",
    "\n",
    "  # print(train_X.shape,tmp.shape)\n",
    "  train_X = np.concatenate((train_X,tmp),axis =0)\n",
    "  # print(train_X)\n",
    "  # print(y)\n",
    "\n"
   ]
  },
  {
   "cell_type": "code",
   "execution_count": 21,
   "metadata": {
    "ExecuteTime": {
     "end_time": "2021-09-15T01:07:19.004292Z",
     "start_time": "2021-09-15T01:07:18.770873Z"
    },
    "id": "PSVW0AVNufBE"
   },
   "outputs": [
    {
     "name": "stdout",
     "output_type": "stream",
     "text": [
      "[ 11067.444      4417.2075    -3888.3098      127.68856    3973.314\n",
      "   1770.9862    -1969.2738     2076.0266     4674.5366    -1473.3337\n",
      "   -749.8112    -1022.811     -3354.3933    -1796.226      -246.46857\n",
      "  -4208.1025    -4967.173     -6650.753     -2137.5095    -4903.3154\n",
      "  -3311.3428    -7474.3604    -4985.259     -2127.5876    -2666.6008\n",
      "    801.37085   -2270.7246    -5746.2544    -3212.6697     -167.83002\n",
      "  -3937.18      -1475.9879    -4368.9463    -3893.415       539.4898\n",
      "  -3740.4424     7930.3096    -4680.0586    -1224.5068    -1004.1843\n",
      "   1865.9517    -2635.8633     6148.9805     2256.6084    -4065.5881\n",
      "  -5801.43       5976.5312     2766.5938    -3414.7263     6690.3823\n",
      "  -2012.7189     2193.7073     -129.14944    1645.6945     -979.97797\n",
      "   3255.4841    -2654.0007      215.34267   -1919.6012     3983.7458\n",
      "   -777.3599     7916.5376     -583.8506    -3600.6553    -1688.0431\n",
      "    979.77954   -1711.9215     -856.6924     1219.6992      635.7837\n",
      "   1193.493      9692.34        752.06616   13427.259      -688.1138\n",
      "   8172.3867    -8631.703      -759.01746   -8306.56      -7881.201\n",
      "    421.91364      82.28485   -8366.216     13540.219      2066.2888\n",
      "   -825.3261      160.92015   -2311.9043     2187.3071     1729.0139\n",
      " -17497.45      -7728.348      1473.336     -7821.07      -5575.5684\n",
      "  -2665.9268     -626.5487    -1199.2197     -969.7226     1886.6917\n",
      "    -26.107908   1925.5477     3345.5566  ]\n"
     ]
    }
   ],
   "source": [
    "df_matrix =scaler.inverse_transform(df_matrix)\n",
    "\n",
    "real = df_matrix[train_num_24:train_num_25,42]\n",
    "print(real)\n",
    "\n",
    "df_tmp = df.to_numpy()\n",
    "df_tmp = df_tmp.astype('float32')\n",
    "\n",
    "df_tmp = df_tmp[:,5:]\n",
    "df_tmp = df_tmp[train_num_24:train_num_25,42]"
   ]
  },
  {
   "cell_type": "code",
   "execution_count": 22,
   "metadata": {
    "ExecuteTime": {
     "end_time": "2021-09-15T01:07:19.679439Z",
     "start_time": "2021-09-15T01:07:19.323172Z"
    },
    "id": "XHF81uREOZsA"
   },
   "outputs": [
    {
     "data": {
      "image/png": "[encoded data removed]",
      "text/plain": [
       "<Figure size 432x288 with 1 Axes>"
      ]
     },
     "metadata": {
      "needs_background": "light"
     },
     "output_type": "display_data"
    }
   ],
   "source": [
    "plt.plot(df_tmp)\n",
    "plt.plot(real)\n",
    "plt.show()"
   ]
  },
  {
   "cell_type": "code",
   "execution_count": 23,
   "metadata": {
    "ExecuteTime": {
     "end_time": "2021-09-15T01:07:19.981328Z",
     "start_time": "2021-09-15T01:07:19.798428Z"
    },
    "id": "Tx6RurijnwqW"
   },
   "outputs": [
    {
     "data": {
      "image/png": "[encoded data removed]",
      "text/plain": [
       "<Figure size 432x288 with 1 Axes>"
      ]
     },
     "metadata": {
      "needs_background": "light"
     },
     "output_type": "display_data"
    }
   ],
   "source": [
    "one = df_matrix[train_num_24:train_num_25,0]\n",
    "two = df_matrix[train_num_24:train_num_25,1]\n",
    "three = df_matrix[train_num_24:train_num_25,2]\n",
    "four = df_matrix[train_num_24:train_num_25,3]\n",
    "five = df_matrix[train_num_24:train_num_25,4]\n",
    "\n",
    "plt.plot(one)\n",
    "plt.plot(two)\n",
    "plt.plot(three)\n",
    "plt.plot(four)\n",
    "plt.plot(five)\n",
    "plt.plot(real)\n",
    "plt.show()"
   ]
  },
  {
   "cell_type": "code",
   "execution_count": 24,
   "metadata": {
    "ExecuteTime": {
     "end_time": "2021-09-15T01:07:20.349430Z",
     "start_time": "2021-09-15T01:07:20.309518Z"
    },
    "id": "RSlbRzCSv33y"
   },
   "outputs": [],
   "source": [
    "from openpyxl import Workbook\n",
    "\n",
    "write_wb = Workbook()\n",
    "write_ws = write_wb.create_sheet(\"결과\")\n",
    "\n",
    "write_ws = write_wb.active\n",
    "real= real.tolist()\n",
    "# print(len(real))\n",
    "for i in range(len(real)):\n",
    "  write_ws.cell(i+1,1,real[i])\n",
    "write_wb.save('테스트_결과100.xlsx')"
   ]
  },
  {
   "cell_type": "code",
   "execution_count": 18,
   "metadata": {
    "ExecuteTime": {
     "end_time": "2021-09-15T00:58:01.954157Z",
     "start_time": "2021-09-15T00:58:01.951376Z"
    },
    "id": "qtPtb8fhHfXP"
   },
   "outputs": [],
   "source": [
    "\n",
    "#여기까지임"
   ]
  },
  {
   "cell_type": "code",
   "execution_count": 19,
   "metadata": {
    "ExecuteTime": {
     "end_time": "2021-09-15T00:58:02.575396Z",
     "start_time": "2021-09-15T00:58:01.957232Z"
    },
    "id": "3hXN2xiD6ZAO"
   },
   "outputs": [
    {
     "ename": "NameError",
     "evalue": "name 'test_X' is not defined",
     "output_type": "error",
     "traceback": [
      "\u001b[0;31m---------------------------------------------------------------------------\u001b[0m",
      "\u001b[0;31mNameError\u001b[0m                                 Traceback (most recent call last)",
      "\u001b[0;32m/var/folders/vv/vvx773p17_vcvtx6x274kj180000gn/T/ipykernel_50173/925720949.py\u001b[0m in \u001b[0;36m<module>\u001b[0;34m\u001b[0m\n\u001b[0;32m----> 1\u001b[0;31m \u001b[0myhat\u001b[0m \u001b[0;34m=\u001b[0m \u001b[0mmodel\u001b[0m\u001b[0;34m.\u001b[0m\u001b[0mpredict\u001b[0m\u001b[0;34m(\u001b[0m\u001b[0mtest_X\u001b[0m\u001b[0;34m)\u001b[0m\u001b[0;34m\u001b[0m\u001b[0;34m\u001b[0m\u001b[0m\n\u001b[0m\u001b[1;32m      2\u001b[0m \u001b[0;34m\u001b[0m\u001b[0m\n\u001b[1;32m      3\u001b[0m \u001b[0;34m\u001b[0m\u001b[0m\n\u001b[1;32m      4\u001b[0m \u001b[0minv_yhat\u001b[0m \u001b[0;34m=\u001b[0m \u001b[0mdf_matrix\u001b[0m\u001b[0;34m\u001b[0m\u001b[0;34m\u001b[0m\u001b[0m\n\u001b[1;32m      5\u001b[0m \u001b[0ma\u001b[0m\u001b[0;34m=\u001b[0m\u001b[0;36m0\u001b[0m\u001b[0;34m\u001b[0m\u001b[0;34m\u001b[0m\u001b[0m\n",
      "\u001b[0;31mNameError\u001b[0m: name 'test_X' is not defined"
     ]
    }
   ],
   "source": [
    "yhat = model.predict(test_X)\n",
    "\n",
    "\n",
    "inv_yhat = df_matrix\n",
    "a=0\n",
    "for i in range(train_num_19+3,train_num_24):\n",
    "  df_matrix[i][42]=yhat[a]\n",
    "  a+=1\n",
    "\n",
    "inv_yhat = scaler.inverse_transform(inv_yhat)\n",
    "inv_yhat = inv_yhat[train_num_19+3:train_num_24,42:43]\n",
    "print(inv_yhat)\n"
   ]
  },
  {
   "cell_type": "code",
   "execution_count": null,
   "metadata": {
    "ExecuteTime": {
     "end_time": "2021-09-15T00:58:02.583387Z",
     "start_time": "2021-09-15T00:58:02.583372Z"
    },
    "id": "IhMguplXBGa-"
   },
   "outputs": [],
   "source": [
    "np.set_printoptions(suppress=True)\n",
    "\n",
    "print(inv_yhat)\n",
    "print(inv_yhat.shape)"
   ]
  },
  {
   "cell_type": "markdown",
   "metadata": {
    "id": "L7hymsfyDHmq"
   },
   "source": []
  },
  {
   "cell_type": "code",
   "execution_count": null,
   "metadata": {
    "ExecuteTime": {
     "end_time": "2021-09-15T00:58:02.584996Z",
     "start_time": "2021-09-15T00:58:02.584979Z"
    },
    "id": "eQT9D5N0-Xpn"
   },
   "outputs": [],
   "source": [
    "\n",
    "inv_y = scaler.inverse_transform(df_matrix)\n",
    "inv_y = inv_y[train_num_19+3:train_num_24,42:43]\n",
    "\n",
    "\n",
    "print(inv_y)\n",
    "print(inv_y.shape)"
   ]
  },
  {
   "cell_type": "code",
   "execution_count": null,
   "metadata": {
    "ExecuteTime": {
     "end_time": "2021-09-15T00:58:02.587713Z",
     "start_time": "2021-09-15T00:58:02.587681Z"
    },
    "id": "FIuGHNl99obg"
   },
   "outputs": [],
   "source": [
    "print(inv_yhat[0])"
   ]
  },
  {
   "cell_type": "code",
   "execution_count": null,
   "metadata": {
    "ExecuteTime": {
     "end_time": "2021-09-15T00:58:02.590173Z",
     "start_time": "2021-09-15T00:58:02.590146Z"
    },
    "id": "ACLLpG9B92sv"
   },
   "outputs": [],
   "source": [
    "plt.plot(inv_yhat)\n",
    "plt.plot(inv_y)\n",
    "plt.show()"
   ]
  },
  {
   "cell_type": "code",
   "execution_count": null,
   "metadata": {
    "ExecuteTime": {
     "end_time": "2021-09-15T00:58:02.592094Z",
     "start_time": "2021-09-15T00:58:02.592067Z"
    },
    "id": "Qj2YDP_fH2R1"
   },
   "outputs": [],
   "source": [
    "RMSE = mean_squared_error(inv_yhat,inv_y)**0.5\n",
    "RMSE"
   ]
  },
  {
   "cell_type": "code",
   "execution_count": null,
   "metadata": {
    "ExecuteTime": {
     "end_time": "2021-09-15T00:58:02.594099Z",
     "start_time": "2021-09-15T00:58:02.594052Z"
    },
    "id": "QVXWTByLMA5Y"
   },
   "outputs": [],
   "source": [
    "plt.figure(figsize=(12, 9))\n",
    "plt.plot(history.history['loss'],label = 'train')\n",
    "plt.plot(history.history['val_loss'], label = 'test')\n",
    "\n",
    "plt.show()"
   ]
  },
  {
   "cell_type": "code",
   "execution_count": null,
   "metadata": {
    "ExecuteTime": {
     "end_time": "2021-09-15T00:58:02.596574Z",
     "start_time": "2021-09-15T00:58:02.596549Z"
    },
    "id": "czJHxnvqH-6G"
   },
   "outputs": [],
   "source": [
    "plt.figure(figsize=(12, 9))\n",
    "plt.plot(test_y, label = 'actual')\n",
    "plt.plot(pred, label = 'prediction')\n",
    "plt.legend()\n",
    "plt.show()"
   ]
  }
 ],
 "metadata": {
  "colab": {
   "collapsed_sections": [],
   "name": "제출만하게해주세요.ipynb",
   "private_outputs": true,
   "provenance": []
  },
  "hide_input": false,
  "kernelspec": {
   "display_name": "Python 3 (ipykernel)",
   "language": "python",
   "name": "python3"
  },
  "language_info": {
   "codemirror_mode": {
    "name": "ipython",
    "version": 3
   },
   "file_extension": ".py",
   "mimetype": "text/x-python",
   "name": "python",
   "nbconvert_exporter": "python",
   "pygments_lexer": "ipython3",
   "version": "3.8.8"
  },
  "varInspector": {
   "cols": {
    "lenName": 16,
    "lenType": 16,
    "lenVar": 40
   },
   "kernels_config": {
    "python": {
     "delete_cmd_postfix": "",
     "delete_cmd_prefix": "del ",
     "library": "var_list.py",
     "varRefreshCmd": "print(var_dic_list())"
    },
    "r": {
     "delete_cmd_postfix": ") ",
     "delete_cmd_prefix": "rm(",
     "library": "var_list.r",
     "varRefreshCmd": "cat(var_dic_list()) "
    }
   },
   "types_to_exclude": [
    "module",
    "function",
    "builtin_function_or_method",
    "instance",
    "_Feature"
   ],
   "window_display": false
  }
 },
 "nbformat": 4,
 "nbformat_minor": 1
}
