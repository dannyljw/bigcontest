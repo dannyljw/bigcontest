{
 "cells": [
  {
   "cell_type": "markdown",
   "id": "50019bac",
   "metadata": {},
   "source": [
    "# 실험해 봐야될것. \n",
    "\n",
    "1. 데이터 집단이 1~6 으로 나뉘어져있다. 이것을 각기 다르게 train dataset 으로 넣어서 학습을 시켜보자 . \n",
    "2. 데이터에 대한 좀 더 정확한 분석. 강우량, 강수량, 유역별 강수량. 이것들을 어떻게 해결할지 고민해 보자. \n",
    "3. train/test data 는 1 ~ 10 / 11 ~ 25 이렇게 나눠서 진행해 보는 것으로 하자. \n",
    "\n",
    "  "
   ]
  },
  {
   "cell_type": "markdown",
   "id": "8336b30e",
   "metadata": {},
   "source": [
    "https://dschloe.github.io/python/python_edu/07_deeplearning/deep_learning_lstm/\n",
    "\n",
    "를 참고하여 일단 작성중\n"
   ]
  },
  {
   "cell_type": "code",
   "execution_count": 1,
   "id": "940cd19a",
   "metadata": {
    "ExecuteTime": {
     "end_time": "2021-08-17T19:39:42.916731Z",
     "start_time": "2021-08-17T19:39:41.038417Z"
    }
   },
   "outputs": [],
   "source": [
    "import numpy as np \n",
    "import pandas as pd\n",
    "import matplotlib.pyplot as plt\n",
    "import seaborn as sns\n",
    "from sklearn.preprocessing import MinMaxScaler\n",
    "from os.path import join"
   ]
  },
  {
   "cell_type": "code",
   "execution_count": 2,
   "id": "61b0066d",
   "metadata": {
    "ExecuteTime": {
     "end_time": "2021-08-17T19:39:45.239089Z",
     "start_time": "2021-08-17T19:39:42.918218Z"
    }
   },
   "outputs": [
    {
     "data": {
      "text/html": [
       "<div>\n",
       "<style scoped>\n",
       "    .dataframe tbody tr th:only-of-type {\n",
       "        vertical-align: middle;\n",
       "    }\n",
       "\n",
       "    .dataframe tbody tr th {\n",
       "        vertical-align: top;\n",
       "    }\n",
       "\n",
       "    .dataframe thead th {\n",
       "        text-align: right;\n",
       "    }\n",
       "</style>\n",
       "<table border=\"1\" class=\"dataframe\">\n",
       "  <thead>\n",
       "    <tr style=\"text-align: right;\">\n",
       "      <th></th>\n",
       "      <th>홍수사상번호</th>\n",
       "      <th>date</th>\n",
       "      <th>유입량</th>\n",
       "      <th>데이터집단 1</th>\n",
       "      <th>Unnamed: 7</th>\n",
       "      <th>Unnamed: 8</th>\n",
       "      <th>Unnamed: 9</th>\n",
       "      <th>Unnamed: 10</th>\n",
       "      <th>Unnamed: 11</th>\n",
       "      <th>Unnamed: 12</th>\n",
       "      <th>...</th>\n",
       "      <th>Unnamed: 44</th>\n",
       "      <th>Unnamed: 45</th>\n",
       "      <th>Unnamed: 46</th>\n",
       "      <th>Unnamed: 47</th>\n",
       "      <th>avg_A_waterfall</th>\n",
       "      <th>avg_B_waterfall</th>\n",
       "      <th>avg_C_waterfall</th>\n",
       "      <th>avg_D_waterfall</th>\n",
       "      <th>avg_D_waterlevel</th>\n",
       "      <th>avg_E_waterlevel</th>\n",
       "    </tr>\n",
       "  </thead>\n",
       "  <tbody>\n",
       "    <tr>\n",
       "      <th>0</th>\n",
       "      <td>1</td>\n",
       "      <td>2006-07-10 07:00:00</td>\n",
       "      <td>0.008630</td>\n",
       "      <td>0.019488</td>\n",
       "      <td>0.021277</td>\n",
       "      <td>0.019074</td>\n",
       "      <td>0.027668</td>\n",
       "      <td>0.030534</td>\n",
       "      <td>0.093930</td>\n",
       "      <td>0.153560</td>\n",
       "      <td>...</td>\n",
       "      <td>0.032389</td>\n",
       "      <td>0.030651</td>\n",
       "      <td>0.093930</td>\n",
       "      <td>0.155313</td>\n",
       "      <td>0.020875</td>\n",
       "      <td>0.019462</td>\n",
       "      <td>0.030201</td>\n",
       "      <td>0.030908</td>\n",
       "      <td>0.155043</td>\n",
       "      <td>0.155043</td>\n",
       "    </tr>\n",
       "    <tr>\n",
       "      <th>1</th>\n",
       "      <td>1</td>\n",
       "      <td>2006-07-10 08:00:00</td>\n",
       "      <td>0.009926</td>\n",
       "      <td>0.019184</td>\n",
       "      <td>0.021277</td>\n",
       "      <td>0.021798</td>\n",
       "      <td>0.027668</td>\n",
       "      <td>0.030534</td>\n",
       "      <td>0.093291</td>\n",
       "      <td>0.153312</td>\n",
       "      <td>...</td>\n",
       "      <td>0.040486</td>\n",
       "      <td>0.038314</td>\n",
       "      <td>0.093291</td>\n",
       "      <td>0.154916</td>\n",
       "      <td>0.020875</td>\n",
       "      <td>0.022243</td>\n",
       "      <td>0.034228</td>\n",
       "      <td>0.034771</td>\n",
       "      <td>0.154919</td>\n",
       "      <td>0.154919</td>\n",
       "    </tr>\n",
       "    <tr>\n",
       "      <th>2</th>\n",
       "      <td>1</td>\n",
       "      <td>2006-07-10 09:00:00</td>\n",
       "      <td>0.011529</td>\n",
       "      <td>0.019488</td>\n",
       "      <td>0.021277</td>\n",
       "      <td>0.024523</td>\n",
       "      <td>0.027668</td>\n",
       "      <td>0.030534</td>\n",
       "      <td>0.093291</td>\n",
       "      <td>0.153064</td>\n",
       "      <td>...</td>\n",
       "      <td>0.040486</td>\n",
       "      <td>0.042146</td>\n",
       "      <td>0.093291</td>\n",
       "      <td>0.154518</td>\n",
       "      <td>0.020875</td>\n",
       "      <td>0.025023</td>\n",
       "      <td>0.034899</td>\n",
       "      <td>0.036703</td>\n",
       "      <td>0.154795</td>\n",
       "      <td>0.154795</td>\n",
       "    </tr>\n",
       "    <tr>\n",
       "      <th>3</th>\n",
       "      <td>1</td>\n",
       "      <td>2006-07-10 10:00:00</td>\n",
       "      <td>0.013919</td>\n",
       "      <td>0.022229</td>\n",
       "      <td>0.021277</td>\n",
       "      <td>0.027248</td>\n",
       "      <td>0.027668</td>\n",
       "      <td>0.030534</td>\n",
       "      <td>0.093291</td>\n",
       "      <td>0.153064</td>\n",
       "      <td>...</td>\n",
       "      <td>0.060729</td>\n",
       "      <td>0.053640</td>\n",
       "      <td>0.093291</td>\n",
       "      <td>0.154320</td>\n",
       "      <td>0.023857</td>\n",
       "      <td>0.027804</td>\n",
       "      <td>0.046980</td>\n",
       "      <td>0.043786</td>\n",
       "      <td>0.154719</td>\n",
       "      <td>0.154719</td>\n",
       "    </tr>\n",
       "    <tr>\n",
       "      <th>4</th>\n",
       "      <td>1</td>\n",
       "      <td>2006-07-10 11:00:00</td>\n",
       "      <td>0.017731</td>\n",
       "      <td>0.024970</td>\n",
       "      <td>0.021277</td>\n",
       "      <td>0.032698</td>\n",
       "      <td>0.031621</td>\n",
       "      <td>0.038168</td>\n",
       "      <td>0.093291</td>\n",
       "      <td>0.153064</td>\n",
       "      <td>...</td>\n",
       "      <td>0.072874</td>\n",
       "      <td>0.061303</td>\n",
       "      <td>0.093291</td>\n",
       "      <td>0.153923</td>\n",
       "      <td>0.030318</td>\n",
       "      <td>0.033364</td>\n",
       "      <td>0.055034</td>\n",
       "      <td>0.050869</td>\n",
       "      <td>0.154507</td>\n",
       "      <td>0.154507</td>\n",
       "    </tr>\n",
       "  </tbody>\n",
       "</table>\n",
       "<p>5 rows × 51 columns</p>\n",
       "</div>"
      ],
      "text/plain": [
       "   홍수사상번호                date       유입량   데이터집단 1  Unnamed: 7  Unnamed: 8  \\\n",
       "0       1 2006-07-10 07:00:00  0.008630  0.019488    0.021277    0.019074   \n",
       "1       1 2006-07-10 08:00:00  0.009926  0.019184    0.021277    0.021798   \n",
       "2       1 2006-07-10 09:00:00  0.011529  0.019488    0.021277    0.024523   \n",
       "3       1 2006-07-10 10:00:00  0.013919  0.022229    0.021277    0.027248   \n",
       "4       1 2006-07-10 11:00:00  0.017731  0.024970    0.021277    0.032698   \n",
       "\n",
       "   Unnamed: 9  Unnamed: 10  Unnamed: 11  Unnamed: 12  ...  Unnamed: 44  \\\n",
       "0    0.027668     0.030534     0.093930     0.153560  ...     0.032389   \n",
       "1    0.027668     0.030534     0.093291     0.153312  ...     0.040486   \n",
       "2    0.027668     0.030534     0.093291     0.153064  ...     0.040486   \n",
       "3    0.027668     0.030534     0.093291     0.153064  ...     0.060729   \n",
       "4    0.031621     0.038168     0.093291     0.153064  ...     0.072874   \n",
       "\n",
       "   Unnamed: 45  Unnamed: 46  Unnamed: 47  avg_A_waterfall  avg_B_waterfall  \\\n",
       "0     0.030651     0.093930     0.155313         0.020875         0.019462   \n",
       "1     0.038314     0.093291     0.154916         0.020875         0.022243   \n",
       "2     0.042146     0.093291     0.154518         0.020875         0.025023   \n",
       "3     0.053640     0.093291     0.154320         0.023857         0.027804   \n",
       "4     0.061303     0.093291     0.153923         0.030318         0.033364   \n",
       "\n",
       "   avg_C_waterfall  avg_D_waterfall  avg_D_waterlevel  avg_E_waterlevel  \n",
       "0         0.030201         0.030908          0.155043          0.155043  \n",
       "1         0.034228         0.034771          0.154919          0.154919  \n",
       "2         0.034899         0.036703          0.154795          0.154795  \n",
       "3         0.046980         0.043786          0.154719          0.154719  \n",
       "4         0.055034         0.050869          0.154507          0.154507  \n",
       "\n",
       "[5 rows x 51 columns]"
      ]
     },
     "execution_count": 2,
     "metadata": {},
     "output_type": "execute_result"
    }
   ],
   "source": [
    "df = pd.read_excel('rain_data_drop_scaled_datetime.xlsx')\n",
    "df.head()"
   ]
  },
  {
   "cell_type": "code",
   "execution_count": 3,
   "id": "76afd4e7",
   "metadata": {
    "ExecuteTime": {
     "end_time": "2021-08-17T19:39:45.245635Z",
     "start_time": "2021-08-17T19:39:45.241691Z"
    }
   },
   "outputs": [],
   "source": [
    "feature_col = ['데이터집단 1', 'Unnamed: 7','Unnamed: 8','Unnamed: 9','Unnamed: 10','Unnamed: 11','Unnamed: 12','데이터집단 2','Unnamed: 14','Unnamed: 15','Unnamed: 16','Unnamed: 17','Unnamed: 18','Unnamed: 19','데이터집단 3','Unnamed: 21','Unnamed: 22','Unnamed: 23','Unnamed: 24','Unnamed: 25','Unnamed: 26','데이터 집단 4','Unnamed: 28','Unnamed: 29','Unnamed: 30','Unnamed: 31','Unnamed: 32','Unnamed: 33','데이터 집단 5','Unnamed: 35','Unnamed: 36','Unnamed: 37','Unnamed: 38','Unnamed: 39','Unnamed: 40','데이터 집단 6','Unnamed: 42','Unnamed: 43','Unnamed: 44','Unnamed: 45','Unnamed: 46','Unnamed: 47','avg_A_waterfall', 'avg_B_waterfall', 'avg_C_waterfall', 'avg_D_waterfall', 'avg_D_waterlevel', 'avg_E_waterlevel']\n",
    "label_col = ['유입량']"
   ]
  },
  {
   "cell_type": "markdown",
   "id": "d3ca322c",
   "metadata": {},
   "source": [
    "1. 데이터셋 (train data, validation data\n",
    "2. LSTM model \n",
    "3. compile\n",
    "4. fit\n",
    "5. 결과 보기 \n",
    "\n"
   ]
  },
  {
   "cell_type": "code",
   "execution_count": 4,
   "id": "bfa18c3e",
   "metadata": {
    "ExecuteTime": {
     "end_time": "2021-08-17T19:39:45.251381Z",
     "start_time": "2021-08-17T19:39:45.247829Z"
    }
   },
   "outputs": [
    {
     "data": {
      "text/plain": [
       "3051"
      ]
     },
     "execution_count": 4,
     "metadata": {},
     "output_type": "execute_result"
    }
   ],
   "source": [
    "len(df)"
   ]
  },
  {
   "cell_type": "code",
   "execution_count": 5,
   "id": "430e4799",
   "metadata": {
    "ExecuteTime": {
     "end_time": "2021-08-17T19:39:45.257762Z",
     "start_time": "2021-08-17T19:39:45.253310Z"
    }
   },
   "outputs": [],
   "source": [
    "def make_dataset(data, label, window_size=6):\n",
    "    feature_list = []\n",
    "    label_list = []\n",
    "    for i in range(len(data) - window_size):\n",
    "        feature_list.append(np.array(data.iloc[i:i+window_size]))\n",
    "        label_list.append(np.array(label.iloc[i+window_size]))\n",
    "    return np.array(feature_list), np.array(label_list)"
   ]
  },
  {
   "cell_type": "markdown",
   "id": "9a69dcd4",
   "metadata": {},
   "source": [
    "시계열 데이터의 데이터셋은 보통 window_size 라고 정의한다. \n",
    "\n",
    "- window_size 는 과거 기간의 주가 데이터에 기반하여 다음날의 종가를 예측할 것인가를 정하는 parameter 이다. \n",
    "\n",
    "- 만약 과거 20일을 기반으로 내일 데이터를 예측한다고 가정하면, window_size = 20 이 되는 것이다. \n",
    "\n",
    "- 실제 100일의 과거 데이터를 기반으로 데이터셋을 분리하도록 한다. \n",
    "\n",
    "- 이때, make_dataset 이라는 함수를 만든다. feature_list & label_list 를 분리 한다. \n",
    "\n",
    "- test_size = 200 은 학습은 과거로부터 200일 이전의 데이터를 학습하게 되되t , test 를 위해서 이후 100일의 데이터로 모델이 주가를 예측하도록 한 다음, 실제 데이터와 오차가 얼마나 있는지 확인해 보도록 하겠다고 함. \n",
    "\n"
   ]
  },
  {
   "cell_type": "markdown",
   "id": "54711ae0",
   "metadata": {},
   "source": [
    "# 잠시만, 얘는지금 test, validaiton data 에 대한 개념을 나눠서 생각하고 있는 것이겠지? "
   ]
  },
  {
   "cell_type": "markdown",
   "id": "6e97d972",
   "metadata": {},
   "source": [
    "## train_feature 에는 유입량을 제외한 train 시켜야되는 데이터를 포함. \n",
    "## train_label 에는 유입량이 들어가게 되는 것이다. "
   ]
  },
  {
   "cell_type": "code",
   "execution_count": 6,
   "id": "05b8c00a",
   "metadata": {
    "ExecuteTime": {
     "end_time": "2021-08-17T19:39:45.264460Z",
     "start_time": "2021-08-17T19:39:45.259115Z"
    }
   },
   "outputs": [],
   "source": [
    "TEST_SIZE = 160\n",
    "train = df[:-TEST_SIZE]\n",
    "test = df[-TEST_SIZE:]\n",
    "\n",
    "train_feature = train[feature_col]\n",
    "train_label = train[label_col]"
   ]
  },
  {
   "cell_type": "code",
   "execution_count": 7,
   "id": "5534b2df",
   "metadata": {
    "ExecuteTime": {
     "end_time": "2021-08-17T19:39:45.297927Z",
     "start_time": "2021-08-17T19:39:45.266957Z"
    }
   },
   "outputs": [
    {
     "data": {
      "text/html": [
       "<div>\n",
       "<style scoped>\n",
       "    .dataframe tbody tr th:only-of-type {\n",
       "        vertical-align: middle;\n",
       "    }\n",
       "\n",
       "    .dataframe tbody tr th {\n",
       "        vertical-align: top;\n",
       "    }\n",
       "\n",
       "    .dataframe thead th {\n",
       "        text-align: right;\n",
       "    }\n",
       "</style>\n",
       "<table border=\"1\" class=\"dataframe\">\n",
       "  <thead>\n",
       "    <tr style=\"text-align: right;\">\n",
       "      <th></th>\n",
       "      <th>데이터집단 1</th>\n",
       "      <th>Unnamed: 7</th>\n",
       "      <th>Unnamed: 8</th>\n",
       "      <th>Unnamed: 9</th>\n",
       "      <th>Unnamed: 10</th>\n",
       "      <th>Unnamed: 11</th>\n",
       "      <th>Unnamed: 12</th>\n",
       "      <th>데이터집단 2</th>\n",
       "      <th>Unnamed: 14</th>\n",
       "      <th>Unnamed: 15</th>\n",
       "      <th>...</th>\n",
       "      <th>Unnamed: 44</th>\n",
       "      <th>Unnamed: 45</th>\n",
       "      <th>Unnamed: 46</th>\n",
       "      <th>Unnamed: 47</th>\n",
       "      <th>avg_A_waterfall</th>\n",
       "      <th>avg_B_waterfall</th>\n",
       "      <th>avg_C_waterfall</th>\n",
       "      <th>avg_D_waterfall</th>\n",
       "      <th>avg_D_waterlevel</th>\n",
       "      <th>avg_E_waterlevel</th>\n",
       "    </tr>\n",
       "  </thead>\n",
       "  <tbody>\n",
       "    <tr>\n",
       "      <th>0</th>\n",
       "      <td>0.019488</td>\n",
       "      <td>0.021277</td>\n",
       "      <td>0.019074</td>\n",
       "      <td>0.027668</td>\n",
       "      <td>0.030534</td>\n",
       "      <td>0.093930</td>\n",
       "      <td>0.153560</td>\n",
       "      <td>0.019184</td>\n",
       "      <td>0.020772</td>\n",
       "      <td>0.019074</td>\n",
       "      <td>...</td>\n",
       "      <td>0.032389</td>\n",
       "      <td>0.030651</td>\n",
       "      <td>0.093930</td>\n",
       "      <td>0.155313</td>\n",
       "      <td>0.020875</td>\n",
       "      <td>0.019462</td>\n",
       "      <td>0.030201</td>\n",
       "      <td>0.030908</td>\n",
       "      <td>0.155043</td>\n",
       "      <td>0.155043</td>\n",
       "    </tr>\n",
       "    <tr>\n",
       "      <th>1</th>\n",
       "      <td>0.019184</td>\n",
       "      <td>0.021277</td>\n",
       "      <td>0.021798</td>\n",
       "      <td>0.027668</td>\n",
       "      <td>0.030534</td>\n",
       "      <td>0.093291</td>\n",
       "      <td>0.153312</td>\n",
       "      <td>0.019488</td>\n",
       "      <td>0.020772</td>\n",
       "      <td>0.021798</td>\n",
       "      <td>...</td>\n",
       "      <td>0.040486</td>\n",
       "      <td>0.038314</td>\n",
       "      <td>0.093291</td>\n",
       "      <td>0.154916</td>\n",
       "      <td>0.020875</td>\n",
       "      <td>0.022243</td>\n",
       "      <td>0.034228</td>\n",
       "      <td>0.034771</td>\n",
       "      <td>0.154919</td>\n",
       "      <td>0.154919</td>\n",
       "    </tr>\n",
       "    <tr>\n",
       "      <th>2</th>\n",
       "      <td>0.019488</td>\n",
       "      <td>0.021277</td>\n",
       "      <td>0.024523</td>\n",
       "      <td>0.027668</td>\n",
       "      <td>0.030534</td>\n",
       "      <td>0.093291</td>\n",
       "      <td>0.153064</td>\n",
       "      <td>0.022229</td>\n",
       "      <td>0.020772</td>\n",
       "      <td>0.024523</td>\n",
       "      <td>...</td>\n",
       "      <td>0.040486</td>\n",
       "      <td>0.042146</td>\n",
       "      <td>0.093291</td>\n",
       "      <td>0.154518</td>\n",
       "      <td>0.020875</td>\n",
       "      <td>0.025023</td>\n",
       "      <td>0.034899</td>\n",
       "      <td>0.036703</td>\n",
       "      <td>0.154795</td>\n",
       "      <td>0.154795</td>\n",
       "    </tr>\n",
       "    <tr>\n",
       "      <th>3</th>\n",
       "      <td>0.022229</td>\n",
       "      <td>0.021277</td>\n",
       "      <td>0.027248</td>\n",
       "      <td>0.027668</td>\n",
       "      <td>0.030534</td>\n",
       "      <td>0.093291</td>\n",
       "      <td>0.153064</td>\n",
       "      <td>0.024970</td>\n",
       "      <td>0.020772</td>\n",
       "      <td>0.027248</td>\n",
       "      <td>...</td>\n",
       "      <td>0.060729</td>\n",
       "      <td>0.053640</td>\n",
       "      <td>0.093291</td>\n",
       "      <td>0.154320</td>\n",
       "      <td>0.023857</td>\n",
       "      <td>0.027804</td>\n",
       "      <td>0.046980</td>\n",
       "      <td>0.043786</td>\n",
       "      <td>0.154719</td>\n",
       "      <td>0.154719</td>\n",
       "    </tr>\n",
       "    <tr>\n",
       "      <th>4</th>\n",
       "      <td>0.024970</td>\n",
       "      <td>0.021277</td>\n",
       "      <td>0.032698</td>\n",
       "      <td>0.031621</td>\n",
       "      <td>0.038168</td>\n",
       "      <td>0.093291</td>\n",
       "      <td>0.153064</td>\n",
       "      <td>0.034409</td>\n",
       "      <td>0.026706</td>\n",
       "      <td>0.032698</td>\n",
       "      <td>...</td>\n",
       "      <td>0.072874</td>\n",
       "      <td>0.061303</td>\n",
       "      <td>0.093291</td>\n",
       "      <td>0.153923</td>\n",
       "      <td>0.030318</td>\n",
       "      <td>0.033364</td>\n",
       "      <td>0.055034</td>\n",
       "      <td>0.050869</td>\n",
       "      <td>0.154507</td>\n",
       "      <td>0.154507</td>\n",
       "    </tr>\n",
       "    <tr>\n",
       "      <th>...</th>\n",
       "      <td>...</td>\n",
       "      <td>...</td>\n",
       "      <td>...</td>\n",
       "      <td>...</td>\n",
       "      <td>...</td>\n",
       "      <td>...</td>\n",
       "      <td>...</td>\n",
       "      <td>...</td>\n",
       "      <td>...</td>\n",
       "      <td>...</td>\n",
       "      <td>...</td>\n",
       "      <td>...</td>\n",
       "      <td>...</td>\n",
       "      <td>...</td>\n",
       "      <td>...</td>\n",
       "      <td>...</td>\n",
       "      <td>...</td>\n",
       "      <td>...</td>\n",
       "      <td>...</td>\n",
       "      <td>...</td>\n",
       "      <td>...</td>\n",
       "    </tr>\n",
       "    <tr>\n",
       "      <th>2886</th>\n",
       "      <td>0.069378</td>\n",
       "      <td>0.018237</td>\n",
       "      <td>0.000000</td>\n",
       "      <td>0.003953</td>\n",
       "      <td>0.003817</td>\n",
       "      <td>0.125240</td>\n",
       "      <td>0.733069</td>\n",
       "      <td>0.025148</td>\n",
       "      <td>0.017804</td>\n",
       "      <td>0.000000</td>\n",
       "      <td>...</td>\n",
       "      <td>0.004049</td>\n",
       "      <td>0.003831</td>\n",
       "      <td>0.125240</td>\n",
       "      <td>0.732075</td>\n",
       "      <td>0.017893</td>\n",
       "      <td>0.000000</td>\n",
       "      <td>0.004027</td>\n",
       "      <td>0.003863</td>\n",
       "      <td>0.732884</td>\n",
       "      <td>0.732884</td>\n",
       "    </tr>\n",
       "    <tr>\n",
       "      <th>2887</th>\n",
       "      <td>0.025148</td>\n",
       "      <td>0.006079</td>\n",
       "      <td>0.000000</td>\n",
       "      <td>0.003953</td>\n",
       "      <td>0.003817</td>\n",
       "      <td>0.123323</td>\n",
       "      <td>0.733565</td>\n",
       "      <td>0.012512</td>\n",
       "      <td>0.005935</td>\n",
       "      <td>0.000000</td>\n",
       "      <td>...</td>\n",
       "      <td>0.004049</td>\n",
       "      <td>0.003831</td>\n",
       "      <td>0.123323</td>\n",
       "      <td>0.732671</td>\n",
       "      <td>0.005964</td>\n",
       "      <td>0.000000</td>\n",
       "      <td>0.004027</td>\n",
       "      <td>0.003863</td>\n",
       "      <td>0.733290</td>\n",
       "      <td>0.733290</td>\n",
       "    </tr>\n",
       "    <tr>\n",
       "      <th>2888</th>\n",
       "      <td>0.012512</td>\n",
       "      <td>0.003040</td>\n",
       "      <td>0.000000</td>\n",
       "      <td>0.003953</td>\n",
       "      <td>0.003817</td>\n",
       "      <td>0.122045</td>\n",
       "      <td>0.733813</td>\n",
       "      <td>0.010309</td>\n",
       "      <td>0.002967</td>\n",
       "      <td>0.000000</td>\n",
       "      <td>...</td>\n",
       "      <td>0.004049</td>\n",
       "      <td>0.003831</td>\n",
       "      <td>0.122045</td>\n",
       "      <td>0.733069</td>\n",
       "      <td>0.002982</td>\n",
       "      <td>0.000000</td>\n",
       "      <td>0.004027</td>\n",
       "      <td>0.003863</td>\n",
       "      <td>0.733622</td>\n",
       "      <td>0.733622</td>\n",
       "    </tr>\n",
       "    <tr>\n",
       "      <th>2889</th>\n",
       "      <td>0.010309</td>\n",
       "      <td>0.003040</td>\n",
       "      <td>0.000000</td>\n",
       "      <td>0.003953</td>\n",
       "      <td>0.003817</td>\n",
       "      <td>0.120767</td>\n",
       "      <td>0.734061</td>\n",
       "      <td>0.010000</td>\n",
       "      <td>0.002967</td>\n",
       "      <td>0.000000</td>\n",
       "      <td>...</td>\n",
       "      <td>0.004049</td>\n",
       "      <td>0.003831</td>\n",
       "      <td>0.120767</td>\n",
       "      <td>0.733466</td>\n",
       "      <td>0.002982</td>\n",
       "      <td>0.000000</td>\n",
       "      <td>0.004027</td>\n",
       "      <td>0.003863</td>\n",
       "      <td>0.734009</td>\n",
       "      <td>0.734009</td>\n",
       "    </tr>\n",
       "    <tr>\n",
       "      <th>2890</th>\n",
       "      <td>0.010000</td>\n",
       "      <td>0.003040</td>\n",
       "      <td>0.000000</td>\n",
       "      <td>0.003953</td>\n",
       "      <td>0.003817</td>\n",
       "      <td>0.119489</td>\n",
       "      <td>0.734557</td>\n",
       "      <td>0.008378</td>\n",
       "      <td>0.002967</td>\n",
       "      <td>0.000000</td>\n",
       "      <td>...</td>\n",
       "      <td>0.004049</td>\n",
       "      <td>0.003831</td>\n",
       "      <td>0.119489</td>\n",
       "      <td>0.734062</td>\n",
       "      <td>0.002982</td>\n",
       "      <td>0.000000</td>\n",
       "      <td>0.004027</td>\n",
       "      <td>0.003863</td>\n",
       "      <td>0.734526</td>\n",
       "      <td>0.734526</td>\n",
       "    </tr>\n",
       "  </tbody>\n",
       "</table>\n",
       "<p>2891 rows × 48 columns</p>\n",
       "</div>"
      ],
      "text/plain": [
       "       데이터집단 1  Unnamed: 7  Unnamed: 8  Unnamed: 9  Unnamed: 10  Unnamed: 11  \\\n",
       "0     0.019488    0.021277    0.019074    0.027668     0.030534     0.093930   \n",
       "1     0.019184    0.021277    0.021798    0.027668     0.030534     0.093291   \n",
       "2     0.019488    0.021277    0.024523    0.027668     0.030534     0.093291   \n",
       "3     0.022229    0.021277    0.027248    0.027668     0.030534     0.093291   \n",
       "4     0.024970    0.021277    0.032698    0.031621     0.038168     0.093291   \n",
       "...        ...         ...         ...         ...          ...          ...   \n",
       "2886  0.069378    0.018237    0.000000    0.003953     0.003817     0.125240   \n",
       "2887  0.025148    0.006079    0.000000    0.003953     0.003817     0.123323   \n",
       "2888  0.012512    0.003040    0.000000    0.003953     0.003817     0.122045   \n",
       "2889  0.010309    0.003040    0.000000    0.003953     0.003817     0.120767   \n",
       "2890  0.010000    0.003040    0.000000    0.003953     0.003817     0.119489   \n",
       "\n",
       "      Unnamed: 12   데이터집단 2  Unnamed: 14  Unnamed: 15  ...  Unnamed: 44  \\\n",
       "0        0.153560  0.019184     0.020772     0.019074  ...     0.032389   \n",
       "1        0.153312  0.019488     0.020772     0.021798  ...     0.040486   \n",
       "2        0.153064  0.022229     0.020772     0.024523  ...     0.040486   \n",
       "3        0.153064  0.024970     0.020772     0.027248  ...     0.060729   \n",
       "4        0.153064  0.034409     0.026706     0.032698  ...     0.072874   \n",
       "...           ...       ...          ...          ...  ...          ...   \n",
       "2886     0.733069  0.025148     0.017804     0.000000  ...     0.004049   \n",
       "2887     0.733565  0.012512     0.005935     0.000000  ...     0.004049   \n",
       "2888     0.733813  0.010309     0.002967     0.000000  ...     0.004049   \n",
       "2889     0.734061  0.010000     0.002967     0.000000  ...     0.004049   \n",
       "2890     0.734557  0.008378     0.002967     0.000000  ...     0.004049   \n",
       "\n",
       "      Unnamed: 45  Unnamed: 46  Unnamed: 47  avg_A_waterfall  avg_B_waterfall  \\\n",
       "0        0.030651     0.093930     0.155313         0.020875         0.019462   \n",
       "1        0.038314     0.093291     0.154916         0.020875         0.022243   \n",
       "2        0.042146     0.093291     0.154518         0.020875         0.025023   \n",
       "3        0.053640     0.093291     0.154320         0.023857         0.027804   \n",
       "4        0.061303     0.093291     0.153923         0.030318         0.033364   \n",
       "...           ...          ...          ...              ...              ...   \n",
       "2886     0.003831     0.125240     0.732075         0.017893         0.000000   \n",
       "2887     0.003831     0.123323     0.732671         0.005964         0.000000   \n",
       "2888     0.003831     0.122045     0.733069         0.002982         0.000000   \n",
       "2889     0.003831     0.120767     0.733466         0.002982         0.000000   \n",
       "2890     0.003831     0.119489     0.734062         0.002982         0.000000   \n",
       "\n",
       "      avg_C_waterfall  avg_D_waterfall  avg_D_waterlevel  avg_E_waterlevel  \n",
       "0            0.030201         0.030908          0.155043          0.155043  \n",
       "1            0.034228         0.034771          0.154919          0.154919  \n",
       "2            0.034899         0.036703          0.154795          0.154795  \n",
       "3            0.046980         0.043786          0.154719          0.154719  \n",
       "4            0.055034         0.050869          0.154507          0.154507  \n",
       "...               ...              ...               ...               ...  \n",
       "2886         0.004027         0.003863          0.732884          0.732884  \n",
       "2887         0.004027         0.003863          0.733290          0.733290  \n",
       "2888         0.004027         0.003863          0.733622          0.733622  \n",
       "2889         0.004027         0.003863          0.734009          0.734009  \n",
       "2890         0.004027         0.003863          0.734526          0.734526  \n",
       "\n",
       "[2891 rows x 48 columns]"
      ]
     },
     "execution_count": 7,
     "metadata": {},
     "output_type": "execute_result"
    }
   ],
   "source": [
    "train_feature"
   ]
  },
  {
   "cell_type": "code",
   "execution_count": 8,
   "id": "2545712f",
   "metadata": {
    "ExecuteTime": {
     "end_time": "2021-08-17T19:39:45.304866Z",
     "start_time": "2021-08-17T19:39:45.299859Z"
    }
   },
   "outputs": [
    {
     "data": {
      "text/plain": [
       "2891"
      ]
     },
     "execution_count": 8,
     "metadata": {},
     "output_type": "execute_result"
    }
   ],
   "source": [
    "train_label\n",
    "len(train_label)"
   ]
  },
  {
   "cell_type": "code",
   "execution_count": 9,
   "id": "17001dd7",
   "metadata": {
    "ExecuteTime": {
     "end_time": "2021-08-17T19:39:45.806527Z",
     "start_time": "2021-08-17T19:39:45.309673Z"
    }
   },
   "outputs": [],
   "source": [
    "# train dataset\n",
    "train_feature, train_label = make_dataset(train_feature, train_label, 20)"
   ]
  },
  {
   "cell_type": "code",
   "execution_count": 10,
   "id": "6322d0f9",
   "metadata": {
    "ExecuteTime": {
     "end_time": "2021-08-17T19:39:45.816161Z",
     "start_time": "2021-08-17T19:39:45.808182Z"
    }
   },
   "outputs": [
    {
     "name": "stdout",
     "output_type": "stream",
     "text": [
      "[[[0.01948843 0.0212766  0.01907357 ... 0.03090792 0.15504297 0.15504297]\n",
      "  [0.01918392 0.0212766  0.02179837 ... 0.03477141 0.15491893 0.15491893]\n",
      "  [0.01948843 0.0212766  0.02452316 ... 0.03670316 0.15479488 0.15479488]\n",
      "  ...\n",
      "  [0.17356882 0.12462006 0.16621253 ... 0.23245332 0.15296667 0.15296667]\n",
      "  [0.1772229  0.12462006 0.16893733 ... 0.23438506 0.15393783 0.15393783]\n",
      "  [0.18087698 0.13069909 0.17166213 ... 0.23889247 0.15519928 0.15519928]]\n",
      "\n",
      " [[0.01918392 0.0212766  0.02179837 ... 0.03477141 0.15491893 0.15491893]\n",
      "  [0.01948843 0.0212766  0.02452316 ... 0.03670316 0.15479488 0.15479488]\n",
      "  [0.02222899 0.0212766  0.02724796 ... 0.04378622 0.15471886 0.15471886]\n",
      "  ...\n",
      "  [0.1772229  0.12462006 0.16893733 ... 0.23438506 0.15393783 0.15393783]\n",
      "  [0.18087698 0.13069909 0.17166213 ... 0.23889247 0.15519928 0.15519928]\n",
      "  [0.18392205 0.1337386  0.17438692 ... 0.24146813 0.15661915 0.15661915]]\n",
      "\n",
      " [[0.01948843 0.0212766  0.02452316 ... 0.03670316 0.15479488 0.15479488]\n",
      "  [0.02222899 0.0212766  0.02724796 ... 0.04378622 0.15471886 0.15471886]\n",
      "  [0.02496955 0.0212766  0.03269755 ... 0.05086929 0.1545072  0.1545072 ]\n",
      "  ...\n",
      "  [0.18087698 0.13069909 0.17166213 ... 0.23889247 0.15519928 0.15519928]\n",
      "  [0.18392205 0.1337386  0.17438692 ... 0.24146813 0.15661915 0.15661915]\n",
      "  [0.18574909 0.13677812 0.17711172 ... 0.24211204 0.15818578 0.15818578]]\n",
      "\n",
      " ...\n",
      "\n",
      " [[0.19032247 0.10638298 0.14713896 ... 0.16870573 0.7136087  0.7136087 ]\n",
      "  [0.18981303 0.10638298 0.14713896 ... 0.12942692 0.71516272 0.71516272]\n",
      "  [0.18909805 0.10334347 0.14713896 ... 0.07598197 0.71656997 0.71656997]\n",
      "  ...\n",
      "  [0.11118423 0.03039514 0.         ... 0.00386349 0.73242216 0.73242216]\n",
      "  [0.06937759 0.01823708 0.         ... 0.00386349 0.73288381 0.73288381]\n",
      "  [0.02514799 0.00607903 0.         ... 0.00386349 0.73329025 0.73329025]]\n",
      "\n",
      " [[0.18981303 0.10638298 0.14713896 ... 0.12942692 0.71516272 0.71516272]\n",
      "  [0.18909805 0.10334347 0.14713896 ... 0.07598197 0.71656997 0.71656997]\n",
      "  [0.18635231 0.09726444 0.1280654  ... 0.03992273 0.71794411 0.71794411]\n",
      "  ...\n",
      "  [0.06937759 0.01823708 0.         ... 0.00386349 0.73288381 0.73288381]\n",
      "  [0.02514799 0.00607903 0.         ... 0.00386349 0.73329025 0.73329025]\n",
      "  [0.01251188 0.00303951 0.         ... 0.00386349 0.73362217 0.73362217]]\n",
      "\n",
      " [[0.18909805 0.10334347 0.14713896 ... 0.07598197 0.71656997 0.71656997]\n",
      "  [0.18635231 0.09726444 0.1280654  ... 0.03992273 0.71794411 0.71794411]\n",
      "  [0.1834458  0.09726444 0.1280654  ... 0.00901481 0.71941484 0.71941484]\n",
      "  ...\n",
      "  [0.02514799 0.00607903 0.         ... 0.00386349 0.73329025 0.73329025]\n",
      "  [0.01251188 0.00303951 0.         ... 0.00386349 0.73362217 0.73362217]\n",
      "  [0.01030877 0.00303951 0.         ... 0.00386349 0.73400929 0.73400929]]]\n",
      "2871\n"
     ]
    }
   ],
   "source": [
    "print(train_feature)\n",
    "print(len(train_feature))"
   ]
  },
  {
   "cell_type": "markdown",
   "id": "ec955928",
   "metadata": {},
   "source": [
    "## 얼라리요 값이 반올림되는게 있네? 이렇게 되도 되려나? "
   ]
  },
  {
   "cell_type": "code",
   "execution_count": 11,
   "id": "bf366e01",
   "metadata": {
    "ExecuteTime": {
     "end_time": "2021-08-17T19:39:45.822050Z",
     "start_time": "2021-08-17T19:39:45.818198Z"
    }
   },
   "outputs": [
    {
     "name": "stdout",
     "output_type": "stream",
     "text": [
      "[[0.06010701]\n",
      " [0.05826407]\n",
      " [0.05869976]\n",
      " ...\n",
      " [0.022716  ]\n",
      " [0.02221129]\n",
      " [0.0217162 ]]\n",
      "2871\n"
     ]
    }
   ],
   "source": [
    "print(train_label)\n",
    "print(len(train_label))"
   ]
  },
  {
   "cell_type": "markdown",
   "id": "98ef8917",
   "metadata": {},
   "source": [
    "0.06010701 이라는 것은 22열에 있는 것이다. 앞에 20개를 뭔가로 설정하고 \n",
    "21 번째 데이터가 train_label 로 설정이 되어있는 상태임. \n",
    "\n",
    "0.0217162 는 2892 열에 있는 데이터. (테스트 데이터 빈칸 바로 전까지 임)\n",
    "\n",
    "22~2892 에 해당하는 2870개의 데이터로 분리가 된 상황.\n",
    "\n",
    "원래 train data 는 2890 개인데, window_size = 20 으로 인해서 이렇게 된거 같음. "
   ]
  },
  {
   "cell_type": "markdown",
   "id": "c166744c",
   "metadata": {},
   "source": [
    "## train_test_split \n",
    "얘는 정확하게 말하자면, train 과 validation 을 나누는 것이다.\n",
    "\n",
    "train/test 으로 구분이 되어있었던 데이터 셋을\n",
    "\n",
    "train data 를 train/ validation 으로 나누는 작업을 한다고 한다. \n",
    "\n",
    "그리고 다들 아는 것처럼 validation 을 통해서 학습한 모델을 평가하는 역할을 하게 되는것이다. "
   ]
  },
  {
   "cell_type": "code",
   "execution_count": 17,
   "id": "dd0b6048",
   "metadata": {
    "ExecuteTime": {
     "end_time": "2021-08-17T19:53:31.995991Z",
     "start_time": "2021-08-17T19:53:31.900523Z"
    }
   },
   "outputs": [
    {
     "name": "stdout",
     "output_type": "stream",
     "text": [
      "x_train.shape x_valid.shape\n",
      "(2238, 20, 48) (633, 20, 48)\n",
      "test_feature.shape, test_label.shape\n",
      "(140, 20, 48) (140, 1)\n"
     ]
    }
   ],
   "source": [
    "# train, validation set 생성, \n",
    "# test_data size =30% 로 일단 측정해 두었다. \n",
    "# validation 에 30%, train dp 70% 를 맥인 상황. \n",
    "# x_train.shape 가 1818,20,48 로 되어있음. 내 생각에는 가운데에 있는 값은,,, 아마도 윈도우 사이즈 를 의미하는 것 같고, \n",
    "#48 의 경우에는 feature 갯수가 48개라서 그런거 같음\n",
    "\n",
    "\n",
    "from sklearn.model_selection import train_test_split \n",
    "\n",
    "\n",
    "x_train, x_valid, y_train, y_valid = train_test_split(train_feature, train_label, test_size=633)\n",
    "print(\"x_train.shape\", \"x_valid.shape\")\n",
    "print(x_train.shape, x_valid.shape)\n",
    "#(1981, 20, 48) (850, 20, 48)\n",
    "\n",
    "test_feature = test[feature_col]\n",
    "test_label = test[label_col]\n",
    "\n",
    "\n",
    "\n",
    "# test dataset (실제 예측 해볼 데이터)\n",
    "test_feature, test_label = make_dataset(test_feature, test_label, 20)\n",
    "print(\"test_feature.shape, test_label.shape\")\n",
    "print(test_feature.shape, test_label.shape)\n",
    "# ((180, 20, 4), (180, 1))"
   ]
  },
  {
   "cell_type": "markdown",
   "id": "270169d3",
   "metadata": {},
   "source": [
    "# LSTM model "
   ]
  },
  {
   "cell_type": "code",
   "execution_count": 18,
   "id": "b9f053ad",
   "metadata": {
    "ExecuteTime": {
     "end_time": "2021-08-17T19:53:34.280391Z",
     "start_time": "2021-08-17T19:53:34.276697Z"
    }
   },
   "outputs": [
    {
     "data": {
      "text/plain": [
       "(2871, 20, 48)"
      ]
     },
     "execution_count": 18,
     "metadata": {},
     "output_type": "execute_result"
    }
   ],
   "source": [
    "train_feature.shape"
   ]
  },
  {
   "cell_type": "code",
   "execution_count": 19,
   "id": "bd61813e",
   "metadata": {
    "ExecuteTime": {
     "end_time": "2021-08-17T19:53:35.536971Z",
     "start_time": "2021-08-17T19:53:35.411391Z"
    },
    "scrolled": true
   },
   "outputs": [
    {
     "name": "stdout",
     "output_type": "stream",
     "text": [
      "Model: \"sequential_1\"\n",
      "_________________________________________________________________\n",
      "Layer (type)                 Output Shape              Param #   \n",
      "=================================================================\n",
      "lstm_1 (LSTM)                (None, 50)                19800     \n",
      "_________________________________________________________________\n",
      "dense_1 (Dense)              (None, 1)                 51        \n",
      "=================================================================\n",
      "Total params: 19,851\n",
      "Trainable params: 19,851\n",
      "Non-trainable params: 0\n",
      "_________________________________________________________________\n",
      "None\n"
     ]
    }
   ],
   "source": [
    "from keras.models import Sequential\n",
    "from keras.layers import Dense\n",
    "from keras.callbacks import EarlyStopping, ModelCheckpoint\n",
    "from keras.layers import LSTM\n",
    "import tensorflow as tf\n",
    "\n",
    "\n",
    "model = Sequential()\n",
    "model.add(LSTM(50,input_shape=(train_feature.shape[1], train_feature.shape[2]),activation='relu',return_sequences=False))\n",
    "model.add(Dense(1))\n",
    "model.compile(loss = 'mean_squared_error', optimizer='adam', metrics = ['accuracy'])\n",
    "\n",
    "# early_stop = EarlyStopping(monitor='val_loss', patience=5)\n",
    "# filename = os.path.join('tmp_checkpoint.h5')\n",
    "# checkpoint = ModelCheckpoint(filename, monitor='val_loss', verbose=1, save_best_only=True, mode='auto')\n",
    "\n",
    "print(model.summary())"
   ]
  },
  {
   "cell_type": "code",
   "execution_count": 20,
   "id": "52d1b828",
   "metadata": {
    "ExecuteTime": {
     "end_time": "2021-08-17T19:53:52.003406Z",
     "start_time": "2021-08-17T19:53:37.036035Z"
    }
   },
   "outputs": [
    {
     "name": "stdout",
     "output_type": "stream",
     "text": [
      "Epoch 1/200\n",
      "112/112 - 3s - loss: 0.0082 - accuracy: 8.9366e-04 - val_loss: 0.0021 - val_accuracy: 0.0000e+00\n",
      "Epoch 2/200\n",
      "112/112 - 1s - loss: 0.0016 - accuracy: 8.9366e-04 - val_loss: 0.0012 - val_accuracy: 0.0000e+00\n",
      "Epoch 3/200\n",
      "112/112 - 1s - loss: 9.4659e-04 - accuracy: 8.9366e-04 - val_loss: 8.1975e-04 - val_accuracy: 0.0000e+00\n",
      "Epoch 4/200\n",
      "112/112 - 1s - loss: 7.9676e-04 - accuracy: 8.9366e-04 - val_loss: 6.8401e-04 - val_accuracy: 0.0000e+00\n",
      "Epoch 5/200\n",
      "112/112 - 1s - loss: 6.2942e-04 - accuracy: 8.9366e-04 - val_loss: 6.5563e-04 - val_accuracy: 0.0000e+00\n",
      "Epoch 6/200\n",
      "112/112 - 1s - loss: 6.6362e-04 - accuracy: 8.9366e-04 - val_loss: 6.0113e-04 - val_accuracy: 0.0000e+00\n",
      "Epoch 7/200\n",
      "112/112 - 1s - loss: 5.5943e-04 - accuracy: 8.9366e-04 - val_loss: 6.5109e-04 - val_accuracy: 0.0000e+00\n",
      "Epoch 8/200\n",
      "112/112 - 1s - loss: 4.7328e-04 - accuracy: 8.9366e-04 - val_loss: 5.5267e-04 - val_accuracy: 0.0000e+00\n",
      "Epoch 9/200\n",
      "112/112 - 1s - loss: 4.5880e-04 - accuracy: 8.9366e-04 - val_loss: 4.8329e-04 - val_accuracy: 0.0000e+00\n",
      "Epoch 10/200\n",
      "112/112 - 1s - loss: 4.9517e-04 - accuracy: 8.9366e-04 - val_loss: 8.5163e-04 - val_accuracy: 0.0000e+00\n",
      "Epoch 11/200\n",
      "112/112 - 1s - loss: 5.6036e-04 - accuracy: 8.9366e-04 - val_loss: 5.4423e-04 - val_accuracy: 0.0000e+00\n",
      "Epoch 12/200\n",
      "112/112 - 1s - loss: 4.3206e-04 - accuracy: 8.9366e-04 - val_loss: 4.3330e-04 - val_accuracy: 0.0000e+00\n",
      "Epoch 13/200\n",
      "112/112 - 1s - loss: 4.2584e-04 - accuracy: 8.9366e-04 - val_loss: 7.7804e-04 - val_accuracy: 0.0000e+00\n",
      "Epoch 14/200\n",
      "112/112 - 1s - loss: 3.7291e-04 - accuracy: 8.9366e-04 - val_loss: 3.7679e-04 - val_accuracy: 0.0000e+00\n",
      "Epoch 15/200\n",
      "112/112 - 1s - loss: 3.7936e-04 - accuracy: 8.9366e-04 - val_loss: 4.0209e-04 - val_accuracy: 0.0000e+00\n",
      "Epoch 16/200\n",
      "112/112 - 1s - loss: 3.4587e-04 - accuracy: 8.9366e-04 - val_loss: 4.0364e-04 - val_accuracy: 0.0000e+00\n",
      "Epoch 17/200\n",
      "112/112 - 1s - loss: 3.7237e-04 - accuracy: 8.9366e-04 - val_loss: 8.5340e-04 - val_accuracy: 0.0000e+00\n",
      "Epoch 18/200\n",
      "112/112 - 1s - loss: 4.1560e-04 - accuracy: 8.9366e-04 - val_loss: 4.6298e-04 - val_accuracy: 0.0000e+00\n",
      "Epoch 19/200\n",
      "112/112 - 1s - loss: 3.2711e-04 - accuracy: 8.9366e-04 - val_loss: 3.7447e-04 - val_accuracy: 0.0000e+00\n",
      "Epoch 20/200\n",
      "112/112 - 1s - loss: 3.5964e-04 - accuracy: 8.9366e-04 - val_loss: 4.3067e-04 - val_accuracy: 0.0000e+00\n",
      "Epoch 21/200\n",
      "112/112 - 1s - loss: 3.7088e-04 - accuracy: 8.9366e-04 - val_loss: 5.1341e-04 - val_accuracy: 0.0000e+00\n",
      "Epoch 22/200\n",
      "112/112 - 1s - loss: 3.7762e-04 - accuracy: 8.9366e-04 - val_loss: 4.5647e-04 - val_accuracy: 0.0000e+00\n",
      "Epoch 23/200\n",
      "112/112 - 1s - loss: 3.0464e-04 - accuracy: 8.9366e-04 - val_loss: 3.4942e-04 - val_accuracy: 0.0000e+00\n",
      "Epoch 24/200\n"
     ]
    },
    {
     "ename": "KeyboardInterrupt",
     "evalue": "",
     "output_type": "error",
     "traceback": [
      "\u001b[0;31m---------------------------------------------------------------------------\u001b[0m",
      "\u001b[0;31mKeyboardInterrupt\u001b[0m                         Traceback (most recent call last)",
      "\u001b[0;32m/var/folders/vv/vvx773p17_vcvtx6x274kj180000gn/T/ipykernel_6574/3918334308.py\u001b[0m in \u001b[0;36m<module>\u001b[0;34m\u001b[0m\n\u001b[0;32m----> 1\u001b[0;31m history = model.fit(x_train, y_train, \n\u001b[0m\u001b[1;32m      2\u001b[0m                     \u001b[0mepochs\u001b[0m\u001b[0;34m=\u001b[0m\u001b[0;36m200\u001b[0m\u001b[0;34m,\u001b[0m\u001b[0;34m\u001b[0m\u001b[0;34m\u001b[0m\u001b[0m\n\u001b[1;32m      3\u001b[0m                     \u001b[0mbatch_size\u001b[0m\u001b[0;34m=\u001b[0m\u001b[0;36m20\u001b[0m\u001b[0;34m,\u001b[0m\u001b[0;34m\u001b[0m\u001b[0;34m\u001b[0m\u001b[0m\n\u001b[1;32m      4\u001b[0m                     \u001b[0mverbose\u001b[0m \u001b[0;34m=\u001b[0m \u001b[0;36m2\u001b[0m\u001b[0;34m,\u001b[0m\u001b[0;34m\u001b[0m\u001b[0;34m\u001b[0m\u001b[0m\n\u001b[1;32m      5\u001b[0m                     \u001b[0mvalidation_data\u001b[0m\u001b[0;34m=\u001b[0m\u001b[0;34m(\u001b[0m\u001b[0mx_valid\u001b[0m\u001b[0;34m,\u001b[0m \u001b[0my_valid\u001b[0m\u001b[0;34m)\u001b[0m\u001b[0;34m\u001b[0m\u001b[0;34m\u001b[0m\u001b[0m\n",
      "\u001b[0;32m~/opt/anaconda3/lib/python3.8/site-packages/keras/engine/training.py\u001b[0m in \u001b[0;36mfit\u001b[0;34m(self, x, y, batch_size, epochs, verbose, callbacks, validation_split, validation_data, shuffle, class_weight, sample_weight, initial_epoch, steps_per_epoch, validation_steps, validation_batch_size, validation_freq, max_queue_size, workers, use_multiprocessing)\u001b[0m\n\u001b[1;32m   1156\u001b[0m                 _r=1):\n\u001b[1;32m   1157\u001b[0m               \u001b[0mcallbacks\u001b[0m\u001b[0;34m.\u001b[0m\u001b[0mon_train_batch_begin\u001b[0m\u001b[0;34m(\u001b[0m\u001b[0mstep\u001b[0m\u001b[0;34m)\u001b[0m\u001b[0;34m\u001b[0m\u001b[0;34m\u001b[0m\u001b[0m\n\u001b[0;32m-> 1158\u001b[0;31m               \u001b[0mtmp_logs\u001b[0m \u001b[0;34m=\u001b[0m \u001b[0mself\u001b[0m\u001b[0;34m.\u001b[0m\u001b[0mtrain_function\u001b[0m\u001b[0;34m(\u001b[0m\u001b[0miterator\u001b[0m\u001b[0;34m)\u001b[0m\u001b[0;34m\u001b[0m\u001b[0;34m\u001b[0m\u001b[0m\n\u001b[0m\u001b[1;32m   1159\u001b[0m               \u001b[0;32mif\u001b[0m \u001b[0mdata_handler\u001b[0m\u001b[0;34m.\u001b[0m\u001b[0mshould_sync\u001b[0m\u001b[0;34m:\u001b[0m\u001b[0;34m\u001b[0m\u001b[0;34m\u001b[0m\u001b[0m\n\u001b[1;32m   1160\u001b[0m                 \u001b[0mcontext\u001b[0m\u001b[0;34m.\u001b[0m\u001b[0masync_wait\u001b[0m\u001b[0;34m(\u001b[0m\u001b[0;34m)\u001b[0m\u001b[0;34m\u001b[0m\u001b[0;34m\u001b[0m\u001b[0m\n",
      "\u001b[0;32m~/opt/anaconda3/lib/python3.8/site-packages/tensorflow/python/eager/def_function.py\u001b[0m in \u001b[0;36m__call__\u001b[0;34m(self, *args, **kwds)\u001b[0m\n\u001b[1;32m    887\u001b[0m \u001b[0;34m\u001b[0m\u001b[0m\n\u001b[1;32m    888\u001b[0m       \u001b[0;32mwith\u001b[0m \u001b[0mOptionalXlaContext\u001b[0m\u001b[0;34m(\u001b[0m\u001b[0mself\u001b[0m\u001b[0;34m.\u001b[0m\u001b[0m_jit_compile\u001b[0m\u001b[0;34m)\u001b[0m\u001b[0;34m:\u001b[0m\u001b[0;34m\u001b[0m\u001b[0;34m\u001b[0m\u001b[0m\n\u001b[0;32m--> 889\u001b[0;31m         \u001b[0mresult\u001b[0m \u001b[0;34m=\u001b[0m \u001b[0mself\u001b[0m\u001b[0;34m.\u001b[0m\u001b[0m_call\u001b[0m\u001b[0;34m(\u001b[0m\u001b[0;34m*\u001b[0m\u001b[0margs\u001b[0m\u001b[0;34m,\u001b[0m \u001b[0;34m**\u001b[0m\u001b[0mkwds\u001b[0m\u001b[0;34m)\u001b[0m\u001b[0;34m\u001b[0m\u001b[0;34m\u001b[0m\u001b[0m\n\u001b[0m\u001b[1;32m    890\u001b[0m \u001b[0;34m\u001b[0m\u001b[0m\n\u001b[1;32m    891\u001b[0m       \u001b[0mnew_tracing_count\u001b[0m \u001b[0;34m=\u001b[0m \u001b[0mself\u001b[0m\u001b[0;34m.\u001b[0m\u001b[0mexperimental_get_tracing_count\u001b[0m\u001b[0;34m(\u001b[0m\u001b[0;34m)\u001b[0m\u001b[0;34m\u001b[0m\u001b[0;34m\u001b[0m\u001b[0m\n",
      "\u001b[0;32m~/opt/anaconda3/lib/python3.8/site-packages/tensorflow/python/eager/def_function.py\u001b[0m in \u001b[0;36m_call\u001b[0;34m(self, *args, **kwds)\u001b[0m\n\u001b[1;32m    915\u001b[0m       \u001b[0;31m# In this case we have created variables on the first call, so we run the\u001b[0m\u001b[0;34m\u001b[0m\u001b[0;34m\u001b[0m\u001b[0;34m\u001b[0m\u001b[0m\n\u001b[1;32m    916\u001b[0m       \u001b[0;31m# defunned version which is guaranteed to never create variables.\u001b[0m\u001b[0;34m\u001b[0m\u001b[0;34m\u001b[0m\u001b[0;34m\u001b[0m\u001b[0m\n\u001b[0;32m--> 917\u001b[0;31m       \u001b[0;32mreturn\u001b[0m \u001b[0mself\u001b[0m\u001b[0;34m.\u001b[0m\u001b[0m_stateless_fn\u001b[0m\u001b[0;34m(\u001b[0m\u001b[0;34m*\u001b[0m\u001b[0margs\u001b[0m\u001b[0;34m,\u001b[0m \u001b[0;34m**\u001b[0m\u001b[0mkwds\u001b[0m\u001b[0;34m)\u001b[0m  \u001b[0;31m# pylint: disable=not-callable\u001b[0m\u001b[0;34m\u001b[0m\u001b[0;34m\u001b[0m\u001b[0m\n\u001b[0m\u001b[1;32m    918\u001b[0m     \u001b[0;32melif\u001b[0m \u001b[0mself\u001b[0m\u001b[0;34m.\u001b[0m\u001b[0m_stateful_fn\u001b[0m \u001b[0;32mis\u001b[0m \u001b[0;32mnot\u001b[0m \u001b[0;32mNone\u001b[0m\u001b[0;34m:\u001b[0m\u001b[0;34m\u001b[0m\u001b[0;34m\u001b[0m\u001b[0m\n\u001b[1;32m    919\u001b[0m       \u001b[0;31m# Release the lock early so that multiple threads can perform the call\u001b[0m\u001b[0;34m\u001b[0m\u001b[0;34m\u001b[0m\u001b[0;34m\u001b[0m\u001b[0m\n",
      "\u001b[0;32m~/opt/anaconda3/lib/python3.8/site-packages/tensorflow/python/eager/function.py\u001b[0m in \u001b[0;36m__call__\u001b[0;34m(self, *args, **kwargs)\u001b[0m\n\u001b[1;32m   3021\u001b[0m       (graph_function,\n\u001b[1;32m   3022\u001b[0m        filtered_flat_args) = self._maybe_define_function(args, kwargs)\n\u001b[0;32m-> 3023\u001b[0;31m     return graph_function._call_flat(\n\u001b[0m\u001b[1;32m   3024\u001b[0m         filtered_flat_args, captured_inputs=graph_function.captured_inputs)  # pylint: disable=protected-access\n\u001b[1;32m   3025\u001b[0m \u001b[0;34m\u001b[0m\u001b[0m\n",
      "\u001b[0;32m~/opt/anaconda3/lib/python3.8/site-packages/tensorflow/python/eager/function.py\u001b[0m in \u001b[0;36m_call_flat\u001b[0;34m(self, args, captured_inputs, cancellation_manager)\u001b[0m\n\u001b[1;32m   1958\u001b[0m         and executing_eagerly):\n\u001b[1;32m   1959\u001b[0m       \u001b[0;31m# No tape is watching; skip to running the function.\u001b[0m\u001b[0;34m\u001b[0m\u001b[0;34m\u001b[0m\u001b[0;34m\u001b[0m\u001b[0m\n\u001b[0;32m-> 1960\u001b[0;31m       return self._build_call_outputs(self._inference_function.call(\n\u001b[0m\u001b[1;32m   1961\u001b[0m           ctx, args, cancellation_manager=cancellation_manager))\n\u001b[1;32m   1962\u001b[0m     forward_backward = self._select_forward_and_backward_functions(\n",
      "\u001b[0;32m~/opt/anaconda3/lib/python3.8/site-packages/tensorflow/python/eager/function.py\u001b[0m in \u001b[0;36mcall\u001b[0;34m(self, ctx, args, cancellation_manager)\u001b[0m\n\u001b[1;32m    589\u001b[0m       \u001b[0;32mwith\u001b[0m \u001b[0m_InterpolateFunctionError\u001b[0m\u001b[0;34m(\u001b[0m\u001b[0mself\u001b[0m\u001b[0;34m)\u001b[0m\u001b[0;34m:\u001b[0m\u001b[0;34m\u001b[0m\u001b[0;34m\u001b[0m\u001b[0m\n\u001b[1;32m    590\u001b[0m         \u001b[0;32mif\u001b[0m \u001b[0mcancellation_manager\u001b[0m \u001b[0;32mis\u001b[0m \u001b[0;32mNone\u001b[0m\u001b[0;34m:\u001b[0m\u001b[0;34m\u001b[0m\u001b[0;34m\u001b[0m\u001b[0m\n\u001b[0;32m--> 591\u001b[0;31m           outputs = execute.execute(\n\u001b[0m\u001b[1;32m    592\u001b[0m               \u001b[0mstr\u001b[0m\u001b[0;34m(\u001b[0m\u001b[0mself\u001b[0m\u001b[0;34m.\u001b[0m\u001b[0msignature\u001b[0m\u001b[0;34m.\u001b[0m\u001b[0mname\u001b[0m\u001b[0;34m)\u001b[0m\u001b[0;34m,\u001b[0m\u001b[0;34m\u001b[0m\u001b[0;34m\u001b[0m\u001b[0m\n\u001b[1;32m    593\u001b[0m               \u001b[0mnum_outputs\u001b[0m\u001b[0;34m=\u001b[0m\u001b[0mself\u001b[0m\u001b[0;34m.\u001b[0m\u001b[0m_num_outputs\u001b[0m\u001b[0;34m,\u001b[0m\u001b[0;34m\u001b[0m\u001b[0;34m\u001b[0m\u001b[0m\n",
      "\u001b[0;32m~/opt/anaconda3/lib/python3.8/site-packages/tensorflow/python/eager/execute.py\u001b[0m in \u001b[0;36mquick_execute\u001b[0;34m(op_name, num_outputs, inputs, attrs, ctx, name)\u001b[0m\n\u001b[1;32m     57\u001b[0m   \u001b[0;32mtry\u001b[0m\u001b[0;34m:\u001b[0m\u001b[0;34m\u001b[0m\u001b[0;34m\u001b[0m\u001b[0m\n\u001b[1;32m     58\u001b[0m     \u001b[0mctx\u001b[0m\u001b[0;34m.\u001b[0m\u001b[0mensure_initialized\u001b[0m\u001b[0;34m(\u001b[0m\u001b[0;34m)\u001b[0m\u001b[0;34m\u001b[0m\u001b[0;34m\u001b[0m\u001b[0m\n\u001b[0;32m---> 59\u001b[0;31m     tensors = pywrap_tfe.TFE_Py_Execute(ctx._handle, device_name, op_name,\n\u001b[0m\u001b[1;32m     60\u001b[0m                                         inputs, attrs, num_outputs)\n\u001b[1;32m     61\u001b[0m   \u001b[0;32mexcept\u001b[0m \u001b[0mcore\u001b[0m\u001b[0;34m.\u001b[0m\u001b[0m_NotOkStatusException\u001b[0m \u001b[0;32mas\u001b[0m \u001b[0me\u001b[0m\u001b[0;34m:\u001b[0m\u001b[0;34m\u001b[0m\u001b[0;34m\u001b[0m\u001b[0m\n",
      "\u001b[0;31mKeyboardInterrupt\u001b[0m: "
     ]
    }
   ],
   "source": [
    "history = model.fit(x_train, y_train, \n",
    "                    epochs=200, \n",
    "                    batch_size=20,\n",
    "                    verbose = 2,\n",
    "                    validation_data=(x_valid, y_valid)\n",
    "#                     callbacks=[early_stop, checkpoint])                   \n",
    "                   )\n",
    "\n"
   ]
  },
  {
   "cell_type": "code",
   "execution_count": null,
   "id": "5f6978c7",
   "metadata": {},
   "outputs": [],
   "source": []
  }
 ],
 "metadata": {
  "hide_input": false,
  "kernelspec": {
   "display_name": "Python 3 (ipykernel)",
   "language": "python",
   "name": "python3"
  },
  "language_info": {
   "codemirror_mode": {
    "name": "ipython",
    "version": 3
   },
   "file_extension": ".py",
   "mimetype": "text/x-python",
   "name": "python",
   "nbconvert_exporter": "python",
   "pygments_lexer": "ipython3",
   "version": "3.8.8"
  },
  "varInspector": {
   "cols": {
    "lenName": 16,
    "lenType": 16,
    "lenVar": 40
   },
   "kernels_config": {
    "python": {
     "delete_cmd_postfix": "",
     "delete_cmd_prefix": "del ",
     "library": "var_list.py",
     "varRefreshCmd": "print(var_dic_list())"
    },
    "r": {
     "delete_cmd_postfix": ") ",
     "delete_cmd_prefix": "rm(",
     "library": "var_list.r",
     "varRefreshCmd": "cat(var_dic_list()) "
    }
   },
   "types_to_exclude": [
    "module",
    "function",
    "builtin_function_or_method",
    "instance",
    "_Feature"
   ],
   "window_display": false
  }
 },
 "nbformat": 4,
 "nbformat_minor": 5
}
