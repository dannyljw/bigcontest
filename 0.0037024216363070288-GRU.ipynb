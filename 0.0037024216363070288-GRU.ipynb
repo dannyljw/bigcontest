{
 "cells": [
  {
   "cell_type": "code",
   "execution_count": 1,
   "metadata": {
    "ExecuteTime": {
     "end_time": "2021-08-26T06:36:46.117510Z",
     "start_time": "2021-08-26T06:36:41.240184Z"
    },
    "id": "6Gn94tz0taQB"
   },
   "outputs": [],
   "source": [
    "import numpy as np\n",
    "import pandas as pd\n",
    "import os\n",
    "import openpyxl\n",
    "import tensorflow as tf\n",
    "from openpyxl import load_workbook\n",
    "import matplotlib.pyplot as plt\n",
    "import matplotlib.ticker as ticker\n",
    "from pandas import DataFrame\n",
    "from sklearn.preprocessing import MinMaxScaler\n",
    "from pandas import concat\n",
    "from tensorflow.keras.layers import LSTM,Dense,GRU,Dropout,SimpleRNN\n",
    "from sklearn.metrics import mean_squared_error\n",
    "# from keras.callbacks import EarlyStopping, ModelCheckpoint"
   ]
  },
  {
   "cell_type": "code",
   "execution_count": 2,
   "metadata": {
    "ExecuteTime": {
     "end_time": "2021-08-26T06:36:46.125623Z",
     "start_time": "2021-08-26T06:36:46.119159Z"
    },
    "id": "dJJQXgWftsme"
   },
   "outputs": [],
   "source": [
    "def series_to_supervised(data, n_in=1, n_out=1, dropnan=True):\n",
    "    n_vars = 1 if type(data) is list else data.shape[1]\n",
    "    df = DataFrame(data)\n",
    "    cols, names = list(), list()\n",
    "    # input sequence (t-n, ... t-1)\n",
    "    for i in range(n_in, 0, -1):\n",
    "        cols.append(df.shift(i))\n",
    "        names += [('var%d(t-%d)' % (j + 1, i)) for j in range(n_vars)]\n",
    "    # forecast sequence (t, t+1, ... t+n)\n",
    "    for i in range(0, n_out):\n",
    "        cols.append(df.shift(-i))\n",
    "        if i == 0:\n",
    "            names += [('var%d(t)' % (j + 1)) for j in range(n_vars)]\n",
    "        else:\n",
    "            names += [('var%d(t+%d)' % (j + 1, i)) for j in range(n_vars)]\n",
    "    # put it all together\n",
    "    agg = concat(cols, axis=1)\n",
    "    agg.columns = names\n",
    "    # drop rows with NaN values\n",
    "    if dropnan:\n",
    "        agg.dropna(inplace=True)\n",
    "    return agg"
   ]
  },
  {
   "cell_type": "code",
   "execution_count": 3,
   "metadata": {
    "ExecuteTime": {
     "end_time": "2021-08-26T06:36:46.130948Z",
     "start_time": "2021-08-26T06:36:46.128293Z"
    },
    "id": "r0DmrTLztvcc"
   },
   "outputs": [],
   "source": [
    "n_hours = 5\n",
    "n_features = 43\n",
    "train_num_24 = 2789\n",
    "train_num_25 = 2892\n",
    "train_num_19 = 1934"
   ]
  },
  {
   "cell_type": "code",
   "execution_count": 4,
   "metadata": {
    "ExecuteTime": {
     "end_time": "2021-08-26T06:36:47.901998Z",
     "start_time": "2021-08-26T06:36:46.132591Z"
    }
   },
   "outputs": [
    {
     "data": {
      "text/html": [
       "<div>\n",
       "<style scoped>\n",
       "    .dataframe tbody tr th:only-of-type {\n",
       "        vertical-align: middle;\n",
       "    }\n",
       "\n",
       "    .dataframe tbody tr th {\n",
       "        vertical-align: top;\n",
       "    }\n",
       "\n",
       "    .dataframe thead th {\n",
       "        text-align: right;\n",
       "    }\n",
       "</style>\n",
       "<table border=\"1\" class=\"dataframe\">\n",
       "  <thead>\n",
       "    <tr style=\"text-align: right;\">\n",
       "      <th></th>\n",
       "      <th>홍수사상번호</th>\n",
       "      <th>연</th>\n",
       "      <th>월</th>\n",
       "      <th>일</th>\n",
       "      <th>시간</th>\n",
       "      <th>유입량</th>\n",
       "      <th>데이터집단 1</th>\n",
       "      <th>Unnamed: 7</th>\n",
       "      <th>Unnamed: 8</th>\n",
       "      <th>Unnamed: 9</th>\n",
       "      <th>...</th>\n",
       "      <th>Unnamed: 38</th>\n",
       "      <th>Unnamed: 39</th>\n",
       "      <th>Unnamed: 40</th>\n",
       "      <th>데이터 집단 6</th>\n",
       "      <th>Unnamed: 42</th>\n",
       "      <th>Unnamed: 43</th>\n",
       "      <th>Unnamed: 44</th>\n",
       "      <th>Unnamed: 45</th>\n",
       "      <th>Unnamed: 46</th>\n",
       "      <th>Unnamed: 47</th>\n",
       "    </tr>\n",
       "  </thead>\n",
       "  <tbody>\n",
       "    <tr>\n",
       "      <th>0</th>\n",
       "      <td>1</td>\n",
       "      <td>2006</td>\n",
       "      <td>7</td>\n",
       "      <td>10</td>\n",
       "      <td>8</td>\n",
       "      <td>189.100000</td>\n",
       "      <td>6.4</td>\n",
       "      <td>7</td>\n",
       "      <td>7</td>\n",
       "      <td>7</td>\n",
       "      <td>...</td>\n",
       "      <td>8</td>\n",
       "      <td>2.54</td>\n",
       "      <td>122.660</td>\n",
       "      <td>6.4</td>\n",
       "      <td>7</td>\n",
       "      <td>7</td>\n",
       "      <td>8</td>\n",
       "      <td>8</td>\n",
       "      <td>2.54</td>\n",
       "      <td>122.610</td>\n",
       "    </tr>\n",
       "    <tr>\n",
       "      <th>1</th>\n",
       "      <td>1</td>\n",
       "      <td>2006</td>\n",
       "      <td>7</td>\n",
       "      <td>10</td>\n",
       "      <td>9</td>\n",
       "      <td>216.951962</td>\n",
       "      <td>6.3</td>\n",
       "      <td>7</td>\n",
       "      <td>8</td>\n",
       "      <td>7</td>\n",
       "      <td>...</td>\n",
       "      <td>10</td>\n",
       "      <td>2.53</td>\n",
       "      <td>122.648</td>\n",
       "      <td>7.3</td>\n",
       "      <td>7</td>\n",
       "      <td>8</td>\n",
       "      <td>10</td>\n",
       "      <td>10</td>\n",
       "      <td>2.53</td>\n",
       "      <td>122.600</td>\n",
       "    </tr>\n",
       "    <tr>\n",
       "      <th>2</th>\n",
       "      <td>1</td>\n",
       "      <td>2006</td>\n",
       "      <td>7</td>\n",
       "      <td>10</td>\n",
       "      <td>10</td>\n",
       "      <td>251.424419</td>\n",
       "      <td>6.4</td>\n",
       "      <td>7</td>\n",
       "      <td>9</td>\n",
       "      <td>7</td>\n",
       "      <td>...</td>\n",
       "      <td>11</td>\n",
       "      <td>2.53</td>\n",
       "      <td>122.636</td>\n",
       "      <td>8.2</td>\n",
       "      <td>7</td>\n",
       "      <td>9</td>\n",
       "      <td>10</td>\n",
       "      <td>11</td>\n",
       "      <td>2.53</td>\n",
       "      <td>122.590</td>\n",
       "    </tr>\n",
       "    <tr>\n",
       "      <th>3</th>\n",
       "      <td>1</td>\n",
       "      <td>2006</td>\n",
       "      <td>7</td>\n",
       "      <td>10</td>\n",
       "      <td>11</td>\n",
       "      <td>302.812199</td>\n",
       "      <td>7.3</td>\n",
       "      <td>7</td>\n",
       "      <td>10</td>\n",
       "      <td>7</td>\n",
       "      <td>...</td>\n",
       "      <td>14</td>\n",
       "      <td>2.53</td>\n",
       "      <td>122.620</td>\n",
       "      <td>11.3</td>\n",
       "      <td>9</td>\n",
       "      <td>10</td>\n",
       "      <td>15</td>\n",
       "      <td>14</td>\n",
       "      <td>2.53</td>\n",
       "      <td>122.585</td>\n",
       "    </tr>\n",
       "    <tr>\n",
       "      <th>4</th>\n",
       "      <td>1</td>\n",
       "      <td>2006</td>\n",
       "      <td>7</td>\n",
       "      <td>10</td>\n",
       "      <td>12</td>\n",
       "      <td>384.783406</td>\n",
       "      <td>8.2</td>\n",
       "      <td>7</td>\n",
       "      <td>12</td>\n",
       "      <td>8</td>\n",
       "      <td>...</td>\n",
       "      <td>16</td>\n",
       "      <td>2.53</td>\n",
       "      <td>122.604</td>\n",
       "      <td>14.4</td>\n",
       "      <td>12</td>\n",
       "      <td>12</td>\n",
       "      <td>18</td>\n",
       "      <td>16</td>\n",
       "      <td>2.53</td>\n",
       "      <td>122.575</td>\n",
       "    </tr>\n",
       "  </tbody>\n",
       "</table>\n",
       "<p>5 rows × 48 columns</p>\n",
       "</div>"
      ],
      "text/plain": [
       "   홍수사상번호     연  월   일  시간         유입량  데이터집단 1  Unnamed: 7  Unnamed: 8  \\\n",
       "0       1  2006  7  10   8  189.100000      6.4           7           7   \n",
       "1       1  2006  7  10   9  216.951962      6.3           7           8   \n",
       "2       1  2006  7  10  10  251.424419      6.4           7           9   \n",
       "3       1  2006  7  10  11  302.812199      7.3           7          10   \n",
       "4       1  2006  7  10  12  384.783406      8.2           7          12   \n",
       "\n",
       "   Unnamed: 9  ...  Unnamed: 38  Unnamed: 39  Unnamed: 40  데이터 집단 6  \\\n",
       "0           7  ...            8         2.54      122.660       6.4   \n",
       "1           7  ...           10         2.53      122.648       7.3   \n",
       "2           7  ...           11         2.53      122.636       8.2   \n",
       "3           7  ...           14         2.53      122.620      11.3   \n",
       "4           8  ...           16         2.53      122.604      14.4   \n",
       "\n",
       "   Unnamed: 42  Unnamed: 43  Unnamed: 44  Unnamed: 45  Unnamed: 46  \\\n",
       "0            7            7            8            8         2.54   \n",
       "1            7            8           10           10         2.53   \n",
       "2            7            9           10           11         2.53   \n",
       "3            9           10           15           14         2.53   \n",
       "4           12           12           18           16         2.53   \n",
       "\n",
       "   Unnamed: 47  \n",
       "0      122.610  \n",
       "1      122.600  \n",
       "2      122.590  \n",
       "3      122.585  \n",
       "4      122.575  \n",
       "\n",
       "[5 rows x 48 columns]"
      ]
     },
     "execution_count": 4,
     "metadata": {},
     "output_type": "execute_result"
    }
   ],
   "source": [
    "from os.path import join\n",
    "df = pd.read_excel('rain_data.xlsx')\n",
    "df.head()"
   ]
  },
  {
   "cell_type": "code",
   "execution_count": 5,
   "metadata": {
    "ExecuteTime": {
     "end_time": "2021-08-26T06:36:47.912709Z",
     "start_time": "2021-08-26T06:36:47.903721Z"
    },
    "id": "pLYsIzeQuAJM"
   },
   "outputs": [
    {
     "name": "stdout",
     "output_type": "stream",
     "text": [
      "[[189.1         6.4         7.        ...   8.          2.54\n",
      "  122.61     ]\n",
      " [216.9519618   6.3         7.        ...  10.          2.53\n",
      "  122.6      ]\n",
      " [251.4244187   6.4         7.        ...  11.          2.53\n",
      "  122.59     ]\n",
      " ...\n",
      " [481.1030831   3.3854      1.        ...   1.          2.96\n",
      "  137.165    ]\n",
      " [470.4581089   3.2841      1.        ...   1.          2.94\n",
      "  137.18     ]\n",
      " [        nan  14.2576     32.        ...   0.          1.93\n",
      "  120.515    ]]\n"
     ]
    },
    {
     "data": {
      "text/plain": [
       "array([[0.0086303 , 0.01948843, 0.0212766 , ..., 0.03065134, 0.09392971,\n",
       "        0.15531301],\n",
       "       [0.00992569, 0.01918392, 0.0212766 , ..., 0.03831417, 0.09329073,\n",
       "        0.15491581],\n",
       "       [0.01152899, 0.01948843, 0.0212766 , ..., 0.04214559, 0.09329073,\n",
       "        0.1545186 ],\n",
       "       ...,\n",
       "       [0.02221129, 0.01030877, 0.00303951, ..., 0.00383142, 0.12076677,\n",
       "        0.7334657 ],\n",
       "       [0.0217162 , 0.0100003 , 0.00303951, ..., 0.00383142, 0.11948882,\n",
       "        0.73406124],\n",
       "       [       nan, 0.04341535, 0.09726444, ..., 0.        , 0.05495208,\n",
       "        0.07209539]], dtype=float32)"
      ]
     },
     "execution_count": 5,
     "metadata": {},
     "output_type": "execute_result"
    }
   ],
   "source": [
    "# df_metrix 만드는 과정\n",
    "df_matrix = df.to_numpy()\n",
    "df_matrix = df_matrix[0:train_num_25, 5:]\n",
    "print(df_matrix)\n",
    "\n",
    "df_matrix = df_matrix.astype('float32')\n",
    "\n",
    "scaler = MinMaxScaler(feature_range=(0, 1))\n",
    "df_matrix = scaler.fit_transform(df_matrix)\n",
    "\n",
    "df_matrix"
   ]
  },
  {
   "cell_type": "code",
   "execution_count": 6,
   "metadata": {
    "ExecuteTime": {
     "end_time": "2021-08-26T06:36:47.952046Z",
     "start_time": "2021-08-26T06:36:47.914491Z"
    },
    "id": "Z4Qg6m6nuA6h"
   },
   "outputs": [
    {
     "name": "stdout",
     "output_type": "stream",
     "text": [
      "(2886, 216)\n"
     ]
    }
   ],
   "source": [
    "# print(df_matrix)\n",
    "lag = series_to_supervised(df_matrix, n_hours,1)\n",
    "\n",
    "lag = lag.values\n",
    "\n",
    "tmp = lag.shape[1]-42\n",
    "\n",
    "lag = lag[:,0:tmp]\n",
    "print(lag.shape)"
   ]
  },
  {
   "cell_type": "code",
   "execution_count": 7,
   "metadata": {
    "ExecuteTime": {
     "end_time": "2021-08-26T06:36:47.956468Z",
     "start_time": "2021-08-26T06:36:47.953874Z"
    },
    "id": "km1FrS-fuEWe"
   },
   "outputs": [],
   "source": [
    "n_train_hours = train_num_19\n",
    "train = lag[:n_train_hours, :]\n",
    "test = lag[n_train_hours:, :]"
   ]
  },
  {
   "cell_type": "code",
   "execution_count": 8,
   "metadata": {
    "ExecuteTime": {
     "end_time": "2021-08-26T06:36:47.962931Z",
     "start_time": "2021-08-26T06:36:47.958143Z"
    },
    "id": "5_l9JoJVuHKW"
   },
   "outputs": [
    {
     "name": "stdout",
     "output_type": "stream",
     "text": [
      "(1934, 215) 1934 (1934,)\n",
      "(1934, 5, 43) (1934,) (952, 5, 43) (952,)\n"
     ]
    }
   ],
   "source": [
    "##1\n",
    "n_obs = n_hours * n_features\n",
    "train_X, train_y = train[:, :n_obs], train[:, -n_features]\n",
    "test_X, test_y = test[:, :n_obs], test[:, -n_features]\n",
    "print(train_X.shape, len(train_X), train_y.shape)\n",
    "# reshape input to be 3D [samples, timesteps, features]\n",
    "train_X = train_X.reshape((train_X.shape[0], n_hours, n_features))\n",
    "test_X = test_X.reshape((test_X.shape[0], n_hours, n_features))\n",
    "print(train_X.shape, train_y.shape, test_X.shape, test_y.shape)"
   ]
  },
  {
   "cell_type": "code",
   "execution_count": 9,
   "metadata": {
    "ExecuteTime": {
     "end_time": "2021-08-26T06:36:48.345122Z",
     "start_time": "2021-08-26T06:36:47.968455Z"
    },
    "id": "tzHuadakuJ9Z"
   },
   "outputs": [
    {
     "name": "stderr",
     "output_type": "stream",
     "text": [
      "2021-08-26 15:36:48.056659: I tensorflow/core/platform/cpu_feature_guard.cc:143] Your CPU supports instructions that this TensorFlow binary was not compiled to use: AVX2 FMA\n",
      "2021-08-26 15:36:48.073873: I tensorflow/compiler/xla/service/service.cc:168] XLA service 0x7fde86d1a2e0 initialized for platform Host (this does not guarantee that XLA will be used). Devices:\n",
      "2021-08-26 15:36:48.073890: I tensorflow/compiler/xla/service/service.cc:176]   StreamExecutor device (0): Host, Default Version\n"
     ]
    }
   ],
   "source": [
    "#testing\n",
    "model = tf.keras.Sequential()\n",
    "model.add(GRU(units = 50,\n",
    "              # dropout =0.2,\n",
    "              return_sequences = True,\n",
    "              input_shape = (train_X.shape[1],train_X.shape[2]),\n",
    "              activation = 'tanh'))\n",
    "\n",
    "model.add(SimpleRNN(50))\n",
    "\n",
    "model.add(Dense(1))"
   ]
  },
  {
   "cell_type": "code",
   "execution_count": 10,
   "metadata": {
    "ExecuteTime": {
     "end_time": "2021-08-26T06:37:51.808809Z",
     "start_time": "2021-08-26T06:36:48.346488Z"
    },
    "id": "4KvXZaXvuN-I"
   },
   "outputs": [
    {
     "name": "stdout",
     "output_type": "stream",
     "text": [
      "Epoch 1/100\n",
      "121/121 [==============================] - 1s 8ms/step - loss: 0.0149 - val_loss: 5.7397e-04\n",
      "Epoch 2/100\n",
      "121/121 [==============================] - 1s 6ms/step - loss: 7.6949e-04 - val_loss: 5.1252e-04\n",
      "Epoch 3/100\n",
      "121/121 [==============================] - 1s 5ms/step - loss: 3.9483e-04 - val_loss: 2.8636e-04\n",
      "Epoch 4/100\n",
      "121/121 [==============================] - 1s 5ms/step - loss: 3.2768e-04 - val_loss: 5.9066e-04\n",
      "Epoch 5/100\n",
      "121/121 [==============================] - 1s 7ms/step - loss: 2.9207e-04 - val_loss: 1.6743e-04\n",
      "Epoch 6/100\n",
      "121/121 [==============================] - 1s 8ms/step - loss: 2.4085e-04 - val_loss: 1.3070e-04\n",
      "Epoch 7/100\n",
      "121/121 [==============================] - 1s 6ms/step - loss: 1.9483e-04 - val_loss: 1.1094e-04\n",
      "Epoch 8/100\n",
      "121/121 [==============================] - 1s 4ms/step - loss: 2.1804e-04 - val_loss: 1.5543e-04\n",
      "Epoch 9/100\n",
      "121/121 [==============================] - 1s 4ms/step - loss: 1.4908e-04 - val_loss: 8.3918e-05\n",
      "Epoch 10/100\n",
      "121/121 [==============================] - 1s 4ms/step - loss: 1.9743e-04 - val_loss: 1.3077e-04\n",
      "Epoch 11/100\n",
      "121/121 [==============================] - 1s 4ms/step - loss: 1.3260e-04 - val_loss: 7.1850e-05\n",
      "Epoch 12/100\n",
      "121/121 [==============================] - 1s 5ms/step - loss: 1.1089e-04 - val_loss: 6.7174e-05\n",
      "Epoch 13/100\n",
      "121/121 [==============================] - 1s 5ms/step - loss: 1.3473e-04 - val_loss: 8.0493e-05\n",
      "Epoch 14/100\n",
      "121/121 [==============================] - 1s 5ms/step - loss: 1.5643e-04 - val_loss: 3.6191e-04\n",
      "Epoch 15/100\n",
      "121/121 [==============================] - 1s 4ms/step - loss: 1.3947e-04 - val_loss: 1.0101e-04\n",
      "Epoch 16/100\n",
      "121/121 [==============================] - 1s 5ms/step - loss: 7.6279e-05 - val_loss: 7.3075e-05\n",
      "Epoch 17/100\n",
      "121/121 [==============================] - 1s 5ms/step - loss: 9.2014e-05 - val_loss: 7.4008e-05\n",
      "Epoch 18/100\n",
      "121/121 [==============================] - 1s 4ms/step - loss: 7.5285e-05 - val_loss: 9.6970e-05\n",
      "Epoch 19/100\n",
      "121/121 [==============================] - 1s 6ms/step - loss: 1.2401e-04 - val_loss: 1.8077e-04\n",
      "Epoch 20/100\n",
      "121/121 [==============================] - 1s 5ms/step - loss: 8.2338e-05 - val_loss: 4.8542e-05\n",
      "Epoch 21/100\n",
      "121/121 [==============================] - 1s 5ms/step - loss: 6.1561e-05 - val_loss: 4.6651e-05\n",
      "Epoch 22/100\n",
      "121/121 [==============================] - 1s 5ms/step - loss: 8.3540e-05 - val_loss: 5.0299e-05\n",
      "Epoch 23/100\n",
      "121/121 [==============================] - 1s 5ms/step - loss: 6.8746e-05 - val_loss: 4.2761e-05\n",
      "Epoch 24/100\n",
      "121/121 [==============================] - 1s 5ms/step - loss: 8.9706e-05 - val_loss: 1.3530e-04\n",
      "Epoch 25/100\n",
      "121/121 [==============================] - 1s 5ms/step - loss: 1.0942e-04 - val_loss: 8.1186e-05\n",
      "Epoch 26/100\n",
      "121/121 [==============================] - 1s 5ms/step - loss: 4.5021e-05 - val_loss: 3.6091e-05\n",
      "Epoch 27/100\n",
      "121/121 [==============================] - 1s 5ms/step - loss: 3.4657e-05 - val_loss: 5.3132e-05\n",
      "Epoch 28/100\n",
      "121/121 [==============================] - 1s 5ms/step - loss: 8.0852e-05 - val_loss: 4.7816e-05\n",
      "Epoch 29/100\n",
      "121/121 [==============================] - 1s 5ms/step - loss: 6.4257e-05 - val_loss: 4.0295e-05\n",
      "Epoch 30/100\n",
      "121/121 [==============================] - 1s 5ms/step - loss: 3.4582e-05 - val_loss: 2.7934e-05\n",
      "Epoch 31/100\n",
      "121/121 [==============================] - 1s 5ms/step - loss: 5.5995e-05 - val_loss: 6.0259e-05\n",
      "Epoch 32/100\n",
      "121/121 [==============================] - 1s 5ms/step - loss: 6.2494e-05 - val_loss: 5.7749e-05\n",
      "Epoch 33/100\n",
      "121/121 [==============================] - 1s 6ms/step - loss: 3.7162e-05 - val_loss: 3.4878e-05\n",
      "Epoch 34/100\n",
      "121/121 [==============================] - 1s 5ms/step - loss: 4.2101e-05 - val_loss: 2.2014e-05\n",
      "Epoch 35/100\n",
      "121/121 [==============================] - 1s 4ms/step - loss: 5.0371e-05 - val_loss: 7.7283e-05\n",
      "Epoch 36/100\n",
      "121/121 [==============================] - 1s 5ms/step - loss: 5.6276e-05 - val_loss: 2.6102e-05\n",
      "Epoch 37/100\n",
      "121/121 [==============================] - 1s 5ms/step - loss: 7.5260e-05 - val_loss: 1.8092e-04\n",
      "Epoch 38/100\n",
      "121/121 [==============================] - 1s 5ms/step - loss: 8.9749e-05 - val_loss: 2.5608e-05\n",
      "Epoch 39/100\n",
      "121/121 [==============================] - 1s 5ms/step - loss: 5.4077e-05 - val_loss: 2.3164e-05\n",
      "Epoch 40/100\n",
      "121/121 [==============================] - 1s 4ms/step - loss: 4.1389e-05 - val_loss: 6.8420e-05\n",
      "Epoch 41/100\n",
      "121/121 [==============================] - 1s 4ms/step - loss: 2.2709e-05 - val_loss: 3.1778e-05\n",
      "Epoch 42/100\n",
      "121/121 [==============================] - 1s 5ms/step - loss: 1.1060e-04 - val_loss: 4.0528e-05\n",
      "Epoch 43/100\n",
      "121/121 [==============================] - 1s 5ms/step - loss: 7.1426e-05 - val_loss: 5.1943e-05\n",
      "Epoch 44/100\n",
      "121/121 [==============================] - 1s 4ms/step - loss: 1.8342e-05 - val_loss: 1.5691e-05\n",
      "Epoch 45/100\n",
      "121/121 [==============================] - 1s 5ms/step - loss: 1.8753e-05 - val_loss: 1.6619e-05\n",
      "Epoch 46/100\n",
      "121/121 [==============================] - 1s 5ms/step - loss: 1.8412e-05 - val_loss: 1.3632e-05\n",
      "Epoch 47/100\n",
      "121/121 [==============================] - 1s 5ms/step - loss: 2.6644e-05 - val_loss: 2.2114e-05\n",
      "Epoch 48/100\n",
      "121/121 [==============================] - 1s 4ms/step - loss: 3.3676e-05 - val_loss: 2.2587e-05\n",
      "Epoch 49/100\n",
      "121/121 [==============================] - 1s 5ms/step - loss: 5.1261e-05 - val_loss: 1.4744e-05\n",
      "Epoch 50/100\n",
      "121/121 [==============================] - 1s 5ms/step - loss: 1.8242e-05 - val_loss: 4.0376e-05\n",
      "Epoch 51/100\n",
      "121/121 [==============================] - 1s 5ms/step - loss: 2.8833e-05 - val_loss: 1.5502e-05\n",
      "Epoch 52/100\n",
      "121/121 [==============================] - 1s 4ms/step - loss: 1.6263e-05 - val_loss: 1.6339e-05\n",
      "Epoch 53/100\n",
      "121/121 [==============================] - 1s 4ms/step - loss: 5.0671e-05 - val_loss: 1.7924e-05\n",
      "Epoch 54/100\n",
      "121/121 [==============================] - 1s 4ms/step - loss: 3.5087e-05 - val_loss: 3.1546e-05\n",
      "Epoch 55/100\n",
      "121/121 [==============================] - 1s 5ms/step - loss: 1.4704e-05 - val_loss: 8.5419e-06\n",
      "Epoch 56/100\n",
      "121/121 [==============================] - 1s 4ms/step - loss: 3.6877e-05 - val_loss: 2.6538e-05\n",
      "Epoch 57/100\n",
      "121/121 [==============================] - 1s 5ms/step - loss: 7.2675e-05 - val_loss: 6.3724e-05\n",
      "Epoch 58/100\n",
      "121/121 [==============================] - 1s 5ms/step - loss: 1.0791e-04 - val_loss: 6.7224e-05\n",
      "Epoch 59/100\n",
      "121/121 [==============================] - 1s 5ms/step - loss: 1.7789e-05 - val_loss: 8.9805e-06\n",
      "Epoch 60/100\n",
      "121/121 [==============================] - 1s 5ms/step - loss: 4.0915e-05 - val_loss: 8.2458e-05\n",
      "Epoch 61/100\n",
      "121/121 [==============================] - 1s 4ms/step - loss: 5.0459e-05 - val_loss: 9.8174e-06\n",
      "Epoch 62/100\n",
      "121/121 [==============================] - 1s 5ms/step - loss: 1.6485e-05 - val_loss: 1.5739e-05\n",
      "Epoch 63/100\n",
      "121/121 [==============================] - 1s 5ms/step - loss: 1.2930e-05 - val_loss: 2.3933e-05\n",
      "Epoch 64/100\n",
      "121/121 [==============================] - 1s 5ms/step - loss: 1.5724e-05 - val_loss: 1.1057e-05\n",
      "Epoch 65/100\n",
      "121/121 [==============================] - 1s 5ms/step - loss: 1.4505e-05 - val_loss: 1.7648e-05\n",
      "Epoch 66/100\n",
      "121/121 [==============================] - 1s 5ms/step - loss: 4.8781e-05 - val_loss: 1.8691e-05\n",
      "Epoch 67/100\n",
      "121/121 [==============================] - 1s 5ms/step - loss: 4.7101e-05 - val_loss: 1.1645e-05\n",
      "Epoch 68/100\n",
      "121/121 [==============================] - 1s 5ms/step - loss: 2.4854e-05 - val_loss: 1.3420e-05\n",
      "Epoch 69/100\n",
      "121/121 [==============================] - 1s 6ms/step - loss: 1.5758e-05 - val_loss: 1.1063e-05\n",
      "Epoch 70/100\n",
      "121/121 [==============================] - 1s 5ms/step - loss: 1.3879e-05 - val_loss: 9.6216e-06\n",
      "Epoch 71/100\n",
      "121/121 [==============================] - 1s 6ms/step - loss: 1.8876e-05 - val_loss: 1.1015e-05\n",
      "Epoch 72/100\n",
      "121/121 [==============================] - 1s 5ms/step - loss: 3.6763e-05 - val_loss: 1.3920e-05\n",
      "Epoch 73/100\n",
      "121/121 [==============================] - 1s 5ms/step - loss: 4.4199e-05 - val_loss: 1.4881e-05\n",
      "Epoch 74/100\n",
      "121/121 [==============================] - 1s 5ms/step - loss: 1.5028e-05 - val_loss: 1.0838e-05\n",
      "Epoch 75/100\n"
     ]
    },
    {
     "name": "stdout",
     "output_type": "stream",
     "text": [
      "121/121 [==============================] - 1s 5ms/step - loss: 3.7465e-05 - val_loss: 2.8761e-05\n",
      "Epoch 76/100\n",
      "121/121 [==============================] - 1s 4ms/step - loss: 4.1082e-05 - val_loss: 2.3503e-05\n",
      "Epoch 77/100\n",
      "121/121 [==============================] - 1s 5ms/step - loss: 3.2170e-05 - val_loss: 2.4703e-05\n",
      "Epoch 78/100\n",
      "121/121 [==============================] - 1s 5ms/step - loss: 5.3529e-05 - val_loss: 4.9639e-05\n",
      "Epoch 79/100\n",
      "121/121 [==============================] - 1s 5ms/step - loss: 3.0603e-05 - val_loss: 2.0625e-05\n",
      "Epoch 80/100\n",
      "121/121 [==============================] - 1s 5ms/step - loss: 1.2007e-05 - val_loss: 1.1273e-05\n",
      "Epoch 81/100\n",
      "121/121 [==============================] - 1s 5ms/step - loss: 4.6607e-05 - val_loss: 1.1802e-05\n",
      "Epoch 82/100\n",
      "121/121 [==============================] - 1s 5ms/step - loss: 9.7458e-06 - val_loss: 7.2818e-06\n",
      "Epoch 83/100\n",
      "121/121 [==============================] - 1s 6ms/step - loss: 1.0314e-05 - val_loss: 3.6648e-05\n",
      "Epoch 84/100\n",
      "121/121 [==============================] - 1s 5ms/step - loss: 2.2897e-05 - val_loss: 1.6098e-05\n",
      "Epoch 85/100\n",
      "121/121 [==============================] - 1s 5ms/step - loss: 2.9177e-05 - val_loss: 8.0552e-06\n",
      "Epoch 86/100\n",
      "121/121 [==============================] - 1s 6ms/step - loss: 3.7644e-05 - val_loss: 1.1422e-05\n",
      "Epoch 87/100\n",
      "121/121 [==============================] - 1s 5ms/step - loss: 1.2831e-05 - val_loss: 2.6464e-05\n",
      "Epoch 88/100\n",
      "121/121 [==============================] - 1s 5ms/step - loss: 8.4665e-05 - val_loss: 1.5911e-04\n",
      "Epoch 89/100\n",
      "121/121 [==============================] - 1s 5ms/step - loss: 2.6916e-05 - val_loss: 9.7240e-06\n",
      "Epoch 90/100\n",
      "121/121 [==============================] - 1s 5ms/step - loss: 5.1435e-05 - val_loss: 1.9293e-05\n",
      "Epoch 91/100\n",
      "121/121 [==============================] - 1s 6ms/step - loss: 1.5441e-05 - val_loss: 5.3437e-05\n",
      "Epoch 92/100\n",
      "121/121 [==============================] - 1s 5ms/step - loss: 9.1072e-06 - val_loss: 7.3103e-06\n",
      "Epoch 93/100\n",
      "121/121 [==============================] - 1s 5ms/step - loss: 7.1060e-05 - val_loss: 2.7642e-05\n",
      "Epoch 94/100\n",
      "121/121 [==============================] - 1s 5ms/step - loss: 3.5931e-05 - val_loss: 9.1623e-06\n",
      "Epoch 95/100\n",
      "121/121 [==============================] - 1s 5ms/step - loss: 7.7723e-06 - val_loss: 9.2101e-06\n",
      "Epoch 96/100\n",
      "121/121 [==============================] - 1s 5ms/step - loss: 1.0946e-05 - val_loss: 1.5918e-05\n",
      "Epoch 97/100\n",
      "121/121 [==============================] - 1s 6ms/step - loss: 1.0858e-05 - val_loss: 1.0383e-05\n",
      "Epoch 98/100\n",
      "121/121 [==============================] - 1s 5ms/step - loss: 9.3863e-06 - val_loss: 1.3227e-05\n",
      "Epoch 99/100\n",
      "121/121 [==============================] - 1s 6ms/step - loss: 2.2601e-05 - val_loss: 9.0951e-06\n",
      "Epoch 100/100\n",
      "121/121 [==============================] - 1s 5ms/step - loss: 3.2681e-05 - val_loss: 2.1412e-05\n"
     ]
    }
   ],
   "source": [
    "# # optimizer =tf.train.AdamOptimizer(lea)\n",
    "adam = tf.keras.optimizers.Adam(lr =0.01)\n",
    "# early_stop = EarlyStopping(monitor='val_loss', patience=5)\n",
    "# filename = os.path.join(model_path, 'tmp_checkpoint.h5')\n",
    "# checkpoint = ModelCheckpoint(filename, monitor='val_loss', verbose=1, save_best_only=True, mode='auto')\n",
    "\n",
    "model.compile(loss='mse', optimizer='adam')\n",
    "\n",
    "# history = model.fit(train_X, train_y, \n",
    "#                                     epochs=100, \n",
    "#                                     batch_size=16,\n",
    "#                                     validation_data=(test_X, test_y), \n",
    "#                                     callbacks=[early_stop, checkpoint])\n",
    "history = model.fit(train_X, train_y, \n",
    "                                    epochs=100, \n",
    "                                    batch_size=16,\n",
    "                                    validation_data=(test_X, test_y))\n",
    "\n",
    "pred = model.predict(test_X)"
   ]
  },
  {
   "cell_type": "code",
   "execution_count": 11,
   "metadata": {
    "ExecuteTime": {
     "end_time": "2021-08-26T06:37:51.813872Z",
     "start_time": "2021-08-26T06:37:51.810238Z"
    },
    "id": "A9CRrsf6Blnt"
   },
   "outputs": [
    {
     "data": {
      "text/plain": [
       "\"\\nmodel.compile(loss='mean_squared_error', optimizer='adam')\\nearly_stop = EarlyStopping(monitor='val_loss', patience=5)\\nmodel_path = 'model'\\nfilename = os.path.join(model_path, 'tmp_checkpoint.h5')\\ncheckpoint = ModelCheckpoint(filename, monitor='val_loss', verbose=1, save_best_only=True, mode='auto')\\n\\nhistory = model.fit(train_X, train_y, \\n                                    epochs=100, \\n                                    batch_size=16,\\n                                    validation_data=(test_X, test_y), \\n                                    callbacks=[early_stop, checkpoint])\\n\\nmodel.load_weights(filename)\\npred = model.predict(test_X)\\n\\npred.shape\\n\""
      ]
     },
     "execution_count": 11,
     "metadata": {},
     "output_type": "execute_result"
    }
   ],
   "source": [
    "'''\n",
    "model.compile(loss='mean_squared_error', optimizer='adam')\n",
    "early_stop = EarlyStopping(monitor='val_loss', patience=5)\n",
    "model_path = 'model'\n",
    "filename = os.path.join(model_path, 'tmp_checkpoint.h5')\n",
    "checkpoint = ModelCheckpoint(filename, monitor='val_loss', verbose=1, save_best_only=True, mode='auto')\n",
    "\n",
    "history = model.fit(train_X, train_y, \n",
    "                                    epochs=100, \n",
    "                                    batch_size=16,\n",
    "                                    validation_data=(test_X, test_y), \n",
    "                                    callbacks=[early_stop, checkpoint])\n",
    "\n",
    "model.load_weights(filename)\n",
    "pred = model.predict(test_X)\n",
    "\n",
    "pred.shape\n",
    "'''"
   ]
  },
  {
   "cell_type": "code",
   "execution_count": 12,
   "metadata": {
    "ExecuteTime": {
     "end_time": "2021-08-26T06:37:51.819275Z",
     "start_time": "2021-08-26T06:37:51.816093Z"
    },
    "id": "VEAS9-DnuRJt"
   },
   "outputs": [
    {
     "name": "stdout",
     "output_type": "stream",
     "text": [
      "0.004627265128089548\n"
     ]
    }
   ],
   "source": [
    "RMSE = mean_squared_error(test_y,pred)**0.5\n",
    "print(RMSE)"
   ]
  },
  {
   "cell_type": "code",
   "execution_count": 13,
   "metadata": {
    "ExecuteTime": {
     "end_time": "2021-08-26T06:37:51.995445Z",
     "start_time": "2021-08-26T06:37:51.820844Z"
    },
    "id": "qalZ2MFJuTLl"
   },
   "outputs": [
    {
     "data": {
      "image/png": "[encoded data removed]",
      "text/plain": [
       "<Figure size 432x288 with 1 Axes>"
      ]
     },
     "metadata": {
      "needs_background": "light"
     },
     "output_type": "display_data"
    }
   ],
   "source": [
    "plt.plot(history.history['loss'],label = 'train')\n",
    "plt.plot(history.history['val_loss'], label = 'test')\n",
    "\n",
    "plt.show()"
   ]
  },
  {
   "cell_type": "code",
   "execution_count": 14,
   "metadata": {
    "ExecuteTime": {
     "end_time": "2021-08-26T06:37:52.123701Z",
     "start_time": "2021-08-26T06:37:51.997346Z"
    },
    "id": "WCVyTYZduVb0"
   },
   "outputs": [
    {
     "data": {
      "image/png": "[encoded data removed]",
      "text/plain": [
       "<Figure size 432x288 with 1 Axes>"
      ]
     },
     "metadata": {
      "needs_background": "light"
     },
     "output_type": "display_data"
    }
   ],
   "source": [
    "plt.plot(pred,label='prediction')\n",
    "plt.plot(test_y,label='real')\n",
    "plt.show()"
   ]
  },
  {
   "cell_type": "code",
   "execution_count": null,
   "metadata": {},
   "outputs": [],
   "source": []
  },
  {
   "cell_type": "code",
   "execution_count": null,
   "metadata": {},
   "outputs": [],
   "source": []
  }
 ],
 "metadata": {
  "colab": {
   "name": "juhui_gru.ipynb",
   "private_outputs": true,
   "provenance": []
  },
  "hide_input": false,
  "kernelspec": {
   "display_name": "Python 3 (ipykernel)",
   "language": "python",
   "name": "python3"
  },
  "language_info": {
   "codemirror_mode": {
    "name": "ipython",
    "version": 3
   },
   "file_extension": ".py",
   "mimetype": "text/x-python",
   "name": "python",
   "nbconvert_exporter": "python",
   "pygments_lexer": "ipython3",
   "version": "3.8.8"
  },
  "varInspector": {
   "cols": {
    "lenName": 16,
    "lenType": 16,
    "lenVar": 40
   },
   "kernels_config": {
    "python": {
     "delete_cmd_postfix": "",
     "delete_cmd_prefix": "del ",
     "library": "var_list.py",
     "varRefreshCmd": "print(var_dic_list())"
    },
    "r": {
     "delete_cmd_postfix": ") ",
     "delete_cmd_prefix": "rm(",
     "library": "var_list.r",
     "varRefreshCmd": "cat(var_dic_list()) "
    }
   },
   "types_to_exclude": [
    "module",
    "function",
    "builtin_function_or_method",
    "instance",
    "_Feature"
   ],
   "window_display": false
  }
 },
 "nbformat": 4,
 "nbformat_minor": 1
}
