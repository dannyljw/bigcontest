{
 "cells": [
  {
   "cell_type": "code",
   "execution_count": 136,
   "metadata": {
    "ExecuteTime": {
     "end_time": "2021-09-06T06:45:06.922549Z",
     "start_time": "2021-09-06T06:45:06.881938Z"
    },
    "id": "6Gn94tz0taQB"
   },
   "outputs": [],
   "source": [
    "import numpy as np\n",
    "import pandas as pd\n",
    "import os\n",
    "import openpyxl\n",
    "import tensorflow as tf\n",
    "from openpyxl import load_workbook\n",
    "import matplotlib.pyplot as plt\n",
    "import matplotlib.ticker as ticker\n",
    "from pandas import DataFrame\n",
    "from sklearn.preprocessing import MinMaxScaler\n",
    "from pandas import concat\n",
    "from tensorflow.keras.layers import LSTM,Dense,GRU,Dropout,SimpleRNN\n",
    "from sklearn.metrics import mean_squared_error\n",
    "# from keras.callbacks import EarlyStopping, ModelCheckpoint\n",
    "import random as rn"
   ]
  },
  {
   "cell_type": "markdown",
   "metadata": {},
   "source": [
    "# SEED 값 설정"
   ]
  },
  {
   "cell_type": "code",
   "execution_count": 137,
   "metadata": {
    "ExecuteTime": {
     "end_time": "2021-09-06T06:45:08.224591Z",
     "start_time": "2021-09-06T06:45:08.161255Z"
    }
   },
   "outputs": [],
   "source": [
    "seed_num =5\n",
    "np.random.seed(seed_num)\n",
    "rn.seed(seed_num)\n",
    "tf.random.set_seed(seed_num)"
   ]
  },
  {
   "cell_type": "markdown",
   "metadata": {},
   "source": [
    "# series_to_supervised 함수 설정"
   ]
  },
  {
   "cell_type": "code",
   "execution_count": 138,
   "metadata": {
    "ExecuteTime": {
     "end_time": "2021-09-06T06:45:09.269103Z",
     "start_time": "2021-09-06T06:45:09.260687Z"
    },
    "id": "dJJQXgWftsme"
   },
   "outputs": [],
   "source": [
    "def series_to_supervised(data, n_in=1, n_out=1, dropnan=True):\n",
    "    n_vars = 1 if type(data) is list else data.shape[1]\n",
    "    df = DataFrame(data)\n",
    "    cols, names = list(), list()\n",
    "    # input sequence (t-n, ... t-1)\n",
    "    for i in range(n_in, 0, -1):\n",
    "        cols.append(df.shift(i))\n",
    "        names += [('var%d(t-%d)' % (j + 1, i)) for j in range(n_vars)]\n",
    "    # forecast sequence (t, t+1, ... t+n)\n",
    "    for i in range(0, n_out):\n",
    "        cols.append(df.shift(-i))\n",
    "        if i == 0:\n",
    "            names += [('var%d(t)' % (j + 1)) for j in range(n_vars)]\n",
    "        else:\n",
    "            names += [('var%d(t+%d)' % (j + 1, i)) for j in range(n_vars)]\n",
    "    # put it all together\n",
    "    agg = concat(cols, axis=1)\n",
    "    agg.columns = names\n",
    "    # drop rows with NaN values\n",
    "    if dropnan:\n",
    "        agg.dropna(inplace=True)\n",
    "    return agg"
   ]
  },
  {
   "cell_type": "code",
   "execution_count": 139,
   "metadata": {
    "ExecuteTime": {
     "end_time": "2021-09-06T06:45:10.926412Z",
     "start_time": "2021-09-06T06:45:10.922174Z"
    },
    "id": "r0DmrTLztvcc"
   },
   "outputs": [
    {
     "name": "stdout",
     "output_type": "stream",
     "text": [
      "3051\n"
     ]
    }
   ],
   "source": [
    "n_hours = 3\n",
    "n_features = 43\n",
    "data_num = len(df)\n",
    "train_num_15 = 1444\n",
    "train_num_16 = 1649\n",
    "train_num_17 = 1774\n",
    "train_num_18 = 1839\n",
    "train_num_19 = 1934\n",
    "train_num_20 = 2197\n",
    "train_num_21 = 2282\n",
    "train_num_22 = 2567\n",
    "train_num_23 = 2695\n",
    "train_num_24 = 2789\n",
    "train_num_25 = 2891\n",
    "test_num = 160\n",
    "print(data_num)"
   ]
  },
  {
   "cell_type": "code",
   "execution_count": 140,
   "metadata": {
    "ExecuteTime": {
     "end_time": "2021-09-06T06:45:13.805836Z",
     "start_time": "2021-09-06T06:45:11.945038Z"
    }
   },
   "outputs": [
    {
     "data": {
      "text/html": [
       "<div>\n",
       "<style scoped>\n",
       "    .dataframe tbody tr th:only-of-type {\n",
       "        vertical-align: middle;\n",
       "    }\n",
       "\n",
       "    .dataframe tbody tr th {\n",
       "        vertical-align: top;\n",
       "    }\n",
       "\n",
       "    .dataframe thead th {\n",
       "        text-align: right;\n",
       "    }\n",
       "</style>\n",
       "<table border=\"1\" class=\"dataframe\">\n",
       "  <thead>\n",
       "    <tr style=\"text-align: right;\">\n",
       "      <th></th>\n",
       "      <th>홍수사상번호</th>\n",
       "      <th>연</th>\n",
       "      <th>월</th>\n",
       "      <th>일</th>\n",
       "      <th>시간</th>\n",
       "      <th>유입량</th>\n",
       "      <th>데이터집단 1</th>\n",
       "      <th>Unnamed: 7</th>\n",
       "      <th>Unnamed: 8</th>\n",
       "      <th>Unnamed: 9</th>\n",
       "      <th>...</th>\n",
       "      <th>Unnamed: 38</th>\n",
       "      <th>Unnamed: 39</th>\n",
       "      <th>Unnamed: 40</th>\n",
       "      <th>데이터 집단 6</th>\n",
       "      <th>Unnamed: 42</th>\n",
       "      <th>Unnamed: 43</th>\n",
       "      <th>Unnamed: 44</th>\n",
       "      <th>Unnamed: 45</th>\n",
       "      <th>Unnamed: 46</th>\n",
       "      <th>Unnamed: 47</th>\n",
       "    </tr>\n",
       "  </thead>\n",
       "  <tbody>\n",
       "    <tr>\n",
       "      <th>3046</th>\n",
       "      <td>26</td>\n",
       "      <td>2018</td>\n",
       "      <td>7</td>\n",
       "      <td>7</td>\n",
       "      <td>17</td>\n",
       "      <td>NaN</td>\n",
       "      <td>2.3689</td>\n",
       "      <td>1</td>\n",
       "      <td>0</td>\n",
       "      <td>0</td>\n",
       "      <td>...</td>\n",
       "      <td>0</td>\n",
       "      <td>3.16</td>\n",
       "      <td>129.916</td>\n",
       "      <td>2.1722</td>\n",
       "      <td>1</td>\n",
       "      <td>0</td>\n",
       "      <td>0</td>\n",
       "      <td>0</td>\n",
       "      <td>3.16</td>\n",
       "      <td>129.95</td>\n",
       "    </tr>\n",
       "    <tr>\n",
       "      <th>3047</th>\n",
       "      <td>26</td>\n",
       "      <td>2018</td>\n",
       "      <td>7</td>\n",
       "      <td>7</td>\n",
       "      <td>18</td>\n",
       "      <td>NaN</td>\n",
       "      <td>2.3689</td>\n",
       "      <td>1</td>\n",
       "      <td>0</td>\n",
       "      <td>0</td>\n",
       "      <td>...</td>\n",
       "      <td>0</td>\n",
       "      <td>3.15</td>\n",
       "      <td>129.928</td>\n",
       "      <td>2.0805</td>\n",
       "      <td>1</td>\n",
       "      <td>0</td>\n",
       "      <td>0</td>\n",
       "      <td>0</td>\n",
       "      <td>3.15</td>\n",
       "      <td>129.97</td>\n",
       "    </tr>\n",
       "    <tr>\n",
       "      <th>3048</th>\n",
       "      <td>26</td>\n",
       "      <td>2018</td>\n",
       "      <td>7</td>\n",
       "      <td>7</td>\n",
       "      <td>19</td>\n",
       "      <td>NaN</td>\n",
       "      <td>2.3689</td>\n",
       "      <td>1</td>\n",
       "      <td>0</td>\n",
       "      <td>0</td>\n",
       "      <td>...</td>\n",
       "      <td>0</td>\n",
       "      <td>3.13</td>\n",
       "      <td>129.940</td>\n",
       "      <td>2.0354</td>\n",
       "      <td>1</td>\n",
       "      <td>0</td>\n",
       "      <td>0</td>\n",
       "      <td>0</td>\n",
       "      <td>3.13</td>\n",
       "      <td>129.98</td>\n",
       "    </tr>\n",
       "    <tr>\n",
       "      <th>3049</th>\n",
       "      <td>26</td>\n",
       "      <td>2018</td>\n",
       "      <td>7</td>\n",
       "      <td>7</td>\n",
       "      <td>20</td>\n",
       "      <td>NaN</td>\n",
       "      <td>2.3689</td>\n",
       "      <td>1</td>\n",
       "      <td>0</td>\n",
       "      <td>0</td>\n",
       "      <td>...</td>\n",
       "      <td>0</td>\n",
       "      <td>3.11</td>\n",
       "      <td>129.952</td>\n",
       "      <td>1.8993</td>\n",
       "      <td>1</td>\n",
       "      <td>0</td>\n",
       "      <td>0</td>\n",
       "      <td>0</td>\n",
       "      <td>3.11</td>\n",
       "      <td>129.99</td>\n",
       "    </tr>\n",
       "    <tr>\n",
       "      <th>3050</th>\n",
       "      <td>26</td>\n",
       "      <td>2018</td>\n",
       "      <td>7</td>\n",
       "      <td>7</td>\n",
       "      <td>21</td>\n",
       "      <td>NaN</td>\n",
       "      <td>2.3689</td>\n",
       "      <td>1</td>\n",
       "      <td>0</td>\n",
       "      <td>0</td>\n",
       "      <td>...</td>\n",
       "      <td>0</td>\n",
       "      <td>3.10</td>\n",
       "      <td>129.964</td>\n",
       "      <td>1.8810</td>\n",
       "      <td>1</td>\n",
       "      <td>0</td>\n",
       "      <td>0</td>\n",
       "      <td>0</td>\n",
       "      <td>3.10</td>\n",
       "      <td>130.00</td>\n",
       "    </tr>\n",
       "  </tbody>\n",
       "</table>\n",
       "<p>5 rows × 48 columns</p>\n",
       "</div>"
      ],
      "text/plain": [
       "      홍수사상번호     연  월  일  시간  유입량  데이터집단 1  Unnamed: 7  Unnamed: 8  \\\n",
       "3046      26  2018  7  7  17  NaN   2.3689           1           0   \n",
       "3047      26  2018  7  7  18  NaN   2.3689           1           0   \n",
       "3048      26  2018  7  7  19  NaN   2.3689           1           0   \n",
       "3049      26  2018  7  7  20  NaN   2.3689           1           0   \n",
       "3050      26  2018  7  7  21  NaN   2.3689           1           0   \n",
       "\n",
       "      Unnamed: 9  ...  Unnamed: 38  Unnamed: 39  Unnamed: 40  데이터 집단 6  \\\n",
       "3046           0  ...            0         3.16      129.916    2.1722   \n",
       "3047           0  ...            0         3.15      129.928    2.0805   \n",
       "3048           0  ...            0         3.13      129.940    2.0354   \n",
       "3049           0  ...            0         3.11      129.952    1.8993   \n",
       "3050           0  ...            0         3.10      129.964    1.8810   \n",
       "\n",
       "      Unnamed: 42  Unnamed: 43  Unnamed: 44  Unnamed: 45  Unnamed: 46  \\\n",
       "3046            1            0            0            0         3.16   \n",
       "3047            1            0            0            0         3.15   \n",
       "3048            1            0            0            0         3.13   \n",
       "3049            1            0            0            0         3.11   \n",
       "3050            1            0            0            0         3.10   \n",
       "\n",
       "      Unnamed: 47  \n",
       "3046       129.95  \n",
       "3047       129.97  \n",
       "3048       129.98  \n",
       "3049       129.99  \n",
       "3050       130.00  \n",
       "\n",
       "[5 rows x 48 columns]"
      ]
     },
     "execution_count": 140,
     "metadata": {},
     "output_type": "execute_result"
    }
   ],
   "source": [
    "from os.path import join\n",
    "df = pd.read_excel('rain_data.xlsx')\n",
    "df.head()\n",
    "df.tail()"
   ]
  },
  {
   "cell_type": "markdown",
   "metadata": {},
   "source": [
    "# df_matrix 만드는 과정? \n",
    "# scaling"
   ]
  },
  {
   "cell_type": "code",
   "execution_count": 141,
   "metadata": {
    "ExecuteTime": {
     "end_time": "2021-09-06T06:45:14.927328Z",
     "start_time": "2021-09-06T06:45:14.910587Z"
    }
   },
   "outputs": [
    {
     "name": "stdout",
     "output_type": "stream",
     "text": [
      "(2891, 43)\n",
      "[[189.1         6.4         7.        ...   8.          2.54\n",
      "  122.61     ]\n",
      " [216.9519618   6.3         7.        ...  10.          2.53\n",
      "  122.6      ]\n",
      " [251.4244187   6.4         7.        ...  11.          2.53\n",
      "  122.59     ]\n",
      " ...\n",
      " [491.9548045   4.1089      1.        ...   1.          2.98\n",
      "  137.155    ]\n",
      " [481.1030831   3.3854      1.        ...   1.          2.96\n",
      "  137.165    ]\n",
      " [470.4581089   3.2841      1.        ...   1.          2.94\n",
      "  137.18     ]]\n",
      "========================================================================\n",
      "(160, 43)\n",
      "[[     nan  14.2576  32.     ...   0.       1.93   120.515 ]\n",
      " [     nan  10.9657  20.     ...   8.       1.93   120.51  ]\n",
      " [     nan   7.9442  11.     ...  24.       1.92   120.505 ]\n",
      " ...\n",
      " [     nan   2.3689   1.     ...   0.       3.13   129.98  ]\n",
      " [     nan   2.3689   1.     ...   0.       3.11   129.99  ]\n",
      " [     nan   2.3689   1.     ...   0.       3.1    130.    ]]\n"
     ]
    }
   ],
   "source": [
    "# df_metrix 만드는 과정\n",
    "df_matrix = df.to_numpy()\n",
    "df_test_matrix = df.to_numpy()\n",
    "\n",
    "\n",
    "df_matrix = df_matrix[0:train_num_25, 5:]\n",
    "df_test_matrix = df_test_matrix[train_num_25:,5:]\n",
    "\n",
    "print(df_matrix.shape)\n",
    "print(df_matrix)\n",
    "print(\"========================================================================\")\n",
    "print(df_test_matrix.shape)\n",
    "print(df_test_matrix)\n",
    "df_matrix = df_matrix.astype('float32')\n",
    "df_test_matrix = df_test_matrix.astype('float32')\n",
    "\n",
    "\n",
    "# scaler = MinMaxScaler(feature_range=(0, 1))\n",
    "# df_matrix = scaler.fit_transform(df_matrix)\n",
    "# df_test_matrix = scaler.fit_transform(df_test_matrix)"
   ]
  },
  {
   "cell_type": "markdown",
   "metadata": {},
   "source": [
    "# 26 번 유입량 nan 값을 -1 로 일단 넣는 작업 진행"
   ]
  },
  {
   "cell_type": "code",
   "execution_count": 144,
   "metadata": {
    "ExecuteTime": {
     "end_time": "2021-09-06T06:45:32.884764Z",
     "start_time": "2021-09-06T06:45:32.878216Z"
    }
   },
   "outputs": [
    {
     "name": "stdout",
     "output_type": "stream",
     "text": [
      "[-1. -1. -1. -1. -1. -1. -1. -1. -1. -1. -1. -1. -1. -1. -1. -1. -1. -1.\n",
      " -1. -1. -1. -1. -1. -1. -1. -1. -1. -1. -1. -1. -1. -1. -1. -1. -1. -1.\n",
      " -1. -1. -1. -1. -1. -1. -1. -1. -1. -1. -1. -1. -1. -1. -1. -1. -1. -1.\n",
      " -1. -1. -1. -1. -1. -1. -1. -1. -1. -1. -1. -1. -1. -1. -1. -1. -1. -1.\n",
      " -1. -1. -1. -1. -1. -1. -1. -1. -1. -1. -1. -1. -1. -1. -1. -1. -1. -1.\n",
      " -1. -1. -1. -1. -1. -1. -1. -1. -1. -1. -1. -1. -1. -1. -1. -1. -1. -1.\n",
      " -1. -1. -1. -1. -1. -1. -1. -1. -1. -1. -1. -1. -1. -1. -1. -1. -1. -1.\n",
      " -1. -1. -1. -1. -1. -1. -1. -1. -1. -1. -1. -1. -1. -1. -1. -1. -1. -1.\n",
      " -1. -1. -1. -1. -1. -1. -1. -1. -1. -1. -1. -1. -1. -1. -1. -1.]\n",
      "[-1. -1. -1. -1. -1. -1. -1. -1. -1. -1. -1. -1. -1. -1. -1. -1. -1. -1.\n",
      " -1. -1. -1. -1. -1. -1. -1. -1. -1. -1. -1. -1. -1. -1. -1. -1. -1. -1.\n",
      " -1. -1. -1. -1. -1. -1. -1. -1. -1. -1. -1. -1. -1. -1. -1. -1. -1. -1.\n",
      " -1. -1. -1. -1. -1. -1. -1. -1. -1. -1. -1. -1. -1. -1. -1. -1. -1. -1.\n",
      " -1. -1. -1. -1. -1. -1. -1. -1. -1. -1. -1. -1. -1. -1. -1. -1. -1. -1.\n",
      " -1. -1. -1. -1. -1. -1. -1. -1. -1. -1. -1. -1. -1. -1. -1. -1. -1. -1.\n",
      " -1. -1. -1. -1. -1. -1. -1. -1. -1. -1. -1. -1. -1. -1. -1. -1. -1. -1.\n",
      " -1. -1. -1. -1. -1. -1. -1. -1. -1. -1. -1. -1. -1. -1. -1. -1. -1. -1.\n",
      " -1. -1. -1. -1. -1. -1. -1. -1. -1. -1. -1. -1. -1. -1. -1. -1.]\n",
      "(160,)\n"
     ]
    }
   ],
   "source": [
    "print(df_test_matrix[:,0])\n",
    "df_test_matrix[:,0] = -1\n",
    "print(df_test_matrix[:,0])\n",
    "print(df_test_matrix[:,0].shape)"
   ]
  },
  {
   "cell_type": "markdown",
   "metadata": {},
   "source": [
    "# lag 만들어서 하는거 "
   ]
  },
  {
   "cell_type": "code",
   "execution_count": 155,
   "metadata": {
    "ExecuteTime": {
     "end_time": "2021-09-08T05:23:28.782803Z",
     "start_time": "2021-09-08T05:23:28.701047Z"
    },
    "id": "Z4Qg6m6nuA6h"
   },
   "outputs": [
    {
     "name": "stdout",
     "output_type": "stream",
     "text": [
      "lag\n",
      "(2888, 172)\n",
      "[[189.1       6.4       7.      ...  14.        2.53    122.585  ]\n",
      " [216.95197   6.3       7.      ...  16.        2.53    122.575  ]\n",
      " [251.42442   6.4       7.      ...  17.        2.53    122.565  ]\n",
      " ...\n",
      " [522.98944  36.5129   10.      ...   1.        2.98    137.155  ]\n",
      " [513.3684   22.7836    6.      ...   1.        2.96    137.165  ]\n",
      " [502.84683   8.2586    2.      ...   1.        2.94    137.18   ]]\n",
      "lag_test\n",
      "(157, 172)\n",
      "[[ -1.      14.2576  32.     ...  33.       1.92   120.5   ]\n",
      " [ -1.      10.9657  20.     ...  36.       1.92   120.495 ]\n",
      " [ -1.       7.9442  11.     ...  37.       1.95   120.49  ]\n",
      " ...\n",
      " [ -1.       2.4298   1.     ...   0.       3.13   129.98  ]\n",
      " [ -1.       2.3689   1.     ...   0.       3.11   129.99  ]\n",
      " [ -1.       2.3689   1.     ...   0.       3.1    130.    ]]\n",
      "00000000000000000000000000000000000000000000000000000000\n",
      "tmp\n",
      "130\n",
      "tmp_test\n",
      "130\n",
      "111111111111111111111111111111111111111111111111111111111\n",
      "(2888, 130)\n",
      "[[189.1       6.4       7.      ...   2.53    122.59    302.8122 ]\n",
      " [216.95197   6.3       7.      ...   2.53    122.585   384.78342]\n",
      " [251.42442   6.4       7.      ...   2.53    122.575   512.5012 ]\n",
      " ...\n",
      " [522.98944  36.5129   10.      ...   3.      137.145   491.9548 ]\n",
      " [513.3684   22.7836    6.      ...   2.98    137.155   481.1031 ]\n",
      " [502.84683   8.2586    2.      ...   2.96    137.165   470.4581 ]]\n",
      "222222222222222222222222222222222222222222222222222222222\n",
      "(157, 130)\n",
      "<class 'numpy.ndarray'>\n",
      "[[ -1.      14.2576  32.     ...   1.92   120.505   -1.    ]\n",
      " [ -1.      10.9657  20.     ...   1.92   120.5     -1.    ]\n",
      " [ -1.       7.9442  11.     ...   1.92   120.495   -1.    ]\n",
      " ...\n",
      " [ -1.       2.4298   1.     ...   3.15   129.97    -1.    ]\n",
      " [ -1.       2.3689   1.     ...   3.13   129.98    -1.    ]\n",
      " [ -1.       2.3689   1.     ...   3.11   129.99    -1.    ]]\n"
     ]
    }
   ],
   "source": [
    "# print(df_matrix)\n",
    "lag = series_to_supervised(df_matrix, n_hours,1)\n",
    "lag_test = series_to_supervised(df_test_matrix, n_hours,1)\n",
    "\n",
    "lag = lag.values\n",
    "lag_test = lag_test.values\n",
    "print(\"lag\")\n",
    "print(lag.shape)\n",
    "print(lag)\n",
    "print(\"lag_test\")\n",
    "print(lag_test.shape)\n",
    "print(lag_test)\n",
    "print(\"00000000000000000000000000000000000000000000000000000000\")\n",
    "tmp = lag.shape[1]-42\n",
    "tmp_test = lag_test.shape[1]-42\n",
    "print(\"tmp\")\n",
    "print(tmp)\n",
    "print(\"tmp_test\")\n",
    "print(tmp_test)\n",
    "lag = lag[:,0:tmp]\n",
    "lag_test = lag_test[:,:tmp_test]\n",
    "print(\"111111111111111111111111111111111111111111111111111111111\")\n",
    "print(lag.shape)\n",
    "print(lag)\n",
    "print(\"222222222222222222222222222222222222222222222222222222222\")\n",
    "print(lag_test.shape)\n",
    "print(type(lag_test))\n",
    "print(lag_test)"
   ]
  },
  {
   "cell_type": "markdown",
   "metadata": {},
   "source": [
    "# 이제 test 유입량에 -1 이 들어가 있는 상태였는데,,,, \n",
    "다시 nan 값으로 변경 해 줘야되지 않나? \n",
    "\n"
   ]
  },
  {
   "cell_type": "code",
   "execution_count": 157,
   "metadata": {
    "ExecuteTime": {
     "end_time": "2021-09-08T09:43:03.717057Z",
     "start_time": "2021-09-08T09:43:03.715062Z"
    }
   },
   "outputs": [],
   "source": [
    "# lag_test = lag_test.replace(-1, np.NaN)\n",
    "# print(lag_test)"
   ]
  },
  {
   "cell_type": "code",
   "execution_count": 158,
   "metadata": {
    "ExecuteTime": {
     "end_time": "2021-09-08T09:43:20.847361Z",
     "start_time": "2021-09-08T09:43:20.839254Z"
    },
    "id": "km1FrS-fuEWe"
   },
   "outputs": [
    {
     "name": "stdout",
     "output_type": "stream",
     "text": [
      "*****train*****\n",
      "(2695, 130)\n",
      "[[1.8910001e+02 6.4000001e+00 7.0000000e+00 ... 2.5300000e+00\n",
      "  1.2259000e+02 3.0281219e+02]\n",
      " [2.1695197e+02 6.3000002e+00 7.0000000e+00 ... 2.5300000e+00\n",
      "  1.2258500e+02 3.8478342e+02]\n",
      " [2.5142442e+02 6.4000001e+00 7.0000000e+00 ... 2.5300000e+00\n",
      "  1.2257500e+02 5.1250122e+02]\n",
      " ...\n",
      " [1.3790315e+03 3.9775101e+01 5.2000000e+01 ... 1.0700001e+00\n",
      "  1.1870000e+02 6.3941368e+01]\n",
      " [1.3531034e+03 3.9184299e+01 5.1000000e+01 ... 1.0700001e+00\n",
      "  1.1870000e+02 6.4593552e+01]\n",
      " [4.9907669e+01 1.7965000e+00 3.0000000e+00 ... 1.0700001e+00\n",
      "  1.1870000e+02 5.5622105e+01]]\n",
      "\n",
      "*****validation*****\n",
      "(193, 130)\n",
      "[[ 63.94137    1.3606     3.       ...   1.07     118.7       44.23353 ]\n",
      " [ 64.59355    1.3135     2.       ...   1.07     118.7       37.056877]\n",
      " [ 55.622105   1.3608     0.       ...   1.07     118.7       38.166542]\n",
      " ...\n",
      " [522.98944   36.5129    10.       ...   3.       137.145    491.9548  ]\n",
      " [513.3684    22.7836     6.       ...   2.98     137.155    481.1031  ]\n",
      " [502.84683    8.2586     2.       ...   2.96     137.165    470.4581  ]]\n",
      "*****test*****\n",
      "[[ -1.      14.2576  32.     ...   1.92   120.505   -1.    ]\n",
      " [ -1.      10.9657  20.     ...   1.92   120.5     -1.    ]\n",
      " [ -1.       7.9442  11.     ...   1.92   120.495   -1.    ]\n",
      " ...\n",
      " [ -1.       2.4298   1.     ...   3.15   129.97    -1.    ]\n",
      " [ -1.       2.3689   1.     ...   3.13   129.98    -1.    ]\n",
      " [ -1.       2.3689   1.     ...   3.11   129.99    -1.    ]]\n",
      "\n",
      "*****data_num*****\n",
      "3051\n",
      "\n",
      "*****n_train_hours*****\n",
      "2695\n",
      "\n",
      "*****train.sahpe*****\n",
      "(2695, 130)\n",
      "\n",
      "*****val.shape*****\n",
      "(193, 130)\n",
      "*****test.shape***** \n",
      "(157, 130)\n"
     ]
    }
   ],
   "source": [
    "n_train_hours = train_num_23\n",
    "\n",
    "train = lag[:n_train_hours, :]\n",
    "print(\"*****train*****\")\n",
    "print(train.shape)\n",
    "print(train)\n",
    "val = lag[n_train_hours:, :]\n",
    "\n",
    "print(\"\\n*****validation*****\")\n",
    "\n",
    "print(val.shape)\n",
    "print(val)\n",
    "\n",
    "test = lag_test\n",
    "print(\"*****test*****\")\n",
    "print(lag_test)\n",
    "print(\"\\n*****data_num*****\")\n",
    "print(data_num)\n",
    "\n",
    "print(\"\\n*****n_train_hours*****\")\n",
    "print(n_train_hours)\n",
    "# print(n_test_hours)\n",
    "# test = lag[:,:]\n",
    "print(\"\\n*****train.sahpe*****\")\n",
    "print(train.shape)\n",
    "print(\"\\n*****val.shape*****\")\n",
    "print(val.shape)\n",
    "print(\"*****test.shape***** \")\n",
    "print(lag_test.shape)"
   ]
  },
  {
   "cell_type": "markdown",
   "metadata": {},
   "source": [
    "# train_X, train_y\n",
    "\n",
    "### train_X \n",
    "유입량, 유역평균강수 등 을 정상적으로 표현을 하고 있는거 같음. \n",
    "### train_y\n",
    "\n",
    "\n",
    "# val_X, val_y\n"
   ]
  },
  {
   "cell_type": "code",
   "execution_count": 160,
   "metadata": {
    "ExecuteTime": {
     "end_time": "2021-09-08T10:24:40.635016Z",
     "start_time": "2021-09-08T10:24:40.628616Z"
    },
    "id": "5_l9JoJVuHKW"
   },
   "outputs": [
    {
     "name": "stdout",
     "output_type": "stream",
     "text": [
      "(2695, 129) 2695 (2695,)\n",
      "train_X\n",
      "[[1.8910001e+02 6.4000001e+00 7.0000000e+00 ... 1.1000000e+01\n",
      "  2.5300000e+00 1.2259000e+02]\n",
      " [2.1695197e+02 6.3000002e+00 7.0000000e+00 ... 1.4000000e+01\n",
      "  2.5300000e+00 1.2258500e+02]\n",
      " [2.5142442e+02 6.4000001e+00 7.0000000e+00 ... 1.6000000e+01\n",
      "  2.5300000e+00 1.2257500e+02]\n",
      " ...\n",
      " [1.3790315e+03 3.9775101e+01 5.2000000e+01 ... 0.0000000e+00\n",
      "  1.0700001e+00 1.1870000e+02]\n",
      " [1.3531034e+03 3.9184299e+01 5.1000000e+01 ... 0.0000000e+00\n",
      "  1.0700001e+00 1.1870000e+02]\n",
      " [4.9907669e+01 1.7965000e+00 3.0000000e+00 ... 0.0000000e+00\n",
      "  1.0700001e+00 1.1870000e+02]]\n",
      "train_y\n",
      "[6.4    7.3    8.2    ... 1.7965 1.3606 1.3135]\n",
      "(2695, 3, 43) (2695,) (193, 3, 43) (193,)\n"
     ]
    }
   ],
   "source": [
    "n_obs = n_hours * n_features\n",
    "train_X, train_y = train[:, :n_obs], train[:, -n_features]\n",
    "val_X, val_y = val[:, :n_obs], val[:, -n_features]\n",
    "print(train_X.shape, len(train_X), train_y.shape)\n",
    "print(\"train_X\")\n",
    "print(train_X)\n",
    "print(\"train_y\")\n",
    "print(train_y)\n",
    "# reshape input to be 3D [samples, timesteps, features]\n",
    "train_X = train_X.reshape((train_X.shape[0], n_hours, n_features))\n",
    "val_X = val_X.reshape((val_X.shape[0], n_hours, n_features))\n",
    "print(train_X.shape, train_y.shape, val_X.shape, val_y.shape)"
   ]
  },
  {
   "cell_type": "code",
   "execution_count": 112,
   "metadata": {
    "ExecuteTime": {
     "end_time": "2021-08-31T12:34:02.957002Z",
     "start_time": "2021-08-31T12:34:02.611287Z"
    }
   },
   "outputs": [],
   "source": [
    "# testing\n",
    "model = tf.keras.Sequential()\n",
    "# model.add(GRU(units = 50,\n",
    "#               # dropout =0.2,\n",
    "#               return_sequences = True,\n",
    "#               input_shape = (train_X.shape[1],train_X.shape[2]),\n",
    "#               activation = 'tanh'))\n",
    "\n",
    "# model.add(SimpleRNN(50))\n",
    "model.add(LSTM(20, input_shape = (train_X.shape[1],train_X.shape[2]), activation = 'tanh', return_sequences = False))\n",
    "model.add(Dense(1))"
   ]
  },
  {
   "cell_type": "code",
   "execution_count": 11,
   "metadata": {
    "ExecuteTime": {
     "end_time": "2021-08-30T08:52:32.555843Z",
     "start_time": "2021-08-30T08:52:20.918182Z"
    },
    "id": "4KvXZaXvuN-I"
   },
   "outputs": [
    {
     "name": "stdout",
     "output_type": "stream",
     "text": [
      "Epoch 1/50\n",
      "85/85 [==============================] - 1s 6ms/step - loss: 0.0060 - val_loss: 8.2675e-04\n",
      "Epoch 2/50\n",
      "85/85 [==============================] - 0s 2ms/step - loss: 7.1449e-04 - val_loss: 5.9896e-04\n",
      "Epoch 3/50\n",
      "85/85 [==============================] - 0s 2ms/step - loss: 4.2646e-04 - val_loss: 4.9058e-04\n",
      "Epoch 4/50\n",
      "85/85 [==============================] - 0s 2ms/step - loss: 3.1884e-04 - val_loss: 4.3173e-04\n",
      "Epoch 5/50\n",
      "85/85 [==============================] - 0s 2ms/step - loss: 2.6012e-04 - val_loss: 4.0605e-04\n",
      "Epoch 6/50\n",
      "85/85 [==============================] - 0s 2ms/step - loss: 2.3133e-04 - val_loss: 3.8813e-04\n",
      "Epoch 7/50\n",
      "85/85 [==============================] - 0s 2ms/step - loss: 2.0498e-04 - val_loss: 3.3603e-04\n",
      "Epoch 8/50\n",
      "85/85 [==============================] - 0s 2ms/step - loss: 1.7687e-04 - val_loss: 3.1410e-04\n",
      "Epoch 9/50\n",
      "85/85 [==============================] - 0s 2ms/step - loss: 1.5870e-04 - val_loss: 3.1669e-04\n",
      "Epoch 10/50\n",
      "85/85 [==============================] - 0s 2ms/step - loss: 1.4288e-04 - val_loss: 2.7579e-04\n",
      "Epoch 11/50\n",
      "85/85 [==============================] - 0s 2ms/step - loss: 1.2784e-04 - val_loss: 2.5090e-04\n",
      "Epoch 12/50\n",
      "85/85 [==============================] - 0s 2ms/step - loss: 1.1498e-04 - val_loss: 2.2973e-04\n",
      "Epoch 13/50\n",
      "85/85 [==============================] - 0s 2ms/step - loss: 1.0468e-04 - val_loss: 1.8496e-04\n",
      "Epoch 14/50\n",
      "85/85 [==============================] - 0s 2ms/step - loss: 8.7370e-05 - val_loss: 2.6278e-04\n",
      "Epoch 15/50\n",
      "85/85 [==============================] - 0s 2ms/step - loss: 9.3150e-05 - val_loss: 1.4122e-04\n",
      "Epoch 16/50\n",
      "85/85 [==============================] - 0s 2ms/step - loss: 7.1700e-05 - val_loss: 1.2266e-04\n",
      "Epoch 17/50\n",
      "85/85 [==============================] - 0s 2ms/step - loss: 7.3747e-05 - val_loss: 1.1752e-04\n",
      "Epoch 18/50\n",
      "85/85 [==============================] - 0s 2ms/step - loss: 6.0456e-05 - val_loss: 1.2740e-04\n",
      "Epoch 19/50\n",
      "85/85 [==============================] - 0s 2ms/step - loss: 6.0362e-05 - val_loss: 1.0352e-04\n",
      "Epoch 20/50\n",
      "85/85 [==============================] - 0s 2ms/step - loss: 5.1404e-05 - val_loss: 9.1913e-05\n",
      "Epoch 21/50\n",
      "85/85 [==============================] - 0s 2ms/step - loss: 4.6545e-05 - val_loss: 7.5102e-05\n",
      "Epoch 22/50\n",
      "85/85 [==============================] - 0s 2ms/step - loss: 4.2021e-05 - val_loss: 7.1881e-05\n",
      "Epoch 23/50\n",
      "85/85 [==============================] - 0s 2ms/step - loss: 4.3164e-05 - val_loss: 6.7392e-05\n",
      "Epoch 24/50\n",
      "85/85 [==============================] - 0s 2ms/step - loss: 3.9898e-05 - val_loss: 5.7103e-05\n",
      "Epoch 25/50\n",
      "85/85 [==============================] - 0s 2ms/step - loss: 3.6198e-05 - val_loss: 6.1896e-05\n",
      "Epoch 26/50\n",
      "85/85 [==============================] - 0s 2ms/step - loss: 3.6126e-05 - val_loss: 5.4990e-05\n",
      "Epoch 27/50\n",
      "85/85 [==============================] - 0s 2ms/step - loss: 3.5282e-05 - val_loss: 1.0306e-04\n",
      "Epoch 28/50\n",
      "85/85 [==============================] - 0s 2ms/step - loss: 3.2487e-05 - val_loss: 4.9582e-05\n",
      "Epoch 29/50\n",
      "85/85 [==============================] - 0s 3ms/step - loss: 3.4292e-05 - val_loss: 4.8517e-05\n",
      "Epoch 30/50\n",
      "85/85 [==============================] - 0s 2ms/step - loss: 2.9461e-05 - val_loss: 3.2824e-05\n",
      "Epoch 31/50\n",
      "85/85 [==============================] - 0s 2ms/step - loss: 3.5275e-05 - val_loss: 4.2415e-05\n",
      "Epoch 32/50\n",
      "85/85 [==============================] - 0s 2ms/step - loss: 2.7665e-05 - val_loss: 3.2374e-05\n",
      "Epoch 33/50\n",
      "85/85 [==============================] - 0s 2ms/step - loss: 2.7063e-05 - val_loss: 3.1528e-05\n",
      "Epoch 34/50\n",
      "85/85 [==============================] - 0s 2ms/step - loss: 3.1503e-05 - val_loss: 3.5479e-05\n",
      "Epoch 35/50\n",
      "85/85 [==============================] - 0s 3ms/step - loss: 2.7373e-05 - val_loss: 4.2671e-05\n",
      "Epoch 36/50\n",
      "85/85 [==============================] - 0s 2ms/step - loss: 3.0632e-05 - val_loss: 3.0263e-05\n",
      "Epoch 37/50\n",
      "85/85 [==============================] - 0s 2ms/step - loss: 2.4325e-05 - val_loss: 4.3016e-05\n",
      "Epoch 38/50\n",
      "85/85 [==============================] - 0s 2ms/step - loss: 2.9812e-05 - val_loss: 5.4637e-05\n",
      "Epoch 39/50\n",
      "85/85 [==============================] - 0s 2ms/step - loss: 2.9188e-05 - val_loss: 3.0881e-05\n",
      "Epoch 40/50\n",
      "85/85 [==============================] - 0s 2ms/step - loss: 2.6922e-05 - val_loss: 4.1080e-05\n",
      "Epoch 41/50\n",
      "85/85 [==============================] - 0s 2ms/step - loss: 2.9827e-05 - val_loss: 2.9695e-05\n",
      "Epoch 42/50\n",
      "85/85 [==============================] - 0s 2ms/step - loss: 2.8914e-05 - val_loss: 3.7200e-05\n",
      "Epoch 43/50\n",
      "85/85 [==============================] - 0s 2ms/step - loss: 2.5110e-05 - val_loss: 2.9381e-05\n",
      "Epoch 44/50\n",
      "85/85 [==============================] - 0s 2ms/step - loss: 2.4842e-05 - val_loss: 2.1873e-05\n",
      "Epoch 45/50\n",
      "85/85 [==============================] - 0s 2ms/step - loss: 2.2715e-05 - val_loss: 2.5035e-05\n",
      "Epoch 46/50\n",
      "85/85 [==============================] - 0s 2ms/step - loss: 2.3736e-05 - val_loss: 2.9822e-05\n",
      "Epoch 47/50\n",
      "85/85 [==============================] - 0s 2ms/step - loss: 1.7426e-05 - val_loss: 2.1597e-05\n",
      "Epoch 48/50\n",
      "85/85 [==============================] - 0s 2ms/step - loss: 3.1551e-05 - val_loss: 2.2032e-04\n",
      "Epoch 49/50\n",
      "85/85 [==============================] - 0s 2ms/step - loss: 3.1632e-05 - val_loss: 2.1981e-05\n",
      "Epoch 50/50\n",
      "85/85 [==============================] - 0s 2ms/step - loss: 1.9197e-05 - val_loss: 1.8514e-05\n"
     ]
    }
   ],
   "source": [
    "adam = tf.keras.optimizers.Adam(lr =0.0001)\n",
    "model.compile(loss='mse', optimizer='adam')\n",
    "\n",
    "history = model.fit(train_X, train_y, \n",
    "                                    epochs=50, \n",
    "                                    batch_size=32,\n",
    "                                    validation_data=(val_X, val_y))\n",
    "\n",
    "pred = model.predict(val_X)"
   ]
  },
  {
   "cell_type": "code",
   "execution_count": 12,
   "metadata": {
    "ExecuteTime": {
     "end_time": "2021-08-30T08:52:32.559894Z",
     "start_time": "2021-08-30T08:52:32.557002Z"
    },
    "id": "VEAS9-DnuRJt"
   },
   "outputs": [
    {
     "name": "stdout",
     "output_type": "stream",
     "text": [
      "0.00430284683384523\n"
     ]
    }
   ],
   "source": [
    "RMSE = mean_squared_error(val_y,pred)**0.5\n",
    "print(RMSE)\n",
    "# 0.0008423473487552474\n",
    "# 19 0.006666403945529522\n",
    "# 22 0.005604106434524586\n",
    "# 23 0.00430284683384523\n",
    "# 24 0.005179650254020364"
   ]
  },
  {
   "cell_type": "code",
   "execution_count": 13,
   "metadata": {
    "ExecuteTime": {
     "end_time": "2021-08-30T08:52:32.709374Z",
     "start_time": "2021-08-30T08:52:32.561315Z"
    },
    "id": "qalZ2MFJuTLl"
   },
   "outputs": [
    {
     "data": {
      "image/png": "[encoded data removed]",
      "text/plain": [
       "<Figure size 864x648 with 1 Axes>"
      ]
     },
     "metadata": {
      "needs_background": "light"
     },
     "output_type": "display_data"
    }
   ],
   "source": [
    "plt.figure(figsize=(12, 9))\n",
    "plt.plot(history.history['loss'],label = 'train')\n",
    "plt.plot(history.history['val_loss'], label = 'test')\n",
    "\n",
    "plt.show()"
   ]
  },
  {
   "cell_type": "code",
   "execution_count": 14,
   "metadata": {
    "ExecuteTime": {
     "end_time": "2021-08-30T08:52:32.865433Z",
     "start_time": "2021-08-30T08:52:32.710941Z"
    },
    "id": "WCVyTYZduVb0"
   },
   "outputs": [
    {
     "data": {
      "image/png": "[encoded data removed]",
      "text/plain": [
       "<Figure size 864x648 with 1 Axes>"
      ]
     },
     "metadata": {
      "needs_background": "light"
     },
     "output_type": "display_data"
    }
   ],
   "source": [
    "plt.figure(figsize=(12, 9))\n",
    "plt.plot(pred,label='prediction')\n",
    "plt.plot(val_y,label='real')\n",
    "plt.show()"
   ]
  },
  {
   "cell_type": "code",
   "execution_count": null,
   "metadata": {},
   "outputs": [],
   "source": []
  },
  {
   "cell_type": "code",
   "execution_count": null,
   "metadata": {},
   "outputs": [],
   "source": []
  }
 ],
 "metadata": {
  "colab": {
   "name": "juhui_gru.ipynb",
   "private_outputs": true,
   "provenance": []
  },
  "hide_input": false,
  "kernelspec": {
   "display_name": "Python 3 (ipykernel)",
   "language": "python",
   "name": "python3"
  },
  "language_info": {
   "codemirror_mode": {
    "name": "ipython",
    "version": 3
   },
   "file_extension": ".py",
   "mimetype": "text/x-python",
   "name": "python",
   "nbconvert_exporter": "python",
   "pygments_lexer": "ipython3",
   "version": "3.8.8"
  },
  "varInspector": {
   "cols": {
    "lenName": 16,
    "lenType": 16,
    "lenVar": 40
   },
   "kernels_config": {
    "python": {
     "delete_cmd_postfix": "",
     "delete_cmd_prefix": "del ",
     "library": "var_list.py",
     "varRefreshCmd": "print(var_dic_list())"
    },
    "r": {
     "delete_cmd_postfix": ") ",
     "delete_cmd_prefix": "rm(",
     "library": "var_list.r",
     "varRefreshCmd": "cat(var_dic_list()) "
    }
   },
   "types_to_exclude": [
    "module",
    "function",
    "builtin_function_or_method",
    "instance",
    "_Feature"
   ],
   "window_display": false
  }
 },
 "nbformat": 4,
 "nbformat_minor": 1
}
