{
 "cells": [
  {
   "cell_type": "code",
   "execution_count": 36,
   "id": "c4bf516d",
   "metadata": {
    "ExecuteTime": {
     "end_time": "2021-09-10T11:01:22.219906Z",
     "start_time": "2021-09-10T11:01:22.177735Z"
    }
   },
   "outputs": [],
   "source": [
    "import numpy as np\n",
    "import pandas as pd\n",
    "import os\n",
    "import openpyxl\n",
    "import tensorflow as tf\n",
    "from openpyxl import load_workbook\n",
    "import matplotlib.pyplot as plt\n",
    "import matplotlib.ticker as ticker\n",
    "from pandas import DataFrame\n",
    "from sklearn.preprocessing import MinMaxScaler\n",
    "from pandas import concat\n",
    "from tensorflow.keras.layers import LSTM,Dense,GRU,Dropout,SimpleRNN\n",
    "from sklearn.metrics import mean_squared_error"
   ]
  },
  {
   "cell_type": "code",
   "execution_count": null,
   "id": "1752500f",
   "metadata": {},
   "outputs": [],
   "source": []
  },
  {
   "cell_type": "markdown",
   "id": "b8154a15",
   "metadata": {},
   "source": [
    "<!-- # 주은이랑 주식에도 있느넫, \n",
    "\n",
    "012345 가 있으면 \n",
    "data 2 dlaus \n",
    "01\n",
    "12\n",
    "23\n",
    "45\n",
    "이렇게 된다. \n",
    "\n",
    "2차원이다. \n",
    "23 45 67\n",
    "11 33 44\n",
    "23 44 67\n",
    "data = 2 가 되면 \n",
    "\n",
    "23 56 77 11 33 44\n",
    "11 33 44 34 55 67\n",
    "\n",
    "순차적으로 데이터를 넣기 위해서 그런것이다 .\n",
    "\n",
    "유입량만 예측하고 싶은 것이다 .\n",
    "\n",
    "23 56 77\n",
    "11 33. 4 \n",
    "34 55 67\n",
    "\n",
    "에서 23 11. 34 밑에 있는 거을 예측하고 싶으면, \n",
    "\n",
    "창을 만들때 , \n",
    "\n",
    " -->"
   ]
  },
  {
   "cell_type": "code",
   "execution_count": 37,
   "id": "4612701f",
   "metadata": {
    "ExecuteTime": {
     "end_time": "2021-09-10T11:01:22.856318Z",
     "start_time": "2021-09-10T11:01:22.846679Z"
    }
   },
   "outputs": [],
   "source": [
    "def series_to_supervised(data, n_in=1, n_out=1, dropnan=True):\n",
    "    n_vars = 1 if type(data) is list else data.shape[1]\n",
    "    df = DataFrame(data)\n",
    "    cols, names = list(), list()\n",
    "    # input sequence (t-n, ... t-1)\n",
    "    for i in range(n_in, 0, -1):\n",
    "        cols.append(df.shift(i))\n",
    "        names += [('var%d(t-%d)' % (j + 1, i)) for j in range(n_vars)]\n",
    "    # forecast sequence (t, t+1, ... t+n)\n",
    "    for i in range(0, n_out):\n",
    "        cols.append(df.shift(-i))\n",
    "        if i == 0:\n",
    "            names += [('var%d(t)' % (j + 1)) for j in range(n_vars)]\n",
    "        else:\n",
    "            names += [('var%d(t+%d)' % (j + 1, i)) for j in range(n_vars)]\n",
    "    # put it all together\n",
    "    agg = concat(cols, axis=1)\n",
    "    agg.columns = names\n",
    "    # drop rows with NaN values\n",
    "    if dropnan:\n",
    "        agg.dropna(inplace=True)\n",
    "    return agg"
   ]
  },
  {
   "cell_type": "code",
   "execution_count": null,
   "id": "ae5150f3",
   "metadata": {},
   "outputs": [],
   "source": []
  },
  {
   "cell_type": "code",
   "execution_count": 38,
   "id": "c07ad4c0",
   "metadata": {
    "ExecuteTime": {
     "end_time": "2021-09-10T11:01:23.317955Z",
     "start_time": "2021-09-10T11:01:23.314064Z"
    }
   },
   "outputs": [],
   "source": [
    "n_hours = 5\n",
    "n_features = 43\n",
    "train_num_24 = 2789\n",
    "train_num_25 = 2892\n",
    "train_num_19 = 1934"
   ]
  },
  {
   "cell_type": "code",
   "execution_count": null,
   "id": "83aaeec9",
   "metadata": {},
   "outputs": [],
   "source": []
  },
  {
   "cell_type": "code",
   "execution_count": null,
   "id": "4038e9fd",
   "metadata": {},
   "outputs": [],
   "source": []
  },
  {
   "cell_type": "code",
   "execution_count": 39,
   "id": "fa0d4045",
   "metadata": {
    "ExecuteTime": {
     "end_time": "2021-09-10T11:01:26.838170Z",
     "start_time": "2021-09-10T11:01:24.010441Z"
    }
   },
   "outputs": [
    {
     "data": {
      "text/html": [
       "<div>\n",
       "<style scoped>\n",
       "    .dataframe tbody tr th:only-of-type {\n",
       "        vertical-align: middle;\n",
       "    }\n",
       "\n",
       "    .dataframe tbody tr th {\n",
       "        vertical-align: top;\n",
       "    }\n",
       "\n",
       "    .dataframe thead th {\n",
       "        text-align: right;\n",
       "    }\n",
       "</style>\n",
       "<table border=\"1\" class=\"dataframe\">\n",
       "  <thead>\n",
       "    <tr style=\"text-align: right;\">\n",
       "      <th></th>\n",
       "      <th>홍수사상번호</th>\n",
       "      <th>연</th>\n",
       "      <th>월</th>\n",
       "      <th>일</th>\n",
       "      <th>시간</th>\n",
       "      <th>유입량</th>\n",
       "      <th>데이터집단 1</th>\n",
       "      <th>Unnamed: 7</th>\n",
       "      <th>Unnamed: 8</th>\n",
       "      <th>Unnamed: 9</th>\n",
       "      <th>...</th>\n",
       "      <th>Unnamed: 38</th>\n",
       "      <th>Unnamed: 39</th>\n",
       "      <th>Unnamed: 40</th>\n",
       "      <th>데이터 집단 6</th>\n",
       "      <th>Unnamed: 42</th>\n",
       "      <th>Unnamed: 43</th>\n",
       "      <th>Unnamed: 44</th>\n",
       "      <th>Unnamed: 45</th>\n",
       "      <th>Unnamed: 46</th>\n",
       "      <th>Unnamed: 47</th>\n",
       "    </tr>\n",
       "  </thead>\n",
       "  <tbody>\n",
       "    <tr>\n",
       "      <th>0</th>\n",
       "      <td>1</td>\n",
       "      <td>2006</td>\n",
       "      <td>7</td>\n",
       "      <td>10</td>\n",
       "      <td>8</td>\n",
       "      <td>189.100000</td>\n",
       "      <td>6.4</td>\n",
       "      <td>7</td>\n",
       "      <td>7</td>\n",
       "      <td>7</td>\n",
       "      <td>...</td>\n",
       "      <td>8</td>\n",
       "      <td>2.54</td>\n",
       "      <td>122.660</td>\n",
       "      <td>6.4</td>\n",
       "      <td>7</td>\n",
       "      <td>7</td>\n",
       "      <td>8</td>\n",
       "      <td>8</td>\n",
       "      <td>2.54</td>\n",
       "      <td>122.610</td>\n",
       "    </tr>\n",
       "    <tr>\n",
       "      <th>1</th>\n",
       "      <td>1</td>\n",
       "      <td>2006</td>\n",
       "      <td>7</td>\n",
       "      <td>10</td>\n",
       "      <td>9</td>\n",
       "      <td>216.951962</td>\n",
       "      <td>6.3</td>\n",
       "      <td>7</td>\n",
       "      <td>8</td>\n",
       "      <td>7</td>\n",
       "      <td>...</td>\n",
       "      <td>10</td>\n",
       "      <td>2.53</td>\n",
       "      <td>122.648</td>\n",
       "      <td>7.3</td>\n",
       "      <td>7</td>\n",
       "      <td>8</td>\n",
       "      <td>10</td>\n",
       "      <td>10</td>\n",
       "      <td>2.53</td>\n",
       "      <td>122.600</td>\n",
       "    </tr>\n",
       "    <tr>\n",
       "      <th>2</th>\n",
       "      <td>1</td>\n",
       "      <td>2006</td>\n",
       "      <td>7</td>\n",
       "      <td>10</td>\n",
       "      <td>10</td>\n",
       "      <td>251.424419</td>\n",
       "      <td>6.4</td>\n",
       "      <td>7</td>\n",
       "      <td>9</td>\n",
       "      <td>7</td>\n",
       "      <td>...</td>\n",
       "      <td>11</td>\n",
       "      <td>2.53</td>\n",
       "      <td>122.636</td>\n",
       "      <td>8.2</td>\n",
       "      <td>7</td>\n",
       "      <td>9</td>\n",
       "      <td>10</td>\n",
       "      <td>11</td>\n",
       "      <td>2.53</td>\n",
       "      <td>122.590</td>\n",
       "    </tr>\n",
       "    <tr>\n",
       "      <th>3</th>\n",
       "      <td>1</td>\n",
       "      <td>2006</td>\n",
       "      <td>7</td>\n",
       "      <td>10</td>\n",
       "      <td>11</td>\n",
       "      <td>302.812199</td>\n",
       "      <td>7.3</td>\n",
       "      <td>7</td>\n",
       "      <td>10</td>\n",
       "      <td>7</td>\n",
       "      <td>...</td>\n",
       "      <td>14</td>\n",
       "      <td>2.53</td>\n",
       "      <td>122.620</td>\n",
       "      <td>11.3</td>\n",
       "      <td>9</td>\n",
       "      <td>10</td>\n",
       "      <td>15</td>\n",
       "      <td>14</td>\n",
       "      <td>2.53</td>\n",
       "      <td>122.585</td>\n",
       "    </tr>\n",
       "    <tr>\n",
       "      <th>4</th>\n",
       "      <td>1</td>\n",
       "      <td>2006</td>\n",
       "      <td>7</td>\n",
       "      <td>10</td>\n",
       "      <td>12</td>\n",
       "      <td>384.783406</td>\n",
       "      <td>8.2</td>\n",
       "      <td>7</td>\n",
       "      <td>12</td>\n",
       "      <td>8</td>\n",
       "      <td>...</td>\n",
       "      <td>16</td>\n",
       "      <td>2.53</td>\n",
       "      <td>122.604</td>\n",
       "      <td>14.4</td>\n",
       "      <td>12</td>\n",
       "      <td>12</td>\n",
       "      <td>18</td>\n",
       "      <td>16</td>\n",
       "      <td>2.53</td>\n",
       "      <td>122.575</td>\n",
       "    </tr>\n",
       "  </tbody>\n",
       "</table>\n",
       "<p>5 rows × 48 columns</p>\n",
       "</div>"
      ],
      "text/plain": [
       "   홍수사상번호     연  월   일  시간         유입량  데이터집단 1  Unnamed: 7  Unnamed: 8  \\\n",
       "0       1  2006  7  10   8  189.100000      6.4           7           7   \n",
       "1       1  2006  7  10   9  216.951962      6.3           7           8   \n",
       "2       1  2006  7  10  10  251.424419      6.4           7           9   \n",
       "3       1  2006  7  10  11  302.812199      7.3           7          10   \n",
       "4       1  2006  7  10  12  384.783406      8.2           7          12   \n",
       "\n",
       "   Unnamed: 9  ...  Unnamed: 38  Unnamed: 39  Unnamed: 40  데이터 집단 6  \\\n",
       "0           7  ...            8         2.54      122.660       6.4   \n",
       "1           7  ...           10         2.53      122.648       7.3   \n",
       "2           7  ...           11         2.53      122.636       8.2   \n",
       "3           7  ...           14         2.53      122.620      11.3   \n",
       "4           8  ...           16         2.53      122.604      14.4   \n",
       "\n",
       "   Unnamed: 42  Unnamed: 43  Unnamed: 44  Unnamed: 45  Unnamed: 46  \\\n",
       "0            7            7            8            8         2.54   \n",
       "1            7            8           10           10         2.53   \n",
       "2            7            9           10           11         2.53   \n",
       "3            9           10           15           14         2.53   \n",
       "4           12           12           18           16         2.53   \n",
       "\n",
       "   Unnamed: 47  \n",
       "0      122.610  \n",
       "1      122.600  \n",
       "2      122.590  \n",
       "3      122.585  \n",
       "4      122.575  \n",
       "\n",
       "[5 rows x 48 columns]"
      ]
     },
     "execution_count": 39,
     "metadata": {},
     "output_type": "execute_result"
    }
   ],
   "source": [
    "from os.path import join\n",
    "df = pd.read_excel('rain_data.xlsx')\n",
    "df.head()"
   ]
  },
  {
   "cell_type": "code",
   "execution_count": null,
   "id": "c2c04683",
   "metadata": {},
   "outputs": [],
   "source": []
  },
  {
   "cell_type": "markdown",
   "id": "f8fc4ff6",
   "metadata": {},
   "source": [
    "주희 여기에서 실수 했다 . "
   ]
  },
  {
   "cell_type": "code",
   "execution_count": 40,
   "id": "66ce4dac",
   "metadata": {
    "ExecuteTime": {
     "end_time": "2021-09-10T11:01:26.934588Z",
     "start_time": "2021-09-10T11:01:26.931089Z"
    }
   },
   "outputs": [],
   "source": [
    "# df_metrix 만드는 과정\n",
    "df_matrix = df.to_numpy()\n",
    "df_matrix = df_matrix[0:train_num_25, 5:]\n",
    "# 5 가 의미하는 것은 홍수 번호, 연, 월 일 시간 을 의미하는것 -2 는 뒤에 뭐가 있ㅇ는거 \n",
    "# 맨 앞은 뭔가 잇ㄷ아고 한다. \n",
    "#train_num_25 까지 잘랐다고 한다.  26을 뺀거라고 이해하면 ㄷㅚㄴ다. \n",
    "# df_matrix = df_matrix.astype('float32')\n",
    "# df_matrix"
   ]
  },
  {
   "cell_type": "code",
   "execution_count": 41,
   "id": "b19e4fc6",
   "metadata": {
    "ExecuteTime": {
     "end_time": "2021-09-10T11:01:27.029197Z",
     "start_time": "2021-09-10T11:01:27.026647Z"
    }
   },
   "outputs": [],
   "source": [
    "# scaler = MinMaxScaler(feature_range=(0, 1))\n",
    "# df_matrix = scaler.fit_transform(df_matrix)\n",
    "\n"
   ]
  },
  {
   "cell_type": "code",
   "execution_count": 42,
   "id": "9277fdaa",
   "metadata": {
    "ExecuteTime": {
     "end_time": "2021-09-10T11:01:27.169407Z",
     "start_time": "2021-09-10T11:01:27.125007Z"
    }
   },
   "outputs": [
    {
     "name": "stdout",
     "output_type": "stream",
     "text": [
      "[[189.1         6.4         7.        ...   8.          2.54\n",
      "  122.61     ]\n",
      " [216.9519618   6.3         7.        ...  10.          2.53\n",
      "  122.6      ]\n",
      " [251.4244187   6.4         7.        ...  11.          2.53\n",
      "  122.59     ]\n",
      " ...\n",
      " [481.1030831   3.3854      1.        ...   1.          2.96\n",
      "  137.165    ]\n",
      " [470.4581089   3.2841      1.        ...   1.          2.94\n",
      "  137.18     ]\n",
      " [        nan  14.2576     32.        ...   0.          1.93\n",
      "  120.515    ]]\n",
      "(2886, 216)\n"
     ]
    }
   ],
   "source": [
    "print(df_matrix)\n",
    "# df_matrix, n_hours =  \n",
    "# \n",
    "lag = series_to_supervised(df_matrix, n_hours,1)\n",
    "lag = lag.values\n",
    "\n",
    "tmp = lag.shape[1]-42\n",
    "# lag.shape 가 전체 칼럼 수이다 .그 중 t-1,2,3, 이 올것이다. 그 t 에서 유입량만 들어오게 ㄷㅚㄴ다. \n",
    "\n",
    "lag = lag[:,0:tmp]\n",
    "\n",
    "print(lag.shape)"
   ]
  },
  {
   "cell_type": "code",
   "execution_count": null,
   "id": "7db18b2a",
   "metadata": {},
   "outputs": [],
   "source": []
  },
  {
   "cell_type": "code",
   "execution_count": 43,
   "id": "d3da5c77",
   "metadata": {
    "ExecuteTime": {
     "end_time": "2021-09-10T11:01:27.271316Z",
     "start_time": "2021-09-10T11:01:27.268321Z"
    }
   },
   "outputs": [],
   "source": [
    "n_train_hours = train_num_19\n",
    "train = lag[:n_train_hours, :]\n",
    "test = lag[n_train_hours:, :]"
   ]
  },
  {
   "cell_type": "code",
   "execution_count": null,
   "id": "80e5496b",
   "metadata": {},
   "outputs": [],
   "source": []
  },
  {
   "cell_type": "code",
   "execution_count": null,
   "id": "37bb915f",
   "metadata": {},
   "outputs": [],
   "source": []
  },
  {
   "cell_type": "code",
   "execution_count": null,
   "id": "e95a6de7",
   "metadata": {},
   "outputs": [],
   "source": []
  },
  {
   "cell_type": "markdown",
   "id": "98612109",
   "metadata": {},
   "source": [
    "라벨링 할때 쓰는 것이라고 한다. \n",
    "test 는 19~25 번 를 넣은 것이다. "
   ]
  },
  {
   "cell_type": "code",
   "execution_count": 56,
   "id": "a855a025",
   "metadata": {
    "ExecuteTime": {
     "end_time": "2021-09-10T12:50:41.240419Z",
     "start_time": "2021-09-10T12:50:41.232163Z"
    },
    "scrolled": false
   },
   "outputs": [
    {
     "name": "stdout",
     "output_type": "stream",
     "text": [
      "(1934, 215) 1934 (1934,)\n",
      "---------------------------------------------------------------------------\n",
      "train_X\n",
      "1934\n",
      "[[189.1          6.4          7.         ...  16.           2.53\n",
      "  122.575     ]\n",
      " [216.9519618    6.3          7.         ...  17.           2.53\n",
      "  122.565     ]\n",
      " [251.4244187    6.4          7.         ...  21.           2.53\n",
      "  122.555     ]\n",
      " ...\n",
      " [929.6042269   86.4227      79.         ...   6.           1.95\n",
      "  130.07      ]\n",
      " [917.2956892   86.3195      79.         ...   3.           1.94\n",
      "  130.035     ]\n",
      " [ 63.57928546  60.7854      50.         ...   0.           1.94\n",
      "  130.005     ]]\n",
      "---------------------------------------------------------------------------\n",
      "train_y\n",
      "1934\n",
      "[ 8.2    11.3    14.4    ... 59.8524 58.5964 57.6765]\n",
      "---------------------------------------------------------------------------\n",
      "test_X\n",
      "952\n",
      "[[ 65.96683605  60.7854      50.         ...   0.           1.93\n",
      "  129.975     ]\n",
      " [ 69.46720861  59.8524      50.         ...   0.           1.92\n",
      "  129.94      ]\n",
      " [ 74.2087314   58.5964      36.         ...   0.           1.91\n",
      "  129.91      ]\n",
      " ...\n",
      " [536.6643676   48.0015      15.         ...   1.           3.\n",
      "  137.145     ]\n",
      " [530.9465094   42.1892      15.         ...   1.           2.98\n",
      "  137.155     ]\n",
      " [522.9894429   36.5129      10.         ...   1.           2.96\n",
      "  137.165     ]]\n",
      "---------------------------------------------------------------------------\n",
      "test_y\n",
      "952\n"
     ]
    }
   ],
   "source": [
    "n_obs = n_hours * n_features\n",
    "train_X, train_y = train[:, :n_obs], train[:, -n_features]\n",
    "test_X, test_y = test[:, :n_obs], test[:, -n_features]\n",
    "print(train_X.shape, len(train_X), train_y.shape)\n",
    "print(\"---------------------------------------------------------------------------\")\n",
    "print(\"train_X\")\n",
    "print(len(train_X))\n",
    "print(train_X)\n",
    "\n",
    "print(\"---------------------------------------------------------------------------\")\n",
    "print(\"train_y\")\n",
    "print(len(train_y))\n",
    "print(train_y)\n",
    "print(\"---------------------------------------------------------------------------\")\n",
    "print(\"test_X\")\n",
    "print(len(test_X))\n",
    "print(test_X)\n",
    "print(\"---------------------------------------------------------------------------\")\n",
    "print(\"test_y\")\n",
    "print(len(test_y))\n",
    "# print(test_y)"
   ]
  },
  {
   "cell_type": "markdown",
   "id": "18b6e026",
   "metadata": {},
   "source": [
    "394536 은 1934 * 204 인 상황이다. 즉, train_X 의 크기를 의미하는 것이다 ."
   ]
  },
  {
   "cell_type": "code",
   "execution_count": 49,
   "id": "fe5b8ce2",
   "metadata": {
    "ExecuteTime": {
     "end_time": "2021-09-10T11:08:55.969620Z",
     "start_time": "2021-09-10T11:08:55.961556Z"
    }
   },
   "outputs": [
    {
     "name": "stdout",
     "output_type": "stream",
     "text": [
      "before reshape\n",
      "train_X.shape[0], n_hours, n_features\n",
      "1934 5 43\n",
      "\n",
      "after reshape\n",
      "train_X.shape[0], n_hours, n_features\n",
      "1934 5 43\n",
      "\n",
      "train_X = train_X.reshaped\n",
      "\n",
      "train_X.shape = train_X.reshape\n",
      "[[[189.1          6.4          7.         ...   8.           2.54\n",
      "   122.61      ]\n",
      "  [216.9519618    6.3          7.         ...  10.           2.53\n",
      "   122.6       ]\n",
      "  [251.4244187    6.4          7.         ...  11.           2.53\n",
      "   122.59      ]\n",
      "  [302.812199     7.3          7.         ...  14.           2.53\n",
      "   122.585     ]\n",
      "  [384.7834064    8.2          7.         ...  16.           2.53\n",
      "   122.575     ]]\n",
      "\n",
      " [[216.9519618    6.3          7.         ...  10.           2.53\n",
      "   122.6       ]\n",
      "  [251.4244187    6.4          7.         ...  11.           2.53\n",
      "   122.59      ]\n",
      "  [302.812199     7.3          7.         ...  14.           2.53\n",
      "   122.585     ]\n",
      "  [384.7834064    8.2          7.         ...  16.           2.53\n",
      "   122.575     ]\n",
      "  [512.5012279   11.3          7.         ...  17.           2.53\n",
      "   122.565     ]]\n",
      "\n",
      " [[251.4244187    6.4          7.         ...  11.           2.53\n",
      "   122.59      ]\n",
      "  [302.812199     7.3          7.         ...  14.           2.53\n",
      "   122.585     ]\n",
      "  [384.7834064    8.2          7.         ...  16.           2.53\n",
      "   122.575     ]\n",
      "  [512.5012279   11.3          7.         ...  17.           2.53\n",
      "   122.565     ]\n",
      "  [701.5026217   14.4          9.         ...  21.           2.53\n",
      "   122.555     ]]\n",
      "\n",
      " ...\n",
      "\n",
      " [[929.6042269   86.4227      79.         ...  33.           4.3\n",
      "   130.25      ]\n",
      "  [917.2956892   86.3195      79.         ...  17.           4.23\n",
      "   130.33      ]\n",
      "  [ 63.57928546  60.7854      50.         ...   7.           1.97\n",
      "   130.13      ]\n",
      "  [ 65.96683605  60.7854      50.         ...   7.           1.96\n",
      "   130.1       ]\n",
      "  [ 69.46720861  59.8524      50.         ...   6.           1.95\n",
      "   130.07      ]]\n",
      "\n",
      " [[917.2956892   86.3195      79.         ...  17.           4.23\n",
      "   130.33      ]\n",
      "  [ 63.57928546  60.7854      50.         ...   7.           1.97\n",
      "   130.13      ]\n",
      "  [ 65.96683605  60.7854      50.         ...   7.           1.96\n",
      "   130.1       ]\n",
      "  [ 69.46720861  59.8524      50.         ...   6.           1.95\n",
      "   130.07      ]\n",
      "  [ 74.2087314   58.5964      36.         ...   3.           1.94\n",
      "   130.035     ]]\n",
      "\n",
      " [[ 63.57928546  60.7854      50.         ...   7.           1.97\n",
      "   130.13      ]\n",
      "  [ 65.96683605  60.7854      50.         ...   7.           1.96\n",
      "   130.1       ]\n",
      "  [ 69.46720861  59.8524      50.         ...   6.           1.95\n",
      "   130.07      ]\n",
      "  [ 74.2087314   58.5964      36.         ...   3.           1.94\n",
      "   130.035     ]\n",
      "  [ 80.2773562   57.6765      35.         ...   0.           1.94\n",
      "   130.005     ]]]\n",
      "[[[189.1          6.4          7.         ...   8.           2.54\n",
      "   122.61      ]\n",
      "  [216.9519618    6.3          7.         ...  10.           2.53\n",
      "   122.6       ]\n",
      "  [251.4244187    6.4          7.         ...  11.           2.53\n",
      "   122.59      ]\n",
      "  [302.812199     7.3          7.         ...  14.           2.53\n",
      "   122.585     ]\n",
      "  [384.7834064    8.2          7.         ...  16.           2.53\n",
      "   122.575     ]]\n",
      "\n",
      " [[216.9519618    6.3          7.         ...  10.           2.53\n",
      "   122.6       ]\n",
      "  [251.4244187    6.4          7.         ...  11.           2.53\n",
      "   122.59      ]\n",
      "  [302.812199     7.3          7.         ...  14.           2.53\n",
      "   122.585     ]\n",
      "  [384.7834064    8.2          7.         ...  16.           2.53\n",
      "   122.575     ]\n",
      "  [512.5012279   11.3          7.         ...  17.           2.53\n",
      "   122.565     ]]\n",
      "\n",
      " [[251.4244187    6.4          7.         ...  11.           2.53\n",
      "   122.59      ]\n",
      "  [302.812199     7.3          7.         ...  14.           2.53\n",
      "   122.585     ]\n",
      "  [384.7834064    8.2          7.         ...  16.           2.53\n",
      "   122.575     ]\n",
      "  [512.5012279   11.3          7.         ...  17.           2.53\n",
      "   122.565     ]\n",
      "  [701.5026217   14.4          9.         ...  21.           2.53\n",
      "   122.555     ]]\n",
      "\n",
      " ...\n",
      "\n",
      " [[929.6042269   86.4227      79.         ...  33.           4.3\n",
      "   130.25      ]\n",
      "  [917.2956892   86.3195      79.         ...  17.           4.23\n",
      "   130.33      ]\n",
      "  [ 63.57928546  60.7854      50.         ...   7.           1.97\n",
      "   130.13      ]\n",
      "  [ 65.96683605  60.7854      50.         ...   7.           1.96\n",
      "   130.1       ]\n",
      "  [ 69.46720861  59.8524      50.         ...   6.           1.95\n",
      "   130.07      ]]\n",
      "\n",
      " [[917.2956892   86.3195      79.         ...  17.           4.23\n",
      "   130.33      ]\n",
      "  [ 63.57928546  60.7854      50.         ...   7.           1.97\n",
      "   130.13      ]\n",
      "  [ 65.96683605  60.7854      50.         ...   7.           1.96\n",
      "   130.1       ]\n",
      "  [ 69.46720861  59.8524      50.         ...   6.           1.95\n",
      "   130.07      ]\n",
      "  [ 74.2087314   58.5964      36.         ...   3.           1.94\n",
      "   130.035     ]]\n",
      "\n",
      " [[ 63.57928546  60.7854      50.         ...   7.           1.97\n",
      "   130.13      ]\n",
      "  [ 65.96683605  60.7854      50.         ...   7.           1.96\n",
      "   130.1       ]\n",
      "  [ 69.46720861  59.8524      50.         ...   6.           1.95\n",
      "   130.07      ]\n",
      "  [ 74.2087314   58.5964      36.         ...   3.           1.94\n",
      "   130.035     ]\n",
      "  [ 80.2773562   57.6765      35.         ...   0.           1.94\n",
      "   130.005     ]]]\n",
      "\n",
      "\n"
     ]
    }
   ],
   "source": [
    "# reshape input to be 3D [samples, timesteps, features]\n",
    "print(\"before reshape\")\n",
    "print(\"train_X.shape[0], n_hours, n_features\")\n",
    "print(train_X.shape[0], n_hours, n_features)\n",
    "\n",
    "print(\"\\nafter reshape\")\n",
    "train_X = train_X.reshape((train_X.shape[0], n_hours, n_features))\n",
    "print(\"train_X.shape[0], n_hours, n_features\")\n",
    "print(train_X.shape[0], n_hours, n_features)\n",
    "print(\"\\ntrain_X = train_X.reshaped\")\n",
    "print(\"\\ntrain_X.shape = train_X.reshape\")\n",
    "print(train_X)\n",
    "print(train_X)\n",
    "\n",
    "print(\"\\n\")\n",
    "test_X = test_X.reshape((test_X.shape[0], n_hours, n_features))\n",
    "# print(\"train_X.shape, train_y.shape, test_X.shape, test_y.shape\")\n",
    "# print(train_X.shape, train_y.shape, test_X.shape, test_y.shape)\n"
   ]
  },
  {
   "cell_type": "code",
   "execution_count": null,
   "id": "d8dbe93d",
   "metadata": {},
   "outputs": [],
   "source": []
  },
  {
   "cell_type": "code",
   "execution_count": null,
   "id": "fc672a21",
   "metadata": {},
   "outputs": [],
   "source": []
  },
  {
   "cell_type": "code",
   "execution_count": 22,
   "id": "560a24f6",
   "metadata": {
    "ExecuteTime": {
     "end_time": "2021-08-26T06:00:21.577676Z",
     "start_time": "2021-08-26T06:00:21.359823Z"
    }
   },
   "outputs": [],
   "source": [
    "#testing\n",
    "model = tf.keras.Sequential()\n",
    "model.add(GRU(units = 50,\n",
    "              # dropout =0.2,\n",
    "              return_sequences = True,\n",
    "              input_shape = (train_X.shape[1],train_X.shape[2]),\n",
    "              activation = 'tanh'))\n",
    "model.add(SimpleRNN(50))\n",
    "model.add(Dense(1))"
   ]
  },
  {
   "cell_type": "code",
   "execution_count": 53,
   "id": "cfa83645",
   "metadata": {
    "ExecuteTime": {
     "end_time": "2021-09-10T12:41:46.817509Z",
     "start_time": "2021-09-10T12:41:46.813234Z"
    }
   },
   "outputs": [
    {
     "name": "stdout",
     "output_type": "stream",
     "text": [
      "train_X.shape\n",
      "(1934, 5, 43)\n",
      "train_y\n",
      "(1934,)\n",
      "test_X\n",
      "(952, 5, 43)\n",
      "test_y\n",
      "(952,)\n"
     ]
    }
   ],
   "source": [
    "print(\"train_X.shape\")\n",
    "print(train_X.shape)\n",
    "print(\"train_y\")\n",
    "print(train_y.shape)\n",
    "print(\"test_X\")\n",
    "print(test_X.shape)\n",
    "print(\"test_y\")\n",
    "print(test_y.shape)"
   ]
  },
  {
   "cell_type": "code",
   "execution_count": 23,
   "id": "a252a1bc",
   "metadata": {
    "ExecuteTime": {
     "end_time": "2021-08-26T06:00:35.804037Z",
     "start_time": "2021-08-26T06:00:22.212731Z"
    }
   },
   "outputs": [
    {
     "name": "stdout",
     "output_type": "stream",
     "text": [
      "Epoch 1/90\n",
      "20/20 - 0s - loss: 9666.7715 - val_loss: 4039.2771\n",
      "Epoch 2/90\n",
      "20/20 - 0s - loss: 9146.2920 - val_loss: 3805.7651\n",
      "Epoch 3/90\n",
      "20/20 - 0s - loss: 8847.0342 - val_loss: 3677.2634\n",
      "Epoch 4/90\n",
      "20/20 - 0s - loss: 8656.0518 - val_loss: 3582.9285\n",
      "Epoch 5/90\n",
      "20/20 - 0s - loss: 8505.0996 - val_loss: 3502.1399\n",
      "Epoch 6/90\n",
      "20/20 - 0s - loss: 8368.7666 - val_loss: 3426.7290\n",
      "Epoch 7/90\n",
      "20/20 - 0s - loss: 8240.2148 - val_loss: 3354.8523\n",
      "Epoch 8/90\n",
      "20/20 - 0s - loss: 8117.5889 - val_loss: 3283.8843\n",
      "Epoch 9/90\n",
      "20/20 - 0s - loss: 7999.1440 - val_loss: 3215.7217\n",
      "Epoch 10/90\n",
      "20/20 - 0s - loss: 7884.1616 - val_loss: 3148.7432\n",
      "Epoch 11/90\n",
      "20/20 - 0s - loss: 7772.3228 - val_loss: 3084.0291\n",
      "Epoch 12/90\n",
      "20/20 - 0s - loss: 7662.4888 - val_loss: 3021.8762\n",
      "Epoch 13/90\n",
      "20/20 - 0s - loss: 7553.8872 - val_loss: 2962.3972\n",
      "Epoch 14/90\n",
      "20/20 - 0s - loss: 7448.0679 - val_loss: 2904.6426\n",
      "Epoch 15/90\n",
      "20/20 - 0s - loss: 7345.4722 - val_loss: 2849.6392\n",
      "Epoch 16/90\n",
      "20/20 - 0s - loss: 7245.5952 - val_loss: 2793.6350\n",
      "Epoch 17/90\n",
      "20/20 - 0s - loss: 7146.9976 - val_loss: 2739.5762\n",
      "Epoch 18/90\n",
      "20/20 - 0s - loss: 7050.9800 - val_loss: 2688.5332\n",
      "Epoch 19/90\n",
      "20/20 - 0s - loss: 6956.4424 - val_loss: 2637.0811\n",
      "Epoch 20/90\n",
      "20/20 - 0s - loss: 6863.5908 - val_loss: 2587.7305\n",
      "Epoch 21/90\n",
      "20/20 - 0s - loss: 6773.4229 - val_loss: 2538.8250\n",
      "Epoch 22/90\n",
      "20/20 - 0s - loss: 6684.1846 - val_loss: 2492.3015\n",
      "Epoch 23/90\n",
      "20/20 - 0s - loss: 6596.8633 - val_loss: 2446.4204\n",
      "Epoch 24/90\n",
      "20/20 - 0s - loss: 6511.1831 - val_loss: 2401.4932\n",
      "Epoch 25/90\n",
      "20/20 - 0s - loss: 6425.7559 - val_loss: 2353.9956\n",
      "Epoch 26/90\n",
      "20/20 - 0s - loss: 6342.4629 - val_loss: 2311.6138\n",
      "Epoch 27/90\n",
      "20/20 - 0s - loss: 6261.7573 - val_loss: 2268.1218\n",
      "Epoch 28/90\n",
      "20/20 - 0s - loss: 6179.9150 - val_loss: 2224.7976\n",
      "Epoch 29/90\n",
      "20/20 - 0s - loss: 6103.1113 - val_loss: 2192.2715\n",
      "Epoch 30/90\n",
      "20/20 - 0s - loss: 6025.2319 - val_loss: 2146.2305\n",
      "Epoch 31/90\n",
      "20/20 - 0s - loss: 5947.2856 - val_loss: 2109.2131\n",
      "Epoch 32/90\n",
      "20/20 - 0s - loss: 5871.5459 - val_loss: 2067.5771\n",
      "Epoch 33/90\n",
      "20/20 - 0s - loss: 5797.1060 - val_loss: 2033.3544\n",
      "Epoch 34/90\n",
      "20/20 - 0s - loss: 5725.4346 - val_loss: 1997.7010\n",
      "Epoch 35/90\n",
      "20/20 - 0s - loss: 5652.3330 - val_loss: 1961.5475\n",
      "Epoch 36/90\n",
      "20/20 - 0s - loss: 5581.6387 - val_loss: 1926.4694\n",
      "Epoch 37/90\n",
      "20/20 - 0s - loss: 5513.4941 - val_loss: 1894.8339\n",
      "Epoch 38/90\n",
      "20/20 - 0s - loss: 5444.1519 - val_loss: 1857.7156\n",
      "Epoch 39/90\n",
      "20/20 - 0s - loss: 5378.1919 - val_loss: 1825.0160\n",
      "Epoch 40/90\n",
      "20/20 - 0s - loss: 5313.5020 - val_loss: 1791.7687\n",
      "Epoch 41/90\n",
      "20/20 - 0s - loss: 5247.5425 - val_loss: 1761.6213\n",
      "Epoch 42/90\n",
      "20/20 - 0s - loss: 5183.0259 - val_loss: 1730.1848\n",
      "Epoch 43/90\n",
      "20/20 - 0s - loss: 5120.9146 - val_loss: 1703.5409\n",
      "Epoch 44/90\n",
      "20/20 - 0s - loss: 5064.2314 - val_loss: 1681.7480\n",
      "Epoch 45/90\n",
      "20/20 - 0s - loss: 5009.7100 - val_loss: 1647.9323\n",
      "Epoch 46/90\n",
      "20/20 - 0s - loss: 4941.2524 - val_loss: 1613.7302\n",
      "Epoch 47/90\n",
      "20/20 - 0s - loss: 4880.5615 - val_loss: 1583.2430\n",
      "Epoch 48/90\n",
      "20/20 - 0s - loss: 4821.2593 - val_loss: 1556.8988\n",
      "Epoch 49/90\n",
      "20/20 - 0s - loss: 4765.4409 - val_loss: 1536.0341\n",
      "Epoch 50/90\n",
      "20/20 - 0s - loss: 4711.2295 - val_loss: 1507.3218\n",
      "Epoch 51/90\n",
      "20/20 - 0s - loss: 4656.4155 - val_loss: 1491.6561\n",
      "Epoch 52/90\n",
      "20/20 - 0s - loss: 4606.3975 - val_loss: 1458.9122\n",
      "Epoch 53/90\n",
      "20/20 - 0s - loss: 4555.5767 - val_loss: 1436.1084\n",
      "Epoch 54/90\n",
      "20/20 - 0s - loss: 4496.9614 - val_loss: 1413.1570\n",
      "Epoch 55/90\n",
      "20/20 - 0s - loss: 4452.3350 - val_loss: 1393.8875\n",
      "Epoch 56/90\n",
      "20/20 - 0s - loss: 4395.6372 - val_loss: 1367.0645\n",
      "Epoch 57/90\n",
      "20/20 - 0s - loss: 4343.3599 - val_loss: 1344.1536\n",
      "Epoch 58/90\n",
      "20/20 - 0s - loss: 4292.5972 - val_loss: 1328.3989\n",
      "Epoch 59/90\n",
      "20/20 - 0s - loss: 4253.6455 - val_loss: 1304.5714\n",
      "Epoch 60/90\n",
      "20/20 - 0s - loss: 4201.8345 - val_loss: 1281.4170\n",
      "Epoch 61/90\n",
      "20/20 - 0s - loss: 4152.2461 - val_loss: 1260.1765\n",
      "Epoch 62/90\n",
      "20/20 - 0s - loss: 4104.9639 - val_loss: 1238.8267\n",
      "Epoch 63/90\n",
      "20/20 - 0s - loss: 4059.3538 - val_loss: 1221.0181\n",
      "Epoch 64/90\n",
      "20/20 - 0s - loss: 4011.8389 - val_loss: 1200.3933\n",
      "Epoch 65/90\n",
      "20/20 - 0s - loss: 3966.0159 - val_loss: 1179.5610\n",
      "Epoch 66/90\n",
      "20/20 - 0s - loss: 3924.7368 - val_loss: 1160.5220\n",
      "Epoch 67/90\n",
      "20/20 - 0s - loss: 3878.7627 - val_loss: 1145.0784\n",
      "Epoch 68/90\n",
      "20/20 - 0s - loss: 3836.8088 - val_loss: 1122.0768\n",
      "Epoch 69/90\n",
      "20/20 - 0s - loss: 3793.4983 - val_loss: 1110.1195\n",
      "Epoch 70/90\n",
      "20/20 - 0s - loss: 3753.9214 - val_loss: 1087.4681\n",
      "Epoch 71/90\n",
      "20/20 - 0s - loss: 3711.8796 - val_loss: 1074.5763\n",
      "Epoch 72/90\n",
      "20/20 - 0s - loss: 3672.8245 - val_loss: 1054.7511\n",
      "Epoch 73/90\n",
      "20/20 - 0s - loss: 3632.0068 - val_loss: 1042.1558\n",
      "Epoch 74/90\n",
      "20/20 - 0s - loss: 3595.9285 - val_loss: 1022.3419\n",
      "Epoch 75/90\n",
      "20/20 - 0s - loss: 3555.6475 - val_loss: 1018.3439\n",
      "Epoch 76/90\n",
      "20/20 - 0s - loss: 3523.8826 - val_loss: 992.7110\n",
      "Epoch 77/90\n",
      "20/20 - 0s - loss: 3481.4475 - val_loss: 978.8934\n",
      "Epoch 78/90\n",
      "20/20 - 0s - loss: 3445.3599 - val_loss: 969.6602\n",
      "Epoch 79/90\n",
      "20/20 - 0s - loss: 3410.8833 - val_loss: 951.2441\n",
      "Epoch 80/90\n",
      "20/20 - 0s - loss: 3384.0273 - val_loss: 945.2885\n",
      "Epoch 81/90\n",
      "20/20 - 0s - loss: 3352.0234 - val_loss: 932.9351\n",
      "Epoch 82/90\n",
      "20/20 - 0s - loss: 3310.5391 - val_loss: 915.9894\n",
      "Epoch 83/90\n",
      "20/20 - 0s - loss: 3274.3594 - val_loss: 908.3863\n",
      "Epoch 84/90\n",
      "20/20 - 0s - loss: 3247.1885 - val_loss: 892.2386\n",
      "Epoch 85/90\n",
      "20/20 - 0s - loss: 3207.2534 - val_loss: 874.5798\n",
      "Epoch 86/90\n",
      "20/20 - 0s - loss: 3173.3582 - val_loss: 862.3621\n",
      "Epoch 87/90\n",
      "20/20 - 0s - loss: 3140.1482 - val_loss: 848.6640\n",
      "Epoch 88/90\n",
      "20/20 - 0s - loss: 3109.5977 - val_loss: 836.5573\n",
      "Epoch 89/90\n",
      "20/20 - 0s - loss: 3077.2385 - val_loss: 824.9100\n",
      "Epoch 90/90\n",
      "20/20 - 0s - loss: 3046.6238 - val_loss: 813.3229\n"
     ]
    }
   ],
   "source": [
    "adam = tf.keras.optimizers.Adam(lr =0.01)\n",
    "\n",
    "model.compile(loss='mse', optimizer='adam')\n",
    "# fit network\n",
    "history = model.fit(train_X, train_y, epochs=90, batch_size=100, validation_data=(test_X, test_y), verbose=2, shuffle=False)"
   ]
  },
  {
   "cell_type": "code",
   "execution_count": null,
   "id": "bfe32797",
   "metadata": {},
   "outputs": [],
   "source": []
  },
  {
   "cell_type": "code",
   "execution_count": 24,
   "id": "6858e7d0",
   "metadata": {
    "ExecuteTime": {
     "end_time": "2021-08-26T06:00:36.567767Z",
     "start_time": "2021-08-26T06:00:36.010671Z"
    }
   },
   "outputs": [],
   "source": [
    "pred = model.predict(test_X)\n"
   ]
  },
  {
   "cell_type": "code",
   "execution_count": null,
   "id": "300fb57b",
   "metadata": {},
   "outputs": [],
   "source": []
  },
  {
   "cell_type": "code",
   "execution_count": 25,
   "id": "b307614d",
   "metadata": {
    "ExecuteTime": {
     "end_time": "2021-08-26T06:00:36.825330Z",
     "start_time": "2021-08-26T06:00:36.821525Z"
    }
   },
   "outputs": [
    {
     "name": "stdout",
     "output_type": "stream",
     "text": [
      "28.518814746944052\n"
     ]
    }
   ],
   "source": [
    "RMSE = mean_squared_error(test_y,pred)**0.5\n",
    "print(RMSE)"
   ]
  },
  {
   "cell_type": "code",
   "execution_count": null,
   "id": "bac7f28d",
   "metadata": {},
   "outputs": [],
   "source": []
  },
  {
   "cell_type": "code",
   "execution_count": 14,
   "id": "da3390ad",
   "metadata": {
    "ExecuteTime": {
     "end_time": "2021-08-26T05:59:53.446173Z",
     "start_time": "2021-08-26T05:59:53.433771Z"
    }
   },
   "outputs": [
    {
     "ename": "NameError",
     "evalue": "name 'history' is not defined",
     "output_type": "error",
     "traceback": [
      "\u001b[0;31m---------------------------------------------------------------------------\u001b[0m",
      "\u001b[0;31mNameError\u001b[0m                                 Traceback (most recent call last)",
      "\u001b[0;32m/var/folders/vv/vvx773p17_vcvtx6x274kj180000gn/T/ipykernel_60656/678617236.py\u001b[0m in \u001b[0;36m<module>\u001b[0;34m\u001b[0m\n\u001b[0;32m----> 1\u001b[0;31m \u001b[0mplt\u001b[0m\u001b[0;34m.\u001b[0m\u001b[0mplot\u001b[0m\u001b[0;34m(\u001b[0m\u001b[0mhistory\u001b[0m\u001b[0;34m.\u001b[0m\u001b[0mhistory\u001b[0m\u001b[0;34m[\u001b[0m\u001b[0;34m'loss'\u001b[0m\u001b[0;34m]\u001b[0m\u001b[0;34m,\u001b[0m\u001b[0mlabel\u001b[0m \u001b[0;34m=\u001b[0m \u001b[0;34m'train'\u001b[0m\u001b[0;34m)\u001b[0m\u001b[0;34m\u001b[0m\u001b[0;34m\u001b[0m\u001b[0m\n\u001b[0m\u001b[1;32m      2\u001b[0m \u001b[0mplt\u001b[0m\u001b[0;34m.\u001b[0m\u001b[0mplot\u001b[0m\u001b[0;34m(\u001b[0m\u001b[0mhistory\u001b[0m\u001b[0;34m.\u001b[0m\u001b[0mhistory\u001b[0m\u001b[0;34m[\u001b[0m\u001b[0;34m'val_loss'\u001b[0m\u001b[0;34m]\u001b[0m\u001b[0;34m,\u001b[0m \u001b[0mlabel\u001b[0m \u001b[0;34m=\u001b[0m \u001b[0;34m'test'\u001b[0m\u001b[0;34m)\u001b[0m\u001b[0;34m\u001b[0m\u001b[0;34m\u001b[0m\u001b[0m\n\u001b[1;32m      3\u001b[0m \u001b[0;34m\u001b[0m\u001b[0m\n\u001b[1;32m      4\u001b[0m \u001b[0mplt\u001b[0m\u001b[0;34m.\u001b[0m\u001b[0mshow\u001b[0m\u001b[0;34m(\u001b[0m\u001b[0;34m)\u001b[0m\u001b[0;34m\u001b[0m\u001b[0;34m\u001b[0m\u001b[0m\n\u001b[1;32m      5\u001b[0m \u001b[0;34m\u001b[0m\u001b[0m\n",
      "\u001b[0;31mNameError\u001b[0m: name 'history' is not defined"
     ]
    }
   ],
   "source": [
    "plt.plot(history.history['loss'],label = 'train')\n",
    "plt.plot(history.history['val_loss'], label = 'test')\n",
    "\n",
    "plt.show()\n",
    "\n",
    "\n",
    "plt.plot(pred,label='prediction')\n",
    "plt.plot(test_y,label='real')\n",
    "plt.show()\n"
   ]
  },
  {
   "cell_type": "code",
   "execution_count": null,
   "id": "f90e06e7",
   "metadata": {},
   "outputs": [],
   "source": []
  },
  {
   "cell_type": "code",
   "execution_count": null,
   "id": "f56b6227",
   "metadata": {},
   "outputs": [],
   "source": []
  },
  {
   "cell_type": "code",
   "execution_count": null,
   "id": "0474d70d",
   "metadata": {},
   "outputs": [],
   "source": []
  },
  {
   "cell_type": "code",
   "execution_count": null,
   "id": "e12bacc7",
   "metadata": {},
   "outputs": [],
   "source": []
  }
 ],
 "metadata": {
  "hide_input": false,
  "kernelspec": {
   "display_name": "Python 3 (ipykernel)",
   "language": "python",
   "name": "python3"
  },
  "language_info": {
   "codemirror_mode": {
    "name": "ipython",
    "version": 3
   },
   "file_extension": ".py",
   "mimetype": "text/x-python",
   "name": "python",
   "nbconvert_exporter": "python",
   "pygments_lexer": "ipython3",
   "version": "3.8.8"
  },
  "varInspector": {
   "cols": {
    "lenName": 16,
    "lenType": 16,
    "lenVar": 40
   },
   "kernels_config": {
    "python": {
     "delete_cmd_postfix": "",
     "delete_cmd_prefix": "del ",
     "library": "var_list.py",
     "varRefreshCmd": "print(var_dic_list())"
    },
    "r": {
     "delete_cmd_postfix": ") ",
     "delete_cmd_prefix": "rm(",
     "library": "var_list.r",
     "varRefreshCmd": "cat(var_dic_list()) "
    }
   },
   "types_to_exclude": [
    "module",
    "function",
    "builtin_function_or_method",
    "instance",
    "_Feature"
   ],
   "window_display": false
  }
 },
 "nbformat": 4,
 "nbformat_minor": 5
}
